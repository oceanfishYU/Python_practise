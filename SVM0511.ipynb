{
  "nbformat": 4,
  "nbformat_minor": 0,
  "metadata": {
    "colab": {
      "provenance": [],
      "authorship_tag": "ABX9TyMFTtTEv1Kpc/iURsC/05Fu",
      "include_colab_link": true
    },
    "kernelspec": {
      "name": "python3",
      "display_name": "Python 3"
    },
    "language_info": {
      "name": "python"
    }
  },
  "cells": [
    {
      "cell_type": "markdown",
      "metadata": {
        "id": "view-in-github",
        "colab_type": "text"
      },
      "source": [
        "<a href=\"https://colab.research.google.com/github/oceanfishYU/Python_practise/blob/main/SVM0511.ipynb\" target=\"_parent\"><img src=\"https://colab.research.google.com/assets/colab-badge.svg\" alt=\"Open In Colab\"/></a>"
      ]
    },
    {
      "cell_type": "code",
      "execution_count": null,
      "metadata": {
        "id": "hqS6vAsX5OFL"
      },
      "outputs": [],
      "source": [
        "import numpy as np\n",
        "import pandas as pd"
      ]
    },
    {
      "cell_type": "code",
      "source": [
        "x=np.array([3, 5, 9, 11, 2, 4, 7, 8])\n",
        "y=np.array([10, 12, 6, 2, 9, 10, 4, 1])\n",
        "g=np.array([1, 1, 2, 2, 3, 3, 4, 4])"
      ],
      "metadata": {
        "id": "J4D5Fef38Qmm"
      },
      "execution_count": null,
      "outputs": []
    },
    {
      "cell_type": "markdown",
      "source": [
        "g是用來分群的，下面點的顏色會用g來分"
      ],
      "metadata": {
        "id": "TvaKpiXQ9EEN"
      }
    },
    {
      "cell_type": "code",
      "source": [
        "import matplotlib.pyplot as plt\n",
        "\n",
        "plt.scatter(x,y,c=g)"
      ],
      "metadata": {
        "colab": {
          "base_uri": "https://localhost:8080/",
          "height": 283
        },
        "id": "T1V_-ARj8olF",
        "outputId": "2326adbc-1aaa-4d33-be89-07b119adac24"
      },
      "execution_count": null,
      "outputs": [
        {
          "output_type": "execute_result",
          "data": {
            "text/plain": [
              "<matplotlib.collections.PathCollection at 0x7f524a947850>"
            ]
          },
          "metadata": {},
          "execution_count": 3
        },
        {
          "output_type": "display_data",
          "data": {
            "text/plain": [
              "<Figure size 432x288 with 1 Axes>"
            ],
            "image/png": "[encoded data removed]"
          },
          "metadata": {
            "needs_background": "light"
          }
        }
      ]
    },
    {
      "cell_type": "markdown",
      "source": [
        "顏色也可以直接用1,2,3...，他們會代表某種顏色"
      ],
      "metadata": {
        "id": "urxp2alo87JQ"
      }
    },
    {
      "cell_type": "markdown",
      "source": [
        "#SVM"
      ],
      "metadata": {
        "id": "hT3i_Dbc9T9z"
      }
    },
    {
      "cell_type": "markdown",
      "source": [
        "##1.訓練模型"
      ],
      "metadata": {
        "id": "h4PFVYvQ9Xh9"
      }
    },
    {
      "cell_type": "code",
      "source": [
        "from sklearn.svm import SVC"
      ],
      "metadata": {
        "id": "b7xAMoVK9VxO"
      },
      "execution_count": null,
      "outputs": []
    },
    {
      "cell_type": "markdown",
      "source": [
        "sklearn.svm有很多模型，我們從sklearn.svml中取出SVM這個模型"
      ],
      "metadata": {
        "id": "OCtZQklV9lxw"
      }
    },
    {
      "cell_type": "code",
      "source": [
        "model=SVC()"
      ],
      "metadata": {
        "id": "fX11Cab5AfSq"
      },
      "execution_count": null,
      "outputs": []
    },
    {
      "cell_type": "markdown",
      "source": [
        "讓model=SVC這個模型"
      ],
      "metadata": {
        "id": "yRy0OSiLAlvL"
      }
    },
    {
      "cell_type": "code",
      "source": [
        "x.reshape(-1,1)"
      ],
      "metadata": {
        "colab": {
          "base_uri": "https://localhost:8080/"
        },
        "id": "9bNzYFVKApfY",
        "outputId": "444fd2de-ba79-4770-ea77-a36f3893fafb"
      },
      "execution_count": null,
      "outputs": [
        {
          "output_type": "execute_result",
          "data": {
            "text/plain": [
              "array([[ 3],\n",
              "       [ 5],\n",
              "       [ 9],\n",
              "       [11],\n",
              "       [ 2],\n",
              "       [ 4],\n",
              "       [ 7],\n",
              "       [ 8]])"
            ]
          },
          "metadata": {},
          "execution_count": 6
        }
      ]
    },
    {
      "cell_type": "markdown",
      "source": [
        "把x改成二維的，因為等等要把xy合在一起變成二微陣列，二微陣列才可以丟進模型裡"
      ],
      "metadata": {
        "id": "oNS-M9BPAxiO"
      }
    },
    {
      "cell_type": "code",
      "source": [
        "y.reshape(-1,1)"
      ],
      "metadata": {
        "colab": {
          "base_uri": "https://localhost:8080/"
        },
        "id": "n7fMo6zfAtg1",
        "outputId": "54f5aec8-de40-4218-f303-9158fae91dae"
      },
      "execution_count": null,
      "outputs": [
        {
          "output_type": "execute_result",
          "data": {
            "text/plain": [
              "array([[10],\n",
              "       [12],\n",
              "       [ 6],\n",
              "       [ 2],\n",
              "       [ 9],\n",
              "       [10],\n",
              "       [ 4],\n",
              "       [ 1]])"
            ]
          },
          "metadata": {},
          "execution_count": 7
        }
      ]
    },
    {
      "cell_type": "markdown",
      "source": [
        "把y改成二維的，因為等等要把xy合在一起變成二微陣列，二微陣列才可以丟進模型裡"
      ],
      "metadata": {
        "id": "OwSJNFgFA9qP"
      }
    },
    {
      "cell_type": "code",
      "source": [
        "x_y = np.concatenate([x.reshape(-1,1),y.reshape(-1,1)] , axis=1)\n",
        "x_y"
      ],
      "metadata": {
        "colab": {
          "base_uri": "https://localhost:8080/"
        },
        "id": "oeNYBT0oA_yA",
        "outputId": "e26f0ecc-fd4b-4bfc-dd52-767706a46a1a"
      },
      "execution_count": null,
      "outputs": [
        {
          "output_type": "execute_result",
          "data": {
            "text/plain": [
              "array([[ 3, 10],\n",
              "       [ 5, 12],\n",
              "       [ 9,  6],\n",
              "       [11,  2],\n",
              "       [ 2,  9],\n",
              "       [ 4, 10],\n",
              "       [ 7,  4],\n",
              "       [ 8,  1]])"
            ]
          },
          "metadata": {},
          "execution_count": 8
        }
      ]
    },
    {
      "cell_type": "markdown",
      "source": [
        "把x和y合併"
      ],
      "metadata": {
        "id": "XeVCrhaaBZMv"
      }
    },
    {
      "cell_type": "code",
      "source": [
        "g.reshape(-1,1)"
      ],
      "metadata": {
        "colab": {
          "base_uri": "https://localhost:8080/"
        },
        "id": "Ux1uVlUqBb9y",
        "outputId": "a3f15372-66ee-44fc-f459-303b068eb8fa"
      },
      "execution_count": null,
      "outputs": [
        {
          "output_type": "execute_result",
          "data": {
            "text/plain": [
              "array([[1],\n",
              "       [1],\n",
              "       [2],\n",
              "       [2],\n",
              "       [3],\n",
              "       [3],\n",
              "       [4],\n",
              "       [4]])"
            ]
          },
          "metadata": {},
          "execution_count": 9
        }
      ]
    },
    {
      "cell_type": "markdown",
      "source": [
        "把g也改成二維的，它等等要丟進模型當正確答案"
      ],
      "metadata": {
        "id": "lVYdGElMBgLI"
      }
    },
    {
      "cell_type": "code",
      "source": [
        "model.fit(x_y, g.reshape(-1,1))"
      ],
      "metadata": {
        "colab": {
          "base_uri": "https://localhost:8080/"
        },
        "id": "CaqT0iduBkyi",
        "outputId": "43bcac29-7a50-4171-b103-6f6f720a08e8"
      },
      "execution_count": null,
      "outputs": [
        {
          "output_type": "stream",
          "name": "stderr",
          "text": [
            "/usr/local/lib/python3.7/dist-packages/sklearn/utils/validation.py:993: DataConversionWarning: A column-vector y was passed when a 1d array was expected. Please change the shape of y to (n_samples, ), for example using ravel().\n",
            "  y = column_or_1d(y, warn=True)\n"
          ]
        },
        {
          "output_type": "execute_result",
          "data": {
            "text/plain": [
              "SVC()"
            ]
          },
          "metadata": {},
          "execution_count": 10
        }
      ]
    },
    {
      "cell_type": "markdown",
      "source": [
        "把x_y丟進去訓練，g是正確答案"
      ],
      "metadata": {
        "id": "XcFq8NdsBwsB"
      }
    },
    {
      "cell_type": "markdown",
      "source": [
        "x=np.array([3, 5, 9, 11, 2, 4, 7, 8])\n",
        "y=np.array([10, 12, 6, 2, 9, 10, 4, 1])\n",
        "g=np.array([1, 1, 2, 2, 3, 3, 4, 4])\n",
        "\n",
        "錯誤:x_y = [[3],[5],[9]...[10],[12]...]\n",
        "\n",
        "正確:x_y = [[3,10],[5,12]...]   g=[[1],[1],[2]...]"
      ],
      "metadata": {
        "id": "sKPnlkGcB10q"
      }
    },
    {
      "cell_type": "code",
      "source": [
        "model.predict([[5,12]])"
      ],
      "metadata": {
        "colab": {
          "base_uri": "https://localhost:8080/"
        },
        "id": "L3f_S0C4D7sb",
        "outputId": "1ac3ab88-4af1-4c75-91c2-79cc1adeaaf4"
      },
      "execution_count": null,
      "outputs": [
        {
          "output_type": "execute_result",
          "data": {
            "text/plain": [
              "array([1])"
            ]
          },
          "metadata": {},
          "execution_count": 11
        }
      ]
    },
    {
      "cell_type": "markdown",
      "source": [
        "model預測[[5,12]]的結果為1"
      ],
      "metadata": {
        "id": "i19Q7M3aEYoP"
      }
    },
    {
      "cell_type": "code",
      "source": [
        "pg=model.predict(x_y)\n",
        "pg"
      ],
      "metadata": {
        "colab": {
          "base_uri": "https://localhost:8080/"
        },
        "id": "9jbMACyDEPb1",
        "outputId": "1ba33c42-663f-40a7-e3ba-b143e57492cf"
      },
      "execution_count": null,
      "outputs": [
        {
          "output_type": "execute_result",
          "data": {
            "text/plain": [
              "array([3, 1, 2, 2, 3, 3, 4, 4])"
            ]
          },
          "metadata": {},
          "execution_count": 12
        }
      ]
    },
    {
      "cell_type": "markdown",
      "source": [
        "model預測x_y[連結文字]的結果為[3, 1, 2, 2, 3, 3, 4, 4]"
      ],
      "metadata": {
        "id": "IhT_esh9EgWL"
      }
    },
    {
      "cell_type": "code",
      "source": [
        "plt.scatter(x,y,c=pg)"
      ],
      "metadata": {
        "colab": {
          "base_uri": "https://localhost:8080/",
          "height": 283
        },
        "id": "5snSrTOTEnfQ",
        "outputId": "bee94166-ef1e-4b9d-f504-27624f6d386a"
      },
      "execution_count": null,
      "outputs": [
        {
          "output_type": "execute_result",
          "data": {
            "text/plain": [
              "<matplotlib.collections.PathCollection at 0x7f5238962c90>"
            ]
          },
          "metadata": {},
          "execution_count": 13
        },
        {
          "output_type": "display_data",
          "data": {
            "text/plain": [
              "<Figure size 432x288 with 1 Axes>"
            ],
            "image/png": "[encoded data removed]"
          },
          "metadata": {
            "needs_background": "light"
          }
        }
      ]
    },
    {
      "cell_type": "markdown",
      "source": [
        "把x,y的點畫在圖上，顏色就是pg(model預測的結果)，可以看到[3,10]那個點預測錯了，他預測是3，但正確答案是1"
      ],
      "metadata": {
        "id": "MnrGitBFEu7x"
      }
    },
    {
      "cell_type": "markdown",
      "source": [
        "##3.劃出區域範圍"
      ],
      "metadata": {
        "id": "O-myzE8mHyRA"
      }
    },
    {
      "cell_type": "code",
      "source": [
        "new_x_y = np.array([(i,j) for i in np.arange(0,12,0.1) for j in np.arange(0,12,0.1)])\n",
        "new_x_y"
      ],
      "metadata": {
        "colab": {
          "base_uri": "https://localhost:8080/"
        },
        "id": "lueGmmGUH2tH",
        "outputId": "9c50af02-65b1-45ed-eca0-2e49b4c03f47"
      },
      "execution_count": null,
      "outputs": [
        {
          "output_type": "execute_result",
          "data": {
            "text/plain": [
              "array([[ 0. ,  0. ],\n",
              "       [ 0. ,  0.1],\n",
              "       [ 0. ,  0.2],\n",
              "       ...,\n",
              "       [11.9, 11.7],\n",
              "       [11.9, 11.8],\n",
              "       [11.9, 11.9]])"
            ]
          },
          "metadata": {},
          "execution_count": 14
        }
      ]
    },
    {
      "cell_type": "markdown",
      "source": [
        "new_x_y等於陣列[i,j]，i裡面放入np.arange(0,12,0.1)(從0到12每次增加0.1)，j裡面放入np.arange(0,12,0.1)(從0到12每次增加0.1)，np.arange才可以增加小數，range只能增加整數，之所以是加0.1是因為這樣畫出來點會比較多比較密，比較能看出區域，如果是1的話下面的圖會變成![image.png](data:image/png;base64,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)"
      ],
      "metadata": {
        "id": "6uDWGW9WKo94"
      }
    },
    {
      "cell_type": "code",
      "source": [
        "model.predict(new_x_y)"
      ],
      "metadata": {
        "colab": {
          "base_uri": "https://localhost:8080/"
        },
        "id": "a8ZaS8MzLBrV",
        "outputId": "ce83073c-aa28-496d-a6e5-adef77f3c15f"
      },
      "execution_count": null,
      "outputs": [
        {
          "output_type": "execute_result",
          "data": {
            "text/plain": [
              "array([2, 2, 2, ..., 2, 2, 2])"
            ]
          },
          "metadata": {},
          "execution_count": 15
        }
      ]
    },
    {
      "cell_type": "markdown",
      "source": [
        "用model來預測new_x_y"
      ],
      "metadata": {
        "id": "ugTNE0PnLI3X"
      }
    },
    {
      "cell_type": "code",
      "source": [
        "new_x,new_y = np.hsplit(new_x_y,[1])"
      ],
      "metadata": {
        "id": "QM_mOOSILMHm"
      },
      "execution_count": null,
      "outputs": []
    },
    {
      "cell_type": "markdown",
      "source": [
        "把new_x_y從1的位置切開，分別變成new_x和new_y，因為等等要畫圖"
      ],
      "metadata": {
        "id": "7etX0RL_Lj7f"
      }
    },
    {
      "cell_type": "code",
      "source": [
        "plt.scatter(new_x , new_y , c=model.predict(new_x_y))"
      ],
      "metadata": {
        "colab": {
          "base_uri": "https://localhost:8080/",
          "height": 283
        },
        "id": "Wn6ix_ORLw1p",
        "outputId": "0213e367-d849-4fe8-f119-8a542d605138"
      },
      "execution_count": null,
      "outputs": [
        {
          "output_type": "execute_result",
          "data": {
            "text/plain": [
              "<matplotlib.collections.PathCollection at 0x7f52388d9550>"
            ]
          },
          "metadata": {},
          "execution_count": 17
        },
        {
          "output_type": "display_data",
          "data": {
            "text/plain": [
              "<Figure size 432x288 with 1 Axes>"
            ],
            "image/png": "[encoded data removed]"
          },
          "metadata": {
            "needs_background": "light"
          }
        }
      ]
    },
    {
      "cell_type": "markdown",
      "source": [
        "把new_x和new_y畫在圖上，然後顏色用model預測new_x_y的結果，這樣就能畫出區域了"
      ],
      "metadata": {
        "id": "fM0zUQd6MBcd"
      }
    },
    {
      "cell_type": "markdown",
      "source": [
        "##3.評估模型"
      ],
      "metadata": {
        "id": "n_Od0K01OBnN"
      }
    },
    {
      "cell_type": "code",
      "source": [
        "model.score(x_y , g.reshape(-1,1))"
      ],
      "metadata": {
        "colab": {
          "base_uri": "https://localhost:8080/"
        },
        "id": "nmTSSk8uOD7m",
        "outputId": "3214dc87-d5e8-4737-adc5-8c18b75de017"
      },
      "execution_count": null,
      "outputs": [
        {
          "output_type": "execute_result",
          "data": {
            "text/plain": [
              "0.875"
            ]
          },
          "metadata": {},
          "execution_count": 18
        }
      ]
    },
    {
      "cell_type": "markdown",
      "source": [
        "用score評估模型的分數為0.875"
      ],
      "metadata": {
        "id": "hIzhwD6kONSx"
      }
    }
  ]
}