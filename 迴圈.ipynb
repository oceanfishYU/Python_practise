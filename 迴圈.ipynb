{
  "nbformat": 4,
  "nbformat_minor": 0,
  "metadata": {
    "colab": {
      "provenance": [],
      "include_colab_link": true
    },
    "kernelspec": {
      "name": "python3",
      "display_name": "Python 3"
    },
    "language_info": {
      "name": "python"
    }
  },
  "cells": [
    {
      "cell_type": "markdown",
      "metadata": {
        "id": "view-in-github",
        "colab_type": "text"
      },
      "source": [
        "<a href=\"https://colab.research.google.com/github/oceanfishYU/Python_practise/blob/main/%E8%BF%B4%E5%9C%88.ipynb\" target=\"_parent\"><img src=\"https://colab.research.google.com/assets/colab-badge.svg\" alt=\"Open In Colab\"/></a>"
      ]
    },
    {
      "cell_type": "markdown",
      "source": [
        "#條件"
      ],
      "metadata": {
        "id": "sPuE8GjhqakV"
      }
    },
    {
      "cell_type": "code",
      "source": [
        "a = 10"
      ],
      "metadata": {
        "id": "kcH3PZExqgJ1"
      },
      "execution_count": null,
      "outputs": []
    },
    {
      "cell_type": "code",
      "source": [
        "a<5"
      ],
      "metadata": {
        "colab": {
          "base_uri": "https://localhost:8080/"
        },
        "id": "_Ya_0xl3ql0t",
        "outputId": "b9b73bd1-cdfe-442d-9074-62e20cac6f53"
      },
      "execution_count": null,
      "outputs": [
        {
          "output_type": "execute_result",
          "data": {
            "text/plain": [
              "False"
            ]
          },
          "metadata": {},
          "execution_count": 2
        }
      ]
    },
    {
      "cell_type": "markdown",
      "source": [
        "因a不小於5，所以是False"
      ],
      "metadata": {
        "id": "jam2WAqPq4Y0"
      }
    },
    {
      "cell_type": "code",
      "source": [
        "(a > 0) and (a < 11)"
      ],
      "metadata": {
        "colab": {
          "base_uri": "https://localhost:8080/"
        },
        "id": "TuRQQLLVqnf-",
        "outputId": "1f211863-144b-40eb-d9b5-28413caca111"
      },
      "execution_count": null,
      "outputs": [
        {
          "output_type": "execute_result",
          "data": {
            "text/plain": [
              "True"
            ]
          },
          "metadata": {},
          "execution_count": 3
        }
      ]
    },
    {
      "cell_type": "markdown",
      "source": [
        "因a大於0且小於11，所以True"
      ],
      "metadata": {
        "id": "DNqcNqLaq-rN"
      }
    },
    {
      "cell_type": "code",
      "source": [
        "(a < 1) or (a < 11)"
      ],
      "metadata": {
        "colab": {
          "base_uri": "https://localhost:8080/"
        },
        "id": "xTOB8T9xqxa8",
        "outputId": "a2e4ac67-d21a-44f6-a4a9-3a59381e2cc2"
      },
      "execution_count": null,
      "outputs": [
        {
          "output_type": "execute_result",
          "data": {
            "text/plain": [
              "True"
            ]
          },
          "metadata": {},
          "execution_count": 4
        }
      ]
    },
    {
      "cell_type": "markdown",
      "source": [
        "雖然a不小於1但a小於11，只要一個是True，那就是對的"
      ],
      "metadata": {
        "id": "vxtoYw7vrEgN"
      }
    },
    {
      "cell_type": "markdown",
      "source": [
        "#while迴圈"
      ],
      "metadata": {
        "id": "rkbXLReCrOzl"
      }
    },
    {
      "cell_type": "code",
      "source": [
        "a = 0\n",
        "while a<5:\n",
        "  print(a*'*')\n",
        "  a += 1"
      ],
      "metadata": {
        "colab": {
          "base_uri": "https://localhost:8080/"
        },
        "id": "CPO0PKjPrRTO",
        "outputId": "70b39019-35a4-43a7-b523-3923ac8a242b"
      },
      "execution_count": null,
      "outputs": [
        {
          "output_type": "stream",
          "name": "stdout",
          "text": [
            "\n",
            "*\n",
            "**\n",
            "***\n",
            "****\n"
          ]
        }
      ]
    },
    {
      "cell_type": "markdown",
      "source": [
        "一開始設a=0，while迴圈如果a<5就會繼續執行，印出*乘以a的數字，每執行一次a都會+1，所以執行第5次後a就會等於5，while迴圈就不會繼續執行了"
      ],
      "metadata": {
        "id": "Pc3VxcFBrdpl"
      }
    },
    {
      "cell_type": "markdown",
      "source": [
        "#for迴圈"
      ],
      "metadata": {
        "id": "soK6oZY7t-iW"
      }
    },
    {
      "cell_type": "code",
      "source": [
        "for a in 'Orange':\n",
        "  print(2*a)"
      ],
      "metadata": {
        "colab": {
          "base_uri": "https://localhost:8080/"
        },
        "id": "nS4rq-ktuE2M",
        "outputId": "988e7528-5253-4d77-e46e-26aaf1a4675d"
      },
      "execution_count": null,
      "outputs": [
        {
          "output_type": "stream",
          "name": "stdout",
          "text": [
            "OO\n",
            "rr\n",
            "aa\n",
            "nn\n",
            "gg\n",
            "ee\n"
          ]
        }
      ]
    },
    {
      "cell_type": "markdown",
      "source": [
        "把Orange這個字串內的每個字一個一個帶進去執行，第一圈a是帶入O，所以印出O乘2=>OO。第二圈a是帶入r，所以印出r乘2=>rr..."
      ],
      "metadata": {
        "id": "O-f9ZpJpuRiV"
      }
    },
    {
      "cell_type": "code",
      "source": [
        "for a in '375':\n",
        "  print(2*a)"
      ],
      "metadata": {
        "colab": {
          "base_uri": "https://localhost:8080/"
        },
        "id": "eoYScdJyu0vE",
        "outputId": "90ff1ce2-05ef-41bf-ed6d-ce25e720392d"
      },
      "execution_count": null,
      "outputs": [
        {
          "output_type": "stream",
          "name": "stdout",
          "text": [
            "33\n",
            "77\n",
            "55\n"
          ]
        }
      ]
    },
    {
      "cell_type": "markdown",
      "source": [
        "把'375'這個字串內的每個字一個一個帶進去執行，第一圈a是帶入'3'，所以印出'3'乘以2=>33。第二圈a是帶入'7'，所以印出'7'*2=>77..."
      ],
      "metadata": {
        "id": "cZ5aI_D1u8kk"
      }
    },
    {
      "cell_type": "code",
      "source": [
        "for a in ['3',7,5]:\n",
        "  print(2*a)"
      ],
      "metadata": {
        "colab": {
          "base_uri": "https://localhost:8080/"
        },
        "id": "6riKpvKMvUVd",
        "outputId": "a66f7f09-f961-482b-a953-3cd34fbc9a7c"
      },
      "execution_count": null,
      "outputs": [
        {
          "output_type": "stream",
          "name": "stdout",
          "text": [
            "33\n",
            "14\n",
            "10\n"
          ]
        }
      ]
    },
    {
      "cell_type": "markdown",
      "source": [
        "把列表內的內容一個一個帶進a，第一個3是字串，所以印出33，第二個是整數，所以印出7乘2=>14，第三個是整數，所以印出5乘2=>10，"
      ],
      "metadata": {
        "id": "nwrANUAcvbs9"
      }
    },
    {
      "cell_type": "code",
      "source": [
        "['3',7,5]*2"
      ],
      "metadata": {
        "colab": {
          "base_uri": "https://localhost:8080/"
        },
        "id": "aAT9mKr3vyBM",
        "outputId": "867360c6-d762-42fd-ec4d-8ccaabcfe38a"
      },
      "execution_count": null,
      "outputs": [
        {
          "output_type": "execute_result",
          "data": {
            "text/plain": [
              "['3', 7, 5, '3', 7, 5]"
            ]
          },
          "metadata": {},
          "execution_count": 10
        }
      ]
    },
    {
      "cell_type": "markdown",
      "source": [
        "如果直接用列表乘的話，會把整個列表當成類似一個字串，直接串在一起"
      ],
      "metadata": {
        "id": "TX1NRNFYv2uj"
      }
    }
  ]
}