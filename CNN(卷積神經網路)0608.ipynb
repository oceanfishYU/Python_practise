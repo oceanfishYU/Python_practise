{
  "nbformat": 4,
  "nbformat_minor": 0,
  "metadata": {
    "colab": {
      "provenance": [],
      "authorship_tag": "ABX9TyNl1RuqOV25XRELUYCI9Hcb",
      "include_colab_link": true
    },
    "kernelspec": {
      "name": "python3",
      "display_name": "Python 3"
    },
    "language_info": {
      "name": "python"
    }
  },
  "cells": [
    {
      "cell_type": "markdown",
      "metadata": {
        "id": "view-in-github",
        "colab_type": "text"
      },
      "source": [
        "<a href=\"https://colab.research.google.com/github/oceanfishYU/Python_practise/blob/main/CNN(%E5%8D%B7%E7%A9%8D%E7%A5%9E%E7%B6%93%E7%B6%B2%E8%B7%AF)0608.ipynb\" target=\"_parent\"><img src=\"https://colab.research.google.com/assets/colab-badge.svg\" alt=\"Open In Colab\"/></a>"
      ]
    },
    {
      "cell_type": "markdown",
      "source": [
        "#<font color = blue>1.抓資料"
      ],
      "metadata": {
        "id": "J4kY1ZYDIxgT"
      }
    },
    {
      "cell_type": "code",
      "execution_count": null,
      "metadata": {
        "id": "ugLY5ihcCoWa"
      },
      "outputs": [],
      "source": [
        "import numpy as np\n",
        "import matplotlib.pyplot as plt"
      ]
    },
    {
      "cell_type": "code",
      "source": [
        "from keras.datasets  import mnist"
      ],
      "metadata": {
        "id": "PiGwcLYQDRC2"
      },
      "execution_count": null,
      "outputs": []
    },
    {
      "cell_type": "markdown",
      "source": [
        "從keras.datasets裡面抓出mnist的資料"
      ],
      "metadata": {
        "id": "hxve4osRDfZZ"
      }
    },
    {
      "cell_type": "code",
      "source": [
        "(x_train,y_train),(x_test,y_test) = mnist.load_data()"
      ],
      "metadata": {
        "id": "cALeqEO-DkzU"
      },
      "execution_count": null,
      "outputs": []
    },
    {
      "cell_type": "markdown",
      "source": [
        "從mnist裡讀取資料，x_train,y_train為訓練資料，x_test,y_test為預測資料"
      ],
      "metadata": {
        "id": "IStEimxqFoXN"
      }
    },
    {
      "cell_type": "code",
      "source": [
        "x_train.shape"
      ],
      "metadata": {
        "colab": {
          "base_uri": "https://localhost:8080/"
        },
        "id": "KQ0EuXlDD6CU",
        "outputId": "0be2eb7d-746a-4f08-8801-75841e4c1d4e"
      },
      "execution_count": null,
      "outputs": [
        {
          "output_type": "execute_result",
          "data": {
            "text/plain": [
              "(60000, 28, 28)"
            ]
          },
          "metadata": {},
          "execution_count": 23
        }
      ]
    },
    {
      "cell_type": "markdown",
      "source": [
        "x_train(訓練用的資料)為60000張28*28像素的圖片"
      ],
      "metadata": {
        "id": "7p4DwmmCD1Ne"
      }
    },
    {
      "cell_type": "code",
      "source": [
        "y_train.shape"
      ],
      "metadata": {
        "colab": {
          "base_uri": "https://localhost:8080/"
        },
        "id": "Mcasby4KECfw",
        "outputId": "9161fa2e-6172-4832-b908-8d5591f6890e"
      },
      "execution_count": null,
      "outputs": [
        {
          "output_type": "execute_result",
          "data": {
            "text/plain": [
              "(60000,)"
            ]
          },
          "metadata": {},
          "execution_count": 24
        }
      ]
    },
    {
      "cell_type": "markdown",
      "source": [
        "y_train(訓練用的答案)為60000筆資料"
      ],
      "metadata": {
        "id": "BIhNKxJnFPP3"
      }
    },
    {
      "cell_type": "code",
      "source": [
        "x_test.shape"
      ],
      "metadata": {
        "colab": {
          "base_uri": "https://localhost:8080/"
        },
        "id": "8zn53I2uERkQ",
        "outputId": "723c1b47-2ecd-4d48-f059-5ddfe8e8ff6f"
      },
      "execution_count": null,
      "outputs": [
        {
          "output_type": "execute_result",
          "data": {
            "text/plain": [
              "(10000, 28, 28)"
            ]
          },
          "metadata": {},
          "execution_count": 25
        }
      ]
    },
    {
      "cell_type": "markdown",
      "source": [
        "x_test(預測用的資料)為10000張28*28像素的圖片"
      ],
      "metadata": {
        "id": "C9G3H2rrFdPL"
      }
    },
    {
      "cell_type": "code",
      "source": [
        "y_test.shape"
      ],
      "metadata": {
        "colab": {
          "base_uri": "https://localhost:8080/"
        },
        "id": "Q6Avr4wLEXgD",
        "outputId": "aede6065-b0c4-4d24-c61f-72b2cee8b5da"
      },
      "execution_count": null,
      "outputs": [
        {
          "output_type": "execute_result",
          "data": {
            "text/plain": [
              "(10000,)"
            ]
          },
          "metadata": {},
          "execution_count": 26
        }
      ]
    },
    {
      "cell_type": "markdown",
      "source": [
        "y_train(預測用的答案)為10000筆資料"
      ],
      "metadata": {
        "id": "T468Cd2WFkOA"
      }
    },
    {
      "cell_type": "code",
      "source": [
        "plt.imshow(x_train[88],cmap='Greys')"
      ],
      "metadata": {
        "id": "FI8SH3tXEc97"
      },
      "execution_count": null,
      "outputs": []
    },
    {
      "cell_type": "markdown",
      "source": [
        "把x_train的第88張顯示出來，然後cmap='Greys'是把圖片改為灰階的"
      ],
      "metadata": {
        "id": "7b1TlaefEjku"
      }
    },
    {
      "cell_type": "code",
      "source": [
        "y_train[88]"
      ],
      "metadata": {
        "colab": {
          "base_uri": "https://localhost:8080/"
        },
        "id": "t_JvLaDjEsdu",
        "outputId": "d9210355-1f20-4d0b-9359-29b7b6b297dd"
      },
      "execution_count": null,
      "outputs": [
        {
          "output_type": "execute_result",
          "data": {
            "text/plain": [
              "0"
            ]
          },
          "metadata": {},
          "execution_count": 28
        }
      ]
    },
    {
      "cell_type": "markdown",
      "source": [
        "x_train的第88張的答案就是y_train的第88筆資料，答案是0"
      ],
      "metadata": {
        "id": "LE6f6_LoFCRg"
      }
    },
    {
      "cell_type": "markdown",
      "source": [
        "#<font color = blue>2.修改輸出值(one-hot-encoding)"
      ],
      "metadata": {
        "id": "eI9cg8AvI3kH"
      }
    },
    {
      "cell_type": "markdown",
      "source": [
        "把標準答案改成以下"
      ],
      "metadata": {
        "id": "qj6IReTvD61h"
      }
    },
    {
      "cell_type": "markdown",
      "source": [
        "0 => [1 0 0 0 0 0 0 0 0 0]\n",
        "\n",
        "1 => [0 1 0 0 0 0 0 0 0 0]\n",
        "\n",
        "2 => [0 0 1 0 0 0 0 0 0 0]\n",
        "\n",
        "....\n",
        "\n",
        "9 => [0 0 0 0 0 0 0 0 0 1]"
      ],
      "metadata": {
        "id": "83GjrsJzJFBO"
      }
    },
    {
      "cell_type": "code",
      "source": [
        "from keras.utils.np_utils import to_categorical"
      ],
      "metadata": {
        "id": "d21a9-uyJBWZ"
      },
      "execution_count": null,
      "outputs": []
    },
    {
      "cell_type": "markdown",
      "source": [
        "從keras.utils.np_utils的程式內取出to_categorical"
      ],
      "metadata": {
        "id": "H1xml3GoKSQZ"
      }
    },
    {
      "cell_type": "code",
      "source": [
        "y_train.shape"
      ],
      "metadata": {
        "colab": {
          "base_uri": "https://localhost:8080/"
        },
        "id": "NxErR3MfJxib",
        "outputId": "f1653179-b500-48f9-fa48-b5c7cf78ff7e"
      },
      "execution_count": null,
      "outputs": [
        {
          "output_type": "execute_result",
          "data": {
            "text/plain": [
              "(60000,)"
            ]
          },
          "metadata": {},
          "execution_count": 30
        }
      ]
    },
    {
      "cell_type": "code",
      "source": [
        "y_train"
      ],
      "metadata": {
        "colab": {
          "base_uri": "https://localhost:8080/"
        },
        "id": "HccDQJl5J89o",
        "outputId": "bd50ef80-c446-4ae2-fc6d-a06281ae73fb"
      },
      "execution_count": null,
      "outputs": [
        {
          "output_type": "execute_result",
          "data": {
            "text/plain": [
              "array([5, 0, 4, ..., 5, 6, 8], dtype=uint8)"
            ]
          },
          "metadata": {},
          "execution_count": 31
        }
      ]
    },
    {
      "cell_type": "code",
      "source": [
        "y_train = to_categorical(y_train)"
      ],
      "metadata": {
        "id": "anJFj7z3J08t"
      },
      "execution_count": null,
      "outputs": []
    },
    {
      "cell_type": "markdown",
      "source": [
        "把y_train丟進to_categorical裡修改(每個數字都變成10個(000000001...))"
      ],
      "metadata": {
        "id": "POECSxAKKYlh"
      }
    },
    {
      "cell_type": "code",
      "source": [
        "y_train.shape"
      ],
      "metadata": {
        "colab": {
          "base_uri": "https://localhost:8080/"
        },
        "id": "6MHJphN7KGFa",
        "outputId": "c35b81b3-6cba-4953-a4d8-7f29dc0256a8"
      },
      "execution_count": null,
      "outputs": [
        {
          "output_type": "execute_result",
          "data": {
            "text/plain": [
              "(60000, 10)"
            ]
          },
          "metadata": {},
          "execution_count": 33
        }
      ]
    },
    {
      "cell_type": "markdown",
      "source": [
        "y_train就會變成60000個裡面有10個值的二維陣列，原本的0~8被改成\n",
        "\n",
        "0 => [1 0 0 0 0 0 0 0 0 0]\n",
        "\n",
        "1 => [0 1 0 0 0 0 0 0 0 0]"
      ],
      "metadata": {
        "id": "L9ju9debKgrq"
      }
    },
    {
      "cell_type": "code",
      "source": [
        "y_train"
      ],
      "metadata": {
        "colab": {
          "base_uri": "https://localhost:8080/"
        },
        "id": "3xJa1CgmKHu5",
        "outputId": "1109c7fa-6960-43b5-9d9f-a3701554ca5a"
      },
      "execution_count": null,
      "outputs": [
        {
          "output_type": "execute_result",
          "data": {
            "text/plain": [
              "array([[0., 0., 0., ..., 0., 0., 0.],\n",
              "       [1., 0., 0., ..., 0., 0., 0.],\n",
              "       [0., 0., 0., ..., 0., 0., 0.],\n",
              "       ...,\n",
              "       [0., 0., 0., ..., 0., 0., 0.],\n",
              "       [0., 0., 0., ..., 0., 0., 0.],\n",
              "       [0., 0., 0., ..., 0., 1., 0.]], dtype=float32)"
            ]
          },
          "metadata": {},
          "execution_count": 34
        }
      ]
    },
    {
      "cell_type": "markdown",
      "source": [
        "y_train裡面的資料就變成我們要的樣子了\n"
      ],
      "metadata": {
        "id": "JSMqSMJfLGhn"
      }
    },
    {
      "cell_type": "markdown",
      "source": [
        "#<font color = blue>3.建立卷積網路的模型"
      ],
      "metadata": {
        "id": "Ny04pQD7LLLF"
      }
    },
    {
      "cell_type": "markdown",
      "source": [
        "在輸入層前再加上卷積層"
      ],
      "metadata": {
        "id": "ImSRPsNg9J7R"
      }
    },
    {
      "cell_type": "code",
      "source": [
        "from keras import models\n",
        "from keras import layers"
      ],
      "metadata": {
        "id": "0ux3GJCDLQMQ"
      },
      "execution_count": null,
      "outputs": []
    },
    {
      "cell_type": "markdown",
      "source": [
        "從keras裡面取出models和layers和layers兩個程式"
      ],
      "metadata": {
        "id": "qGS-qyBONiva"
      }
    },
    {
      "cell_type": "code",
      "source": [
        "from keras.layers.pooling import MaxPooling2D\n",
        "mymodel=models.Sequential()\n",
        "mymodel.add(layers.Conv2D(32,(3,3),padding='same', activation='relu' , input_shape=(28,28,1)))\n",
        "mymodel.add(layers.MaxPooling2D( (2,2) ) )\n",
        "mymodel.add(layers.Conv2D(64,(3,3), activation='relu', padding='same') )\n",
        "mymodel.add(layers.MaxPooling2D( (2,2) ) )"
      ],
      "metadata": {
        "id": "h9Zrq02vW-9n"
      },
      "execution_count": null,
      "outputs": []
    },
    {
      "cell_type": "markdown",
      "source": [
        "加一個Cov2D層=>mymodel.add(layers,Conv2D(32,(3,3),padding='same',input_shape=(28,28,1))\n",
        "\n",
        "\n",
        "32是指有32個卷積核，然後每個是3*3的，padding(填充)same是指輸出圖片與原圖片大小一樣，因為經過卷積層處理後外圍會有沒數值的地方，如果不做填充的話輸出的圖就會比原來的小。activation是破壞線性，input_shapee=(28(長),28(寬),1(每個位子一個像素(因為是黑白圖所以是1，彩色是3)))在Cov2D裡面限定格式一定要是三維的尺寸。MaxPooling2D是池化，因為經過卷積後圖會很大，所以要用Maxpooling(2,2每次2乘2找最大的值變成一個方塊)來讓圖變小。\n",
        "\n",
        "\n",
        "在做一次卷積，第二次有64個卷積核，因為是第二次了所以不用再寫一次input_shape。\n"
      ],
      "metadata": {
        "id": "Zv0nnbdu7af0"
      }
    },
    {
      "cell_type": "code",
      "source": [
        "mymodel.add(layers.Flatten())"
      ],
      "metadata": {
        "id": "Wvt2Nv0tXDxp"
      },
      "execution_count": null,
      "outputs": []
    },
    {
      "cell_type": "markdown",
      "source": [
        "使用layers.Flatten()來拉平(一維化)"
      ],
      "metadata": {
        "id": "QAFw56zXAjui"
      }
    },
    {
      "cell_type": "code",
      "source": [
        "mymodel.add(layers.Dense(64,activation='relu'))"
      ],
      "metadata": {
        "id": "QXedBJv4XD8-"
      },
      "execution_count": null,
      "outputs": []
    },
    {
      "cell_type": "markdown",
      "source": [
        "增加一個全連結層這層有64個點"
      ],
      "metadata": {
        "id": "h89RJvrKBJ4T"
      }
    },
    {
      "cell_type": "code",
      "source": [
        "mymodel.add(layers.Dense(32,activation='relu'))"
      ],
      "metadata": {
        "id": "XjJZyfjRXEBi"
      },
      "execution_count": null,
      "outputs": []
    },
    {
      "cell_type": "markdown",
      "source": [
        "增加一個全連結層這層有32個點"
      ],
      "metadata": {
        "id": "hCumiTiMBNst"
      }
    },
    {
      "cell_type": "code",
      "source": [
        "mymodel.add(layers.Dense(10,activation='softmax'))"
      ],
      "metadata": {
        "id": "GbtqxulROiib"
      },
      "execution_count": null,
      "outputs": []
    },
    {
      "cell_type": "markdown",
      "source": [
        "增加一個全連結層這層有10個點，因為是最後一層了所以用softmax來讓所有輸出的值加起來會等於1"
      ],
      "metadata": {
        "id": "crbEmMJEBPB2"
      }
    },
    {
      "cell_type": "code",
      "source": [
        "mymodel.compile(loss='categorical_crossentropy',optimizer='adam',metrics=['accuracy'])"
      ],
      "metadata": {
        "id": "WRsY1kj4_MAN"
      },
      "execution_count": null,
      "outputs": []
    },
    {
      "cell_type": "markdown",
      "source": [
        "compile函數定義損失函數(loss)=categorical_crossentropy和優化函數(optimizer)=adam"
      ],
      "metadata": {
        "id": "vlt8-q28BAep"
      }
    },
    {
      "cell_type": "code",
      "source": [
        "mymodel.fit(x_train.reshape(-1,28,28,1) , y_train, epochs=10, batch_size=128)"
      ],
      "metadata": {
        "colab": {
          "base_uri": "https://localhost:8080/"
        },
        "id": "aZuaLPqt_nyb",
        "outputId": "65ce83c2-47af-4136-f3a0-2947d58be221"
      },
      "execution_count": null,
      "outputs": [
        {
          "output_type": "stream",
          "name": "stdout",
          "text": [
            "Epoch 1/10\n",
            "469/469 [==============================] - 66s 139ms/step - loss: 0.7426 - accuracy: 0.8195\n",
            "Epoch 2/10\n",
            "469/469 [==============================] - 64s 136ms/step - loss: 0.1145 - accuracy: 0.9679\n",
            "Epoch 3/10\n",
            "469/469 [==============================] - 63s 134ms/step - loss: 0.0615 - accuracy: 0.9819\n",
            "Epoch 4/10\n",
            "469/469 [==============================] - 65s 139ms/step - loss: 0.0424 - accuracy: 0.9869\n",
            "Epoch 5/10\n",
            "469/469 [==============================] - 65s 139ms/step - loss: 0.0344 - accuracy: 0.9895\n",
            "Epoch 6/10\n",
            "469/469 [==============================] - 63s 134ms/step - loss: 0.0299 - accuracy: 0.9902\n",
            "Epoch 7/10\n",
            "469/469 [==============================] - 63s 134ms/step - loss: 0.0233 - accuracy: 0.9926\n",
            "Epoch 8/10\n",
            "469/469 [==============================] - 63s 134ms/step - loss: 0.0204 - accuracy: 0.9936\n",
            "Epoch 9/10\n",
            "469/469 [==============================] - 67s 144ms/step - loss: 0.0211 - accuracy: 0.9931\n",
            "Epoch 10/10\n",
            "469/469 [==============================] - 63s 135ms/step - loss: 0.0188 - accuracy: 0.9937\n"
          ]
        },
        {
          "output_type": "execute_result",
          "data": {
            "text/plain": [
              "<keras.callbacks.History at 0x7f533879ac90>"
            ]
          },
          "metadata": {},
          "execution_count": 49
        }
      ]
    },
    {
      "cell_type": "markdown",
      "source": [
        "訓練模型，這邊的reshape也要改成Conv2D要的格式，batch_size=128是一次做128筆資料，y_train,epochs=10是全部要做10次。如果做完再做一次的話會是第11次、第12次...，就是說你在執行一次的話不是從頭訓練。"
      ],
      "metadata": {
        "id": "wsmN5LwrUbDO"
      }
    },
    {
      "cell_type": "code",
      "source": [
        "mymodel.summary()"
      ],
      "metadata": {
        "colab": {
          "base_uri": "https://localhost:8080/"
        },
        "id": "LCiS9pBLDn_-",
        "outputId": "7fb9d627-23cd-41a6-ae6a-cb56791db674"
      },
      "execution_count": null,
      "outputs": [
        {
          "output_type": "stream",
          "name": "stdout",
          "text": [
            "Model: \"sequential_2\"\n",
            "_________________________________________________________________\n",
            " Layer (type)                Output Shape              Param #   \n",
            "=================================================================\n",
            " conv2d (Conv2D)             (None, 28, 28, 32)        320       \n",
            "                                                                 \n",
            " max_pooling2d (MaxPooling2D  (None, 14, 14, 32)       0         \n",
            " )                                                               \n",
            "                                                                 \n",
            " conv2d_1 (Conv2D)           (None, 14, 14, 64)        18496     \n",
            "                                                                 \n",
            " max_pooling2d_1 (MaxPooling  (None, 7, 7, 64)         0         \n",
            " 2D)                                                             \n",
            "                                                                 \n",
            " flatten (Flatten)           (None, 3136)              0         \n",
            "                                                                 \n",
            " dense (Dense)               (None, 64)                200768    \n",
            "                                                                 \n",
            " dense_1 (Dense)             (None, 32)                2080      \n",
            "                                                                 \n",
            " dense_2 (Dense)             (None, 10)                330       \n",
            "                                                                 \n",
            "=================================================================\n",
            "Total params: 221,994\n",
            "Trainable params: 221,994\n",
            "Non-trainable params: 0\n",
            "_________________________________________________________________\n"
          ]
        }
      ]
    },
    {
      "cell_type": "markdown",
      "source": [
        "通過model.summary()輸出模型各層的參數狀況，如下：\n",
        "通過這些參數，可以看到模型各個層的組成（dense表示全連接層）。也能看到數據經過每個層後，輸出的數據維度。\n",
        "還能看到Param，它表示每個層參數的個數"
      ],
      "metadata": {
        "id": "6T8ueOlHD8Fc"
      }
    },
    {
      "cell_type": "markdown",
      "source": [
        "#<font color = blue>4.預測"
      ],
      "metadata": {
        "id": "mZAzi2AC6Jio"
      }
    },
    {
      "cell_type": "code",
      "source": [
        "mypredict=mymodel.predict(x_test.reshape(-1,28,28,1))\n",
        "mypredict"
      ],
      "metadata": {
        "colab": {
          "base_uri": "https://localhost:8080/"
        },
        "id": "4mq7xGae6m_D",
        "outputId": "de8aa390-6081-4002-b719-a2926940f998"
      },
      "execution_count": null,
      "outputs": [
        {
          "output_type": "execute_result",
          "data": {
            "text/plain": [
              "array([[2.00579562e-15, 6.94889621e-08, 1.08464837e-09, ...,\n",
              "        9.99999642e-01, 2.46984424e-08, 2.57732864e-07],\n",
              "       [1.21163008e-12, 7.43946744e-12, 1.00000000e+00, ...,\n",
              "        3.59947280e-17, 3.62823148e-16, 4.45961841e-16],\n",
              "       [3.64816408e-08, 9.99998569e-01, 2.01871178e-08, ...,\n",
              "        8.57303064e-07, 4.27030272e-07, 1.56329689e-11],\n",
              "       ...,\n",
              "       [3.73091254e-18, 7.14392741e-08, 1.54782430e-14, ...,\n",
              "        1.12540565e-05, 4.49593536e-08, 2.54570964e-09],\n",
              "       [8.33722780e-08, 8.70480920e-14, 1.03079621e-20, ...,\n",
              "        8.11272707e-13, 1.11551826e-08, 7.93062144e-12],\n",
              "       [4.57352515e-12, 2.17371537e-11, 3.27679073e-12, ...,\n",
              "        5.93306003e-12, 5.94626616e-13, 7.92014644e-20]], dtype=float32)"
            ]
          },
          "metadata": {},
          "execution_count": 52
        }
      ]
    },
    {
      "cell_type": "markdown",
      "source": [
        "要預測的話要和訓練的時候一樣把資料變成一條一條的。"
      ],
      "metadata": {
        "id": "VnVlxuFy65Qg"
      }
    },
    {
      "cell_type": "code",
      "source": [
        "y_test[0]"
      ],
      "metadata": {
        "colab": {
          "base_uri": "https://localhost:8080/"
        },
        "id": "43I_f6386_kB",
        "outputId": "b3b5dfeb-ea5c-4b97-f9d4-5e91a82e89be"
      },
      "execution_count": null,
      "outputs": [
        {
          "output_type": "execute_result",
          "data": {
            "text/plain": [
              "7"
            ]
          },
          "metadata": {},
          "execution_count": 53
        }
      ]
    },
    {
      "cell_type": "code",
      "source": [
        "predict_class=np.argmax(mypredict,axis=1)\n",
        "predict_class"
      ],
      "metadata": {
        "colab": {
          "base_uri": "https://localhost:8080/"
        },
        "id": "ELfcPkwi7T1u",
        "outputId": "8e7c9312-7dce-48a1-e9d2-9acbc28bebdd"
      },
      "execution_count": null,
      "outputs": [
        {
          "output_type": "execute_result",
          "data": {
            "text/plain": [
              "array([7, 2, 1, ..., 4, 5, 6])"
            ]
          },
          "metadata": {},
          "execution_count": 54
        }
      ]
    },
    {
      "cell_type": "markdown",
      "source": [
        "\n",
        "使用np.argmax在陣列中找到最大的值，最大的值就是預測的答案，軸度是1(拆掉最外面外內一層的括號)"
      ],
      "metadata": {
        "id": "WjJw-kab79We"
      }
    },
    {
      "cell_type": "code",
      "source": [
        "predict_class != y_test"
      ],
      "metadata": {
        "colab": {
          "base_uri": "https://localhost:8080/"
        },
        "id": "UEAA7X-78Tko",
        "outputId": "f669e034-1bc7-4226-b472-687eed8f9bec"
      },
      "execution_count": null,
      "outputs": [
        {
          "output_type": "execute_result",
          "data": {
            "text/plain": [
              "array([False, False, False, ..., False, False, False])"
            ]
          },
          "metadata": {},
          "execution_count": 55
        }
      ]
    },
    {
      "cell_type": "markdown",
      "source": [
        "預測的答案如果不等於y_test的就是True(1)"
      ],
      "metadata": {
        "id": "HjkyZTmn8otF"
      }
    },
    {
      "cell_type": "code",
      "source": [
        "np.nonzero(predict_class != y_test)"
      ],
      "metadata": {
        "colab": {
          "base_uri": "https://localhost:8080/"
        },
        "id": "4Kx3c5bD8x3w",
        "outputId": "b8485930-232a-4b4f-ddcd-a3a4eea083ec"
      },
      "execution_count": null,
      "outputs": [
        {
          "output_type": "execute_result",
          "data": {
            "text/plain": [
              "(array([  62,  151,  160,  193,  320,  359,  448,  582,  583,  646,  684,\n",
              "         881, 1014, 1039, 1112, 1156, 1181, 1182, 1232, 1260, 1319, 1393,\n",
              "        1549, 1553, 1554, 1686, 1709, 1717, 1754, 1790, 1878, 1901, 2040,\n",
              "        2043, 2129, 2130, 2135, 2182, 2189, 2237, 2293, 2329, 2387, 2414,\n",
              "        2433, 2447, 2454, 2462, 2514, 2526, 2597, 2648, 2654, 2896, 2939,\n",
              "        2953, 2970, 2995, 3060, 3062, 3225, 3267, 3288, 3316, 3369, 3422,\n",
              "        3451, 3503, 3534, 3558, 3599, 3662, 3726, 3778, 3780, 3796, 3808,\n",
              "        3850, 3926, 3941, 4017, 4078, 4163, 4176, 4265, 4284, 4289, 4306,\n",
              "        4400, 4477, 4536, 4571, 4575, 4731, 4740, 4761, 4763, 4783, 4807,\n",
              "        4879, 5127, 5201, 5617, 5631, 5654, 5676, 5936, 5937, 5955, 6091,\n",
              "        6166, 6558, 6560, 6576, 6597, 6625, 6651, 6740, 7216, 7434, 7797,\n",
              "        7902, 7991, 8059, 8094, 8095, 8325, 8408, 8527, 9015, 9530, 9634,\n",
              "        9636, 9638, 9664, 9669, 9679, 9692, 9729, 9749, 9754, 9768, 9770,\n",
              "        9792, 9811]),)"
            ]
          },
          "metadata": {},
          "execution_count": 56
        }
      ]
    },
    {
      "cell_type": "markdown",
      "source": [
        "使用nonzero來找到預測與實際答案不符合的資料"
      ],
      "metadata": {
        "id": "0eqnIG4X89MT"
      }
    },
    {
      "cell_type": "code",
      "source": [
        "plt.imshow(x_test[62],cmap='Greys')"
      ],
      "metadata": {
        "colab": {
          "base_uri": "https://localhost:8080/",
          "height": 283
        },
        "id": "tvdmoBWsE76B",
        "outputId": "87c606be-edb3-4a21-f744-db415ec27ed4"
      },
      "execution_count": null,
      "outputs": [
        {
          "output_type": "execute_result",
          "data": {
            "text/plain": [
              "<matplotlib.image.AxesImage at 0x7f533856e390>"
            ]
          },
          "metadata": {},
          "execution_count": 57
        },
        {
          "output_type": "display_data",
          "data": {
            "text/plain": [
              "<Figure size 432x288 with 1 Axes>"
            ],
            "image/png": "[encoded data removed]"
          },
          "metadata": {
            "needs_background": "light"
          }
        }
      ]
    },
    {
      "cell_type": "markdown",
      "source": [
        "62的圖片"
      ],
      "metadata": {
        "id": "VGk65nrBE_im"
      }
    },
    {
      "cell_type": "code",
      "source": [
        "y_test[62]"
      ],
      "metadata": {
        "colab": {
          "base_uri": "https://localhost:8080/"
        },
        "id": "w2m5--tDE8Bb",
        "outputId": "e5682ac6-b7f5-4507-86aa-28ab9cc3d086"
      },
      "execution_count": null,
      "outputs": [
        {
          "output_type": "execute_result",
          "data": {
            "text/plain": [
              "9"
            ]
          },
          "metadata": {},
          "execution_count": 58
        }
      ]
    },
    {
      "cell_type": "markdown",
      "source": [
        "62的答案是9"
      ],
      "metadata": {
        "id": "Kjjt_VUXFETZ"
      }
    },
    {
      "cell_type": "code",
      "source": [
        "predict_class[62]"
      ],
      "metadata": {
        "colab": {
          "base_uri": "https://localhost:8080/"
        },
        "id": "t0MACiUoFfGS",
        "outputId": "d555b3fc-2548-43a6-ad74-ae57ea31dead"
      },
      "execution_count": null,
      "outputs": [
        {
          "output_type": "execute_result",
          "data": {
            "text/plain": [
              "5"
            ]
          },
          "metadata": {},
          "execution_count": 59
        }
      ]
    },
    {
      "cell_type": "markdown",
      "source": [
        "模型預測62的答案是5"
      ],
      "metadata": {
        "id": "2539ri6GFHeF"
      }
    },
    {
      "cell_type": "code",
      "source": [
        "1-np.count_nonzero(predict_class!=y_test)/10000"
      ],
      "metadata": {
        "colab": {
          "base_uri": "https://localhost:8080/"
        },
        "id": "f85thYejFjqj",
        "outputId": "cf433329-6f70-4668-8335-203f2774a01a"
      },
      "execution_count": null,
      "outputs": [
        {
          "output_type": "execute_result",
          "data": {
            "text/plain": [
              "0.9855"
            ]
          },
          "metadata": {},
          "execution_count": 60
        }
      ]
    },
    {
      "cell_type": "markdown",
      "source": [
        "1減掉nonzero找到的預測與實際答案不符合的資料然後用.count算答案不一樣的個數再除以10000(錯誤的機率)，就能算出正確的機率。\n"
      ],
      "metadata": {
        "id": "z544d54AGs8K"
      }
    },
    {
      "cell_type": "code",
      "source": [
        "y_test=to_categorical(y_test)"
      ],
      "metadata": {
        "id": "rPS_7r1qFy6B"
      },
      "execution_count": null,
      "outputs": []
    },
    {
      "cell_type": "markdown",
      "source": [
        "要先把y_test改成我們要的形式"
      ],
      "metadata": {
        "id": "49S_uiFVHMJr"
      }
    },
    {
      "cell_type": "code",
      "source": [
        "mymodel.evaluate(x_test.reshape(-1,28,28,1),y_test)"
      ],
      "metadata": {
        "colab": {
          "base_uri": "https://localhost:8080/"
        },
        "id": "2XKOxUfNF8Z2",
        "outputId": "9e2bf967-c865-4da6-a535-07d1532b0dcd"
      },
      "execution_count": null,
      "outputs": [
        {
          "output_type": "stream",
          "name": "stdout",
          "text": [
            "313/313 [==============================] - 4s 14ms/step - loss: 0.0578 - accuracy: 0.9855\n"
          ]
        },
        {
          "output_type": "execute_result",
          "data": {
            "text/plain": [
              "[0.0578010268509388, 0.9854999780654907]"
            ]
          },
          "metadata": {},
          "execution_count": 70
        }
      ]
    },
    {
      "cell_type": "markdown",
      "source": [
        "使用.evaluate找到錯誤的機率與正確的機率。"
      ],
      "metadata": {
        "id": "V1etBaw1HSjQ"
      }
    },
    {
      "cell_type": "markdown",
      "source": [
        "#<font color = blue>5.模型的儲存"
      ],
      "metadata": {
        "id": "fDU9iwaKInuf"
      }
    },
    {
      "cell_type": "code",
      "source": [
        "from google.colab import drive \n",
        "import os \n",
        "drive.mount('/content/gdrive',force_remount=True)\n",
        "os.chdir('/content/gdrive/MyDrive/AIclass/')"
      ],
      "metadata": {
        "colab": {
          "base_uri": "https://localhost:8080/"
        },
        "id": "DxRUYXp5IoZm",
        "outputId": "9e04a9d8-56f7-4c7f-8a97-4b5298d7e0af"
      },
      "execution_count": null,
      "outputs": [
        {
          "output_type": "stream",
          "name": "stdout",
          "text": [
            "Mounted at /content/gdrive\n"
          ]
        }
      ]
    },
    {
      "cell_type": "code",
      "source": [
        "mymodel.save('cnn_model.h5')"
      ],
      "metadata": {
        "id": "MixXTKIIIrqe"
      },
      "execution_count": null,
      "outputs": []
    }
  ]
}