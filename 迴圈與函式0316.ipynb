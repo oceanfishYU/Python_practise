{
  "nbformat": 4,
  "nbformat_minor": 0,
  "metadata": {
    "colab": {
      "provenance": [],
      "authorship_tag": "ABX9TyNUOvTctzzn3SILgGxnPHE6",
      "include_colab_link": true
    },
    "kernelspec": {
      "name": "python3",
      "display_name": "Python 3"
    },
    "language_info": {
      "name": "python"
    }
  },
  "cells": [
    {
      "cell_type": "markdown",
      "metadata": {
        "id": "view-in-github",
        "colab_type": "text"
      },
      "source": [
        "<a href=\"https://colab.research.google.com/github/oceanfishYU/Python_practise/blob/main/%E8%BF%B4%E5%9C%88%E8%88%87%E5%87%BD%E5%BC%8F0316.ipynb\" target=\"_parent\"><img src=\"https://colab.research.google.com/assets/colab-badge.svg\" alt=\"Open In Colab\"/></a>"
      ]
    },
    {
      "cell_type": "markdown",
      "source": [
        "#0302"
      ],
      "metadata": {
        "id": "WORSdnk5jJhq"
      }
    },
    {
      "cell_type": "markdown",
      "source": [
        "##條件"
      ],
      "metadata": {
        "id": "sPuE8GjhqakV"
      }
    },
    {
      "cell_type": "code",
      "source": [
        "a = 10"
      ],
      "metadata": {
        "id": "kcH3PZExqgJ1"
      },
      "execution_count": null,
      "outputs": []
    },
    {
      "cell_type": "code",
      "source": [
        "a<5"
      ],
      "metadata": {
        "id": "_Ya_0xl3ql0t"
      },
      "execution_count": null,
      "outputs": []
    },
    {
      "cell_type": "markdown",
      "source": [
        "因a不小於5，所以是False"
      ],
      "metadata": {
        "id": "jam2WAqPq4Y0"
      }
    },
    {
      "cell_type": "code",
      "source": [
        "(a > 0) and (a < 11)"
      ],
      "metadata": {
        "id": "TuRQQLLVqnf-"
      },
      "execution_count": null,
      "outputs": []
    },
    {
      "cell_type": "markdown",
      "source": [
        "因a大於0且小於11，所以True"
      ],
      "metadata": {
        "id": "DNqcNqLaq-rN"
      }
    },
    {
      "cell_type": "code",
      "source": [
        "(a < 1) or (a < 11)"
      ],
      "metadata": {
        "id": "xTOB8T9xqxa8"
      },
      "execution_count": null,
      "outputs": []
    },
    {
      "cell_type": "markdown",
      "source": [
        "雖然a不小於1但a小於11，只要一個是True，那就是對的"
      ],
      "metadata": {
        "id": "vxtoYw7vrEgN"
      }
    },
    {
      "cell_type": "markdown",
      "source": [
        "#while迴圈"
      ],
      "metadata": {
        "id": "rkbXLReCrOzl"
      }
    },
    {
      "cell_type": "code",
      "source": [
        "a = 0\n",
        "while a<5:\n",
        "  print(a*'*')\n",
        "  a += 1"
      ],
      "metadata": {
        "id": "CPO0PKjPrRTO"
      },
      "execution_count": null,
      "outputs": []
    },
    {
      "cell_type": "markdown",
      "source": [
        "一開始設a=0，while迴圈如果a<5就會繼續執行，印出*乘以a的數字，每執行一次a都會+1，所以執行第5次後a就會等於5，while迴圈就不會繼續執行了"
      ],
      "metadata": {
        "id": "Pc3VxcFBrdpl"
      }
    },
    {
      "cell_type": "markdown",
      "source": [
        "##for迴圈"
      ],
      "metadata": {
        "id": "soK6oZY7t-iW"
      }
    },
    {
      "cell_type": "code",
      "source": [
        "for a in 'Orange':\n",
        "  print(2*a)"
      ],
      "metadata": {
        "id": "nS4rq-ktuE2M"
      },
      "execution_count": null,
      "outputs": []
    },
    {
      "cell_type": "markdown",
      "source": [
        "把Orange這個字串內的每個字一個一個帶進去執行，第一圈a是帶入O，所以印出O乘2=>OO。第二圈a是帶入r，所以印出r乘2=>rr..."
      ],
      "metadata": {
        "id": "O-f9ZpJpuRiV"
      }
    },
    {
      "cell_type": "code",
      "source": [
        "for a in '375':\n",
        "  print(2*a)"
      ],
      "metadata": {
        "id": "eoYScdJyu0vE"
      },
      "execution_count": null,
      "outputs": []
    },
    {
      "cell_type": "markdown",
      "source": [
        "把'375'這個字串內的每個字一個一個帶進去執行，第一圈a是帶入'3'，所以印出'3'乘以2=>33。第二圈a是帶入'7'，所以印出'7'*2=>77..."
      ],
      "metadata": {
        "id": "cZ5aI_D1u8kk"
      }
    },
    {
      "cell_type": "code",
      "source": [
        "for a in ['3',7,5]:\n",
        "  print(2*a)"
      ],
      "metadata": {
        "id": "6riKpvKMvUVd"
      },
      "execution_count": null,
      "outputs": []
    },
    {
      "cell_type": "markdown",
      "source": [
        "把列表內的內容一個一個帶進a，第一個3是字串，所以印出33，第二個是整數，所以印出7乘2=>14，第三個是整數，所以印出5乘2=>10，"
      ],
      "metadata": {
        "id": "nwrANUAcvbs9"
      }
    },
    {
      "cell_type": "code",
      "source": [
        "['3',7,5]*2"
      ],
      "metadata": {
        "id": "aAT9mKr3vyBM"
      },
      "execution_count": null,
      "outputs": []
    },
    {
      "cell_type": "markdown",
      "source": [
        "如果直接用列表乘的話，會把整個列表當成類似一個字串，直接串在一起"
      ],
      "metadata": {
        "id": "TX1NRNFYv2uj"
      }
    },
    {
      "cell_type": "markdown",
      "source": [
        "#0309"
      ],
      "metadata": {
        "id": "eKdjNQhNjUFC"
      }
    },
    {
      "cell_type": "markdown",
      "source": [
        "##for迴圈"
      ],
      "metadata": {
        "id": "ji1Gov-QjV-R"
      }
    },
    {
      "cell_type": "code",
      "source": [
        "for a in range(1,15,2):\n",
        "  print(a,end=\" \")"
      ],
      "metadata": {
        "id": "LhcybPb4VQvx"
      },
      "execution_count": null,
      "outputs": []
    },
    {
      "cell_type": "markdown",
      "source": [
        "把a依序帶入從1至15(不包含15)並每次增加2的數，每次迴圈都印出a，且結尾為空白"
      ],
      "metadata": {
        "id": "TmnMK_oxVtkG"
      }
    },
    {
      "cell_type": "code",
      "source": [
        "#尋找平方根\n",
        "n=int(input())\n",
        "for i in range(n):\n",
        "  if i**2 == n:\n",
        "   print(f'{n}的平方根為:{i}')\n",
        "   answer=True\n",
        "   break #如果用break強制結束迴圈的話不會執行迴圈結束的else\n",
        "\n",
        "else:\n",
        "  print(f'{n}沒有平方根') #迴圈全部結束時執行，while迴圈也可以使用\n"
      ],
      "metadata": {
        "colab": {
          "base_uri": "https://localhost:8080/"
        },
        "id": "s-bsTEaH3diL",
        "outputId": "a365adae-07d6-4063-ef75-3160224dabd9"
      },
      "execution_count": null,
      "outputs": [
        {
          "output_type": "stream",
          "name": "stdout",
          "text": [
            "9\n",
            "9的平方根為:3\n"
          ]
        }
      ]
    },
    {
      "cell_type": "markdown",
      "source": [
        "###推導式"
      ],
      "metadata": {
        "id": "dIuLC6uYYvME"
      }
    },
    {
      "cell_type": "code",
      "source": [
        "alist = []\n",
        "for a in range(1,16,1):\n",
        "  alist.append(a)\n",
        "\n",
        "print(alist)"
      ],
      "metadata": {
        "id": "UsMmWewxYy0L"
      },
      "execution_count": null,
      "outputs": []
    },
    {
      "cell_type": "markdown",
      "source": [
        "把a依序帶入從1至16(不包含16)並每次增加1的數，每次迴圈都把a加進列表alist，最後印出alist"
      ],
      "metadata": {
        "id": "RGfoqZ2hY_2b"
      }
    },
    {
      "cell_type": "code",
      "source": [
        "s = [a*2 for a in range(1,16,1)]\n",
        "print(s)"
      ],
      "metadata": {
        "id": "eUK4N4rLZKD8"
      },
      "execution_count": null,
      "outputs": []
    },
    {
      "cell_type": "markdown",
      "source": [
        "把a依序帶入從1至16(不包含16)並每次增加1的數，然後再把a傳到前面的a，然後進行a*2的計算後加進s列表內"
      ],
      "metadata": {
        "id": "faldTeD3ZXrD"
      }
    },
    {
      "cell_type": "code",
      "source": [
        "alist = []\n",
        "for a in range(1,16,1):\n",
        "  if a%3 == 0:\n",
        "    alist.append(a)\n",
        "\n",
        "print(alist)"
      ],
      "metadata": {
        "id": "PLoFyNY1hfs6"
      },
      "execution_count": null,
      "outputs": []
    },
    {
      "cell_type": "code",
      "source": [
        "s = [a for a in range(1,16,1) if a%3==0]\n",
        "print(s)"
      ],
      "metadata": {
        "id": "I4z7CMWphHiC"
      },
      "execution_count": null,
      "outputs": []
    },
    {
      "cell_type": "markdown",
      "source": [
        "把a依序帶入從1至16(不包含16)並每次增加1的數，如果a除以3等於0的話，把值傳到前面的a，然後加進s列表內"
      ],
      "metadata": {
        "id": "g-LiPuxjhQkq"
      }
    },
    {
      "cell_type": "code",
      "source": [
        "for a in range(1,16,1):\n",
        "  for b in range(1,16,1):\n",
        "    print(a,b)"
      ],
      "metadata": {
        "id": "JC5oiP52k6jR"
      },
      "execution_count": null,
      "outputs": []
    },
    {
      "cell_type": "markdown",
      "source": [
        "把a依序帶入從1至16(不包含16)並每次增加1的數，把b依序帶入從1至16(不包含16)並每次增加1的數，印出a,b(b迴圈)，b迴圈全部跑完，a迴圈才會再進行下一次"
      ],
      "metadata": {
        "id": "X4fBwih3lPwa"
      }
    },
    {
      "cell_type": "code",
      "source": [
        "s = [[a,b] for a in range(1,16,1) for b in range(1,16,1)]\n",
        "print(s)"
      ],
      "metadata": {
        "colab": {
          "base_uri": "https://localhost:8080/"
        },
        "id": "7tG850ynlp0o",
        "outputId": "ebd6c009-6011-4960-fe84-2ac955bc61c0"
      },
      "execution_count": null,
      "outputs": [
        {
          "output_type": "stream",
          "name": "stdout",
          "text": [
            "[[1, 1], [1, 2], [1, 3], [1, 4], [1, 5], [1, 6], [1, 7], [1, 8], [1, 9], [1, 10], [1, 11], [1, 12], [1, 13], [1, 14], [1, 15], [2, 1], [2, 2], [2, 3], [2, 4], [2, 5], [2, 6], [2, 7], [2, 8], [2, 9], [2, 10], [2, 11], [2, 12], [2, 13], [2, 14], [2, 15], [3, 1], [3, 2], [3, 3], [3, 4], [3, 5], [3, 6], [3, 7], [3, 8], [3, 9], [3, 10], [3, 11], [3, 12], [3, 13], [3, 14], [3, 15], [4, 1], [4, 2], [4, 3], [4, 4], [4, 5], [4, 6], [4, 7], [4, 8], [4, 9], [4, 10], [4, 11], [4, 12], [4, 13], [4, 14], [4, 15], [5, 1], [5, 2], [5, 3], [5, 4], [5, 5], [5, 6], [5, 7], [5, 8], [5, 9], [5, 10], [5, 11], [5, 12], [5, 13], [5, 14], [5, 15], [6, 1], [6, 2], [6, 3], [6, 4], [6, 5], [6, 6], [6, 7], [6, 8], [6, 9], [6, 10], [6, 11], [6, 12], [6, 13], [6, 14], [6, 15], [7, 1], [7, 2], [7, 3], [7, 4], [7, 5], [7, 6], [7, 7], [7, 8], [7, 9], [7, 10], [7, 11], [7, 12], [7, 13], [7, 14], [7, 15], [8, 1], [8, 2], [8, 3], [8, 4], [8, 5], [8, 6], [8, 7], [8, 8], [8, 9], [8, 10], [8, 11], [8, 12], [8, 13], [8, 14], [8, 15], [9, 1], [9, 2], [9, 3], [9, 4], [9, 5], [9, 6], [9, 7], [9, 8], [9, 9], [9, 10], [9, 11], [9, 12], [9, 13], [9, 14], [9, 15], [10, 1], [10, 2], [10, 3], [10, 4], [10, 5], [10, 6], [10, 7], [10, 8], [10, 9], [10, 10], [10, 11], [10, 12], [10, 13], [10, 14], [10, 15], [11, 1], [11, 2], [11, 3], [11, 4], [11, 5], [11, 6], [11, 7], [11, 8], [11, 9], [11, 10], [11, 11], [11, 12], [11, 13], [11, 14], [11, 15], [12, 1], [12, 2], [12, 3], [12, 4], [12, 5], [12, 6], [12, 7], [12, 8], [12, 9], [12, 10], [12, 11], [12, 12], [12, 13], [12, 14], [12, 15], [13, 1], [13, 2], [13, 3], [13, 4], [13, 5], [13, 6], [13, 7], [13, 8], [13, 9], [13, 10], [13, 11], [13, 12], [13, 13], [13, 14], [13, 15], [14, 1], [14, 2], [14, 3], [14, 4], [14, 5], [14, 6], [14, 7], [14, 8], [14, 9], [14, 10], [14, 11], [14, 12], [14, 13], [14, 14], [14, 15], [15, 1], [15, 2], [15, 3], [15, 4], [15, 5], [15, 6], [15, 7], [15, 8], [15, 9], [15, 10], [15, 11], [15, 12], [15, 13], [15, 14], [15, 15]]\n"
          ]
        }
      ]
    },
    {
      "cell_type": "markdown",
      "source": [
        "把a依序帶入從1至16(不包含16)並每次增加1的數，把b依序帶入從1至16(不包含16)並每次增加1的數，印出a,b(b迴圈)，b迴圈每跑完一次。值都會回傳到a,b，並加入s列表，b迴圈全部跑完，a迴圈才會再進行下一次"
      ],
      "metadata": {
        "id": "jkBw2wxhl2uR"
      }
    },
    {
      "cell_type": "markdown",
      "source": [
        "#0316"
      ],
      "metadata": {
        "id": "CauUro2oaVAh"
      }
    },
    {
      "cell_type": "markdown",
      "source": [
        "##函式"
      ],
      "metadata": {
        "id": "wlKdDBdLYscg"
      }
    },
    {
      "cell_type": "code",
      "source": [
        "def fun1(a):\n",
        "  return a**2"
      ],
      "metadata": {
        "id": "8PFHk1P9YtCQ"
      },
      "execution_count": null,
      "outputs": []
    },
    {
      "cell_type": "code",
      "source": [
        "fun1(5)"
      ],
      "metadata": {
        "colab": {
          "base_uri": "https://localhost:8080/"
        },
        "id": "NHvgr2sHY25n",
        "outputId": "29d77883-c311-4f81-c268-aa35fe95008b"
      },
      "execution_count": null,
      "outputs": [
        {
          "output_type": "execute_result",
          "data": {
            "text/plain": [
              "25"
            ]
          },
          "metadata": {},
          "execution_count": 2
        }
      ]
    },
    {
      "cell_type": "code",
      "source": [
        "b = fun1(5)"
      ],
      "metadata": {
        "id": "yR2_r5SdY8P4"
      },
      "execution_count": null,
      "outputs": []
    },
    {
      "cell_type": "markdown",
      "source": [
        "這個不會印出結果(25)，因為fun1是把a**2的值回傳到b裡了，現在b=25 "
      ],
      "metadata": {
        "id": "TZFMQUJqZCKo"
      }
    },
    {
      "cell_type": "code",
      "source": [
        "b"
      ],
      "metadata": {
        "colab": {
          "base_uri": "https://localhost:8080/"
        },
        "id": "Xypm9yyGZV3R",
        "outputId": "47553ef7-dd6d-4a2d-f631-0632752073f3"
      },
      "execution_count": null,
      "outputs": [
        {
          "output_type": "execute_result",
          "data": {
            "text/plain": [
              "25"
            ]
          },
          "metadata": {},
          "execution_count": 4
        }
      ]
    },
    {
      "cell_type": "markdown",
      "source": [
        "因為fun1把a**2的值回傳到b裡了，現在b=25"
      ],
      "metadata": {
        "id": "jUHt68RhZYiK"
      }
    },
    {
      "cell_type": "code",
      "source": [
        "def fun2(a):\n",
        "  print(a**2)"
      ],
      "metadata": {
        "id": "C_Dd8LqpZcsh"
      },
      "execution_count": null,
      "outputs": []
    },
    {
      "cell_type": "code",
      "source": [
        "fun2(5)"
      ],
      "metadata": {
        "colab": {
          "base_uri": "https://localhost:8080/"
        },
        "id": "ijahbV14ZiMh",
        "outputId": "d5a3617f-7fc2-4294-f318-0c14ca4c34ae"
      },
      "execution_count": null,
      "outputs": [
        {
          "output_type": "stream",
          "name": "stdout",
          "text": [
            "25\n"
          ]
        }
      ]
    },
    {
      "cell_type": "code",
      "source": [
        "b = fun2(5)"
      ],
      "metadata": {
        "colab": {
          "base_uri": "https://localhost:8080/"
        },
        "id": "t9YYv1VVZmTA",
        "outputId": "3f59f195-ffa2-45ac-dbbe-2a3d347b6ea5"
      },
      "execution_count": null,
      "outputs": [
        {
          "output_type": "stream",
          "name": "stdout",
          "text": [
            "25\n"
          ]
        }
      ]
    },
    {
      "cell_type": "markdown",
      "source": [
        "這個會印出結果(25)，因為fun2函式內有print(a**2)這行程式碼，所以他會印出25"
      ],
      "metadata": {
        "id": "rtSLP2bBZpqo"
      }
    },
    {
      "cell_type": "code",
      "source": [
        "b"
      ],
      "metadata": {
        "id": "bRJ8wgZjZ8FS"
      },
      "execution_count": null,
      "outputs": []
    },
    {
      "cell_type": "markdown",
      "source": [
        "這個b不會等於任何東西，因為fun2沒有return(回傳)值給他，只有直接印出答案"
      ],
      "metadata": {
        "id": "YPL46BJSZ9cp"
      }
    }
  ]
}