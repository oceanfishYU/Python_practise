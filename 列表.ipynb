{
  "nbformat": 4,
  "nbformat_minor": 0,
  "metadata": {
    "colab": {
      "provenance": [],
      "collapsed_sections": [
        "12a9OOFKc1HC"
      ],
      "include_colab_link": true
    },
    "kernelspec": {
      "name": "python3",
      "display_name": "Python 3"
    },
    "language_info": {
      "name": "python"
    }
  },
  "cells": [
    {
      "cell_type": "markdown",
      "metadata": {
        "id": "view-in-github",
        "colab_type": "text"
      },
      "source": [
        "<a href=\"https://colab.research.google.com/github/oceanfishYU/Python_practise/blob/main/%E5%88%97%E8%A1%A8.ipynb\" target=\"_parent\"><img src=\"https://colab.research.google.com/assets/colab-badge.svg\" alt=\"Open In Colab\"/></a>"
      ]
    },
    {
      "cell_type": "markdown",
      "source": [
        "#大標題:2022/2/23作業\n",
        "##小標題:colab流程\n",
        "\\#可用來製作標題，大標題是用1個#，小標題是用2個#"
      ],
      "metadata": {
        "id": "ghOSN0TCTQbr"
      }
    },
    {
      "cell_type": "code",
      "source": [],
      "metadata": {
        "id": "6M_QIFfTTsss"
      },
      "execution_count": null,
      "outputs": []
    },
    {
      "cell_type": "markdown",
      "source": [
        "##流程"
      ],
      "metadata": {
        "id": "12a9OOFKc1HC"
      }
    },
    {
      "cell_type": "code",
      "execution_count": null,
      "metadata": {
        "id": "1qe8gdFROuCK"
      },
      "outputs": [],
      "source": [
        "a = [3,5,0]\n"
      ]
    },
    {
      "cell_type": "markdown",
      "source": [
        "a列表內有3、5、0 三個int"
      ],
      "metadata": {
        "id": "tnTRVt1AWp02"
      }
    },
    {
      "cell_type": "code",
      "source": [
        "a\n"
      ],
      "metadata": {
        "colab": {
          "base_uri": "https://localhost:8080/"
        },
        "id": "eEA4lpZRSuRV",
        "outputId": "b2bd61d5-5c89-4c8e-d29b-d0704da550eb"
      },
      "execution_count": null,
      "outputs": [
        {
          "output_type": "execute_result",
          "data": {
            "text/plain": [
              "[3, 5, 0]"
            ]
          },
          "metadata": {},
          "execution_count": 7
        }
      ]
    },
    {
      "cell_type": "markdown",
      "source": [
        "印出a列表([3, 5, 0])"
      ],
      "metadata": {
        "id": "X6-jhZc7Wtll"
      }
    },
    {
      "cell_type": "code",
      "source": [
        "a = [2, 3, 8]\n",
        "a列表內有2、3、8 三個int(如果先執行第一個程式的話，原本的a會被蓋過去)"
      ],
      "metadata": {
        "id": "baQ7NDK6Sz-D"
      },
      "execution_count": null,
      "outputs": []
    },
    {
      "cell_type": "markdown",
      "source": [
        "列表內有2、3、8 三個int(如果先執行第一個程式的話，原本的a會被蓋過去)"
      ],
      "metadata": {
        "id": "f2jSRttqWw3l"
      }
    },
    {
      "cell_type": "code",
      "source": [
        "a\n"
      ],
      "metadata": {
        "colab": {
          "base_uri": "https://localhost:8080/"
        },
        "id": "Dqt6msM7TL9c",
        "outputId": "70fa48ed-12c2-4d04-95d1-d47cf3ae84c1"
      },
      "execution_count": null,
      "outputs": [
        {
          "output_type": "execute_result",
          "data": {
            "text/plain": [
              "[2, 3, 8]"
            ]
          },
          "metadata": {},
          "execution_count": 4
        }
      ]
    },
    {
      "cell_type": "markdown",
      "source": [
        "印出a列表([2, 3, 8])"
      ],
      "metadata": {
        "id": "Wi9HsyMpW2Zl"
      }
    },
    {
      "cell_type": "code",
      "source": [
        "a"
      ],
      "metadata": {
        "colab": {
          "base_uri": "https://localhost:8080/"
        },
        "id": "JDhM1DdrTMmb",
        "outputId": "6882f429-c118-49f1-cf21-6ee1cf4cfa0e"
      },
      "execution_count": null,
      "outputs": [
        {
          "output_type": "execute_result",
          "data": {
            "text/plain": [
              "[2, 3, 8]"
            ]
          },
          "metadata": {},
          "execution_count": 5
        }
      ]
    },
    {
      "cell_type": "markdown",
      "source": [
        "這裡是我們前一個執行第1個程式(a = [3, 5, 0]這個)，此時在印出的是[3, 5, 0]而不是[2,3,8]，因為不是照順序看下來，而是看你最後一個執行的是哪一個(第1或第3)而去決定a的內容"
      ],
      "metadata": {
        "id": "dgN59HxmW5cN"
      }
    },
    {
      "cell_type": "markdown",
      "source": [
        "##製作列表"
      ],
      "metadata": {
        "id": "ifvdBGu1dYL6"
      }
    },
    {
      "cell_type": "code",
      "source": [
        "mylist = 'orange,apple,banana'.split(',')"
      ],
      "metadata": {
        "id": "79dXtLTvZEO2"
      },
      "execution_count": null,
      "outputs": []
    },
    {
      "cell_type": "markdown",
      "source": [
        "orange,apple,banana原本是字串，但我使用split並指定遇到','就切割(如果沒指定的話預設就是空白)，所以mylist會變成['orange', 'apple', 'banana']"
      ],
      "metadata": {
        "id": "HCtx2TEmZcMv"
      }
    },
    {
      "cell_type": "code",
      "source": [
        "mylist"
      ],
      "metadata": {
        "colab": {
          "base_uri": "https://localhost:8080/"
        },
        "id": "1aBNgKk0ZYZ-",
        "outputId": "8a266489-9ba1-4474-fcda-186638a0ebe6"
      },
      "execution_count": null,
      "outputs": [
        {
          "output_type": "execute_result",
          "data": {
            "text/plain": [
              "['orange', 'apple', 'banana']"
            ]
          },
          "metadata": {},
          "execution_count": 12
        }
      ]
    },
    {
      "cell_type": "markdown",
      "source": [
        "印出mylist"
      ],
      "metadata": {
        "id": "h404AibcZ8o5"
      }
    },
    {
      "cell_type": "code",
      "source": [
        "mylist = '''orange\n",
        "apple\n",
        "banana'''.split('\\n')"
      ],
      "metadata": {
        "id": "-v_6GxEEaBoQ"
      },
      "execution_count": null,
      "outputs": []
    },
    {
      "cell_type": "markdown",
      "source": [
        "如果我想要在字串中間換行並切割的話就要使用三個'(''')，這樣就可以中間換行，只有1個不行。 這次切割指定'\\n'是遇到換行就切割。這個程式印出結果會跟[11]的程式一樣"
      ],
      "metadata": {
        "id": "gc3jHP_6aYSY"
      }
    },
    {
      "cell_type": "code",
      "source": [
        "alist=list('abcde')"
      ],
      "metadata": {
        "id": "Qq-YbERKbVDB"
      },
      "execution_count": null,
      "outputs": []
    },
    {
      "cell_type": "markdown",
      "source": [
        "list會把字串一個一個分割成列表"
      ],
      "metadata": {
        "id": "Bs9hdJJidlWS"
      }
    },
    {
      "cell_type": "code",
      "source": [
        "alist"
      ],
      "metadata": {
        "colab": {
          "base_uri": "https://localhost:8080/"
        },
        "id": "zrX4Skd-baAH",
        "outputId": "eb0618c0-bc55-477e-ee7a-1192d47d0269"
      },
      "execution_count": null,
      "outputs": [
        {
          "output_type": "execute_result",
          "data": {
            "text/plain": [
              "['a', 'b', 'c', 'd', 'e']"
            ]
          },
          "metadata": {},
          "execution_count": 22
        }
      ]
    },
    {
      "cell_type": "markdown",
      "source": [
        "印出alist"
      ],
      "metadata": {
        "id": "t5rxbK5IdtxB"
      }
    },
    {
      "cell_type": "markdown",
      "source": [
        "##列表新增"
      ],
      "metadata": {
        "id": "PDUa7DydjS3M"
      }
    },
    {
      "cell_type": "markdown",
      "source": [
        "##append和extend"
      ],
      "metadata": {
        "id": "xhA2lXkidx5Z"
      }
    },
    {
      "cell_type": "code",
      "source": [
        "list0 = ['a', 'b', 'c']\n",
        "list1 = ['a', 'b', 'c']\n",
        "print(len(list0))\n",
        "print(len(list1))"
      ],
      "metadata": {
        "colab": {
          "base_uri": "https://localhost:8080/"
        },
        "id": "PUAg0IyMd1bP",
        "outputId": "f28b4d67-0450-4e40-c573-e9e08c1c844b"
      },
      "execution_count": null,
      "outputs": [
        {
          "output_type": "stream",
          "name": "stdout",
          "text": [
            "3\n",
            "3\n"
          ]
        }
      ]
    },
    {
      "cell_type": "code",
      "source": [
        "list0.append(['d','e'])\n",
        "print(len(list0))"
      ],
      "metadata": {
        "colab": {
          "base_uri": "https://localhost:8080/"
        },
        "id": "5Lut_H7-eWH6",
        "outputId": "1d69a6a5-02b1-400f-87ca-8a4ccdfafb58"
      },
      "execution_count": null,
      "outputs": [
        {
          "output_type": "stream",
          "name": "stdout",
          "text": [
            "4\n"
          ]
        }
      ]
    },
    {
      "cell_type": "markdown",
      "source": [
        "使用append讓['d','e']列表新增到list0，list0= ['a', 'b', 'c', ['d', 'e']]，用append的話['d','e']會被包在一起(如果算list0的長度的話只會增加1)"
      ],
      "metadata": {
        "id": "BP65uoxCerFS"
      }
    },
    {
      "cell_type": "code",
      "source": [
        "list0"
      ],
      "metadata": {
        "colab": {
          "base_uri": "https://localhost:8080/"
        },
        "id": "JJWhJXUiecoS",
        "outputId": "0e8bf38d-46e7-469b-f03c-63801a5a99bc"
      },
      "execution_count": null,
      "outputs": [
        {
          "output_type": "execute_result",
          "data": {
            "text/plain": [
              "['a', 'b', 'c', ['d', 'e']]"
            ]
          },
          "metadata": {},
          "execution_count": 49
        }
      ]
    },
    {
      "cell_type": "markdown",
      "source": [
        "印出list0"
      ],
      "metadata": {
        "id": "cEDMydKhe10z"
      }
    },
    {
      "cell_type": "code",
      "source": [
        "list1.extend(['d','e'])\n",
        "print(len(list1))"
      ],
      "metadata": {
        "colab": {
          "base_uri": "https://localhost:8080/"
        },
        "id": "v41X_v3aee6q",
        "outputId": "2088867d-d531-4292-8daf-a50a14583e22"
      },
      "execution_count": null,
      "outputs": [
        {
          "output_type": "stream",
          "name": "stdout",
          "text": [
            "5\n"
          ]
        }
      ]
    },
    {
      "cell_type": "markdown",
      "source": [
        "使用extend讓['d','e']列表新增到list1，list1= ['a', 'b', 'c', 'd', 'e']，用extend的話['d','e']會被分割成兩個(如果算list1的長度的話會增加2)"
      ],
      "metadata": {
        "id": "ReoxaqzUfO-r"
      }
    },
    {
      "cell_type": "code",
      "source": [
        "list1"
      ],
      "metadata": {
        "colab": {
          "base_uri": "https://localhost:8080/"
        },
        "id": "AHXHukPUenIK",
        "outputId": "daeaea8e-b0c7-42a5-f3e3-b866d220b10e"
      },
      "execution_count": null,
      "outputs": [
        {
          "output_type": "execute_result",
          "data": {
            "text/plain": [
              "['a', 'b', 'c', 'd', 'e']"
            ]
          },
          "metadata": {},
          "execution_count": 51
        }
      ]
    },
    {
      "cell_type": "markdown",
      "source": [
        "印出list1"
      ],
      "metadata": {
        "id": "gWgKo1GYjpTd"
      }
    },
    {
      "cell_type": "markdown",
      "source": [
        "## 使用insert新增"
      ],
      "metadata": {
        "id": "MPvxrXOsg6p8"
      }
    },
    {
      "cell_type": "code",
      "source": [
        "list1= ['orange', 'apple', 'banana']\n",
        "list2= ['orange', 'apple', 'banana']\n",
        "list3= ['orange', 'apple', 'banana']"
      ],
      "metadata": {
        "id": "NKKLcw1Gg_zD"
      },
      "execution_count": null,
      "outputs": []
    },
    {
      "cell_type": "code",
      "source": [
        "list1.insert(2,'tomato')\n",
        "list1"
      ],
      "metadata": {
        "colab": {
          "base_uri": "https://localhost:8080/"
        },
        "id": "iBTC4Xk8hMeb",
        "outputId": "c4542772-a98f-40ba-ad7a-100a18234fce"
      },
      "execution_count": null,
      "outputs": [
        {
          "output_type": "execute_result",
          "data": {
            "text/plain": [
              "['orange', 'tomato', 'apple', 'banana']"
            ]
          },
          "metadata": {},
          "execution_count": 40
        }
      ]
    },
    {
      "cell_type": "markdown",
      "source": [
        "使用insert函數把'tomato'新增到list1的2的位置(列表從左到右是從0開始，所以就是原本列表最後一個位置，'banana'往後移)\n",
        "\n"
      ],
      "metadata": {
        "id": "m9PgLXhihaBz"
      }
    },
    {
      "cell_type": "code",
      "source": [
        "list2.insert(-1,'tomato')\n",
        "list2"
      ],
      "metadata": {
        "colab": {
          "base_uri": "https://localhost:8080/"
        },
        "id": "mp82THw5hvMk",
        "outputId": "45c6e4af-a92c-443c-9b63-436918046610"
      },
      "execution_count": null,
      "outputs": [
        {
          "output_type": "execute_result",
          "data": {
            "text/plain": [
              "['orange', 'apple', 'tomato', 'tomato', 'banana']"
            ]
          },
          "metadata": {},
          "execution_count": 44
        }
      ]
    },
    {
      "cell_type": "markdown",
      "source": [
        "使用insert函數把'tomato'新增到list2的-1的位置(列表從右到左是從-1開始，是倒數的概念，所以就是原本列表最後一個位置，倒數最後一個，'banana'往後移)"
      ],
      "metadata": {
        "id": "UnNokjuVh_IM"
      }
    },
    {
      "cell_type": "code",
      "source": [
        "list3.insert(7,'tomato')\n",
        "list3"
      ],
      "metadata": {
        "colab": {
          "base_uri": "https://localhost:8080/"
        },
        "id": "MvtHj5Q4itf0",
        "outputId": "bd94b59e-5efe-4f72-c2be-55a5b8e5c84b"
      },
      "execution_count": null,
      "outputs": [
        {
          "output_type": "execute_result",
          "data": {
            "text/plain": [
              "['orange', 'apple', 'banana', 'tomato']"
            ]
          },
          "metadata": {},
          "execution_count": 46
        }
      ]
    },
    {
      "cell_type": "markdown",
      "source": [
        "使用insert函數把'tomato'新增到list2的7的位置，因為原本列表只有到2，沒有7所以就新增到新列表的最後面"
      ],
      "metadata": {
        "id": "tMFQlTdai0z0"
      }
    },
    {
      "cell_type": "markdown",
      "source": [
        "##列表"
      ],
      "metadata": {
        "id": "gjWt4TzYoHAF"
      }
    },
    {
      "cell_type": "markdown",
      "source": [
        "###列表讀取"
      ],
      "metadata": {
        "id": "e_A6SardoOJ2"
      }
    },
    {
      "cell_type": "markdown",
      "source": [
        "a:b:c的意思是從a開始到b(不包含b)，每次增加c個(沒有寫就是預設1)"
      ],
      "metadata": {
        "id": "Q-uH3Qawn5ad"
      }
    },
    {
      "cell_type": "code",
      "source": [
        "list1 = ['1','2','3','4','5']\n",
        "list1"
      ],
      "metadata": {
        "colab": {
          "base_uri": "https://localhost:8080/"
        },
        "id": "-_nrMLdCoRfz",
        "outputId": "f1c9c47a-a295-4039-cfe5-e9be8387ae20"
      },
      "execution_count": null,
      "outputs": [
        {
          "output_type": "execute_result",
          "data": {
            "text/plain": [
              "['1', '2', '3', '4', '5']"
            ]
          },
          "metadata": {},
          "execution_count": 55
        }
      ]
    },
    {
      "cell_type": "code",
      "source": [
        "list1[:2]\n",
        "#列出第0個到第2個(不包含2)"
      ],
      "metadata": {
        "colab": {
          "base_uri": "https://localhost:8080/"
        },
        "id": "W459PUKKpqo0",
        "outputId": "664d8ea8-c14b-45ec-f89b-110637db2a1a"
      },
      "execution_count": null,
      "outputs": [
        {
          "output_type": "execute_result",
          "data": {
            "text/plain": [
              "['1', '2']"
            ]
          },
          "metadata": {},
          "execution_count": 61
        }
      ]
    },
    {
      "cell_type": "code",
      "source": [
        "list1[::2]\n",
        "#從頭列到尾，間隔2個"
      ],
      "metadata": {
        "colab": {
          "base_uri": "https://localhost:8080/"
        },
        "id": "HpFM9x_2qE6U",
        "outputId": "934d94a2-da51-4747-9821-e81b555a0377"
      },
      "execution_count": null,
      "outputs": [
        {
          "output_type": "execute_result",
          "data": {
            "text/plain": [
              "['1', '3', '5']"
            ]
          },
          "metadata": {},
          "execution_count": 63
        }
      ]
    },
    {
      "cell_type": "code",
      "source": [
        "list1[::-1]"
      ],
      "metadata": {
        "colab": {
          "base_uri": "https://localhost:8080/"
        },
        "id": "YsPw7M1doibO",
        "outputId": "70baf5cc-32f0-4190-bd20-1af6713031b3"
      },
      "execution_count": null,
      "outputs": [
        {
          "output_type": "execute_result",
          "data": {
            "text/plain": [
              "['5', '4', '3', '2', '1']"
            ]
          },
          "metadata": {},
          "execution_count": 56
        }
      ]
    },
    {
      "cell_type": "markdown",
      "source": [
        "從倒數第1個(最後一個)，由右至左列出來"
      ],
      "metadata": {
        "id": "wBwsL-2iom5G"
      }
    },
    {
      "cell_type": "code",
      "source": [
        "list1[-1:0:-1]"
      ],
      "metadata": {
        "colab": {
          "base_uri": "https://localhost:8080/"
        },
        "id": "EmCJou9Po0IX",
        "outputId": "c99a88e7-0ec1-477c-be23-f9755db62335"
      },
      "execution_count": null,
      "outputs": [
        {
          "output_type": "execute_result",
          "data": {
            "text/plain": [
              "['5', '4', '3', '2']"
            ]
          },
          "metadata": {},
          "execution_count": 59
        }
      ]
    },
    {
      "cell_type": "markdown",
      "source": [
        "從倒數第1個(最後一個)，到第0個(不包含第0個)，並且由右至左列出來"
      ],
      "metadata": {
        "id": "HIRqjwsso7JH"
      }
    },
    {
      "cell_type": "markdown",
      "source": [
        "###列表刪除"
      ],
      "metadata": {
        "id": "Ix74kjgsrswH"
      }
    },
    {
      "cell_type": "code",
      "source": [
        "list1 = ['1','2','3','4','5','6']\n",
        "list1"
      ],
      "metadata": {
        "colab": {
          "base_uri": "https://localhost:8080/"
        },
        "id": "aEbQLXgIryVQ",
        "outputId": "242bbd27-182d-43ad-fbd1-423beb403e76"
      },
      "execution_count": null,
      "outputs": [
        {
          "output_type": "execute_result",
          "data": {
            "text/plain": [
              "['1', '2', '3', '4', '5', '6']"
            ]
          },
          "metadata": {},
          "execution_count": 89
        }
      ]
    },
    {
      "cell_type": "code",
      "source": [
        "del list1[:4] #del不是列表專用的函數\n",
        "list1"
      ],
      "metadata": {
        "colab": {
          "base_uri": "https://localhost:8080/"
        },
        "id": "BDIW7_Rzr6Io",
        "outputId": "fe33f1b0-427a-4d98-fdbe-b8a6f116aa39"
      },
      "execution_count": null,
      "outputs": [
        {
          "output_type": "execute_result",
          "data": {
            "text/plain": [
              "['5', '6']"
            ]
          },
          "metadata": {},
          "execution_count": 83
        }
      ]
    },
    {
      "cell_type": "markdown",
      "source": [
        "使用del函數把從0到4(不包含4)的內容刪除，del是找列表的位置刪除。"
      ],
      "metadata": {
        "id": "BirgqpORsAqp"
      }
    },
    {
      "cell_type": "code",
      "source": [
        "list1.remove('3')\n",
        "list1"
      ],
      "metadata": {
        "colab": {
          "base_uri": "https://localhost:8080/"
        },
        "id": "cEOlT7CysULw",
        "outputId": "4a3d7df2-ab91-4c87-b13e-0cfffa1a5975"
      },
      "execution_count": null,
      "outputs": [
        {
          "output_type": "execute_result",
          "data": {
            "text/plain": [
              "['1', '2', '4', '5', '6']"
            ]
          },
          "metadata": {},
          "execution_count": 90
        }
      ]
    },
    {
      "cell_type": "markdown",
      "source": [
        "使用remove函數刪除內容是3的，remove是找列表的內容刪除。"
      ],
      "metadata": {
        "id": "6zwd3xK7sixY"
      }
    },
    {
      "cell_type": "markdown",
      "source": [
        "#**0302作業**"
      ],
      "metadata": {
        "id": "WGB_LnGVReTs"
      }
    },
    {
      "cell_type": "markdown",
      "source": [
        "##列表的位置"
      ],
      "metadata": {
        "id": "JW8RpzA6Rykl"
      }
    },
    {
      "cell_type": "code",
      "source": [
        "alist = [1,2,3,4,5,2]\n",
        "blist = [1,2,3]"
      ],
      "metadata": {
        "id": "PFO01jHkR4A1"
      },
      "execution_count": null,
      "outputs": []
    },
    {
      "cell_type": "code",
      "source": [
        "num = int(input('請輸入一個數字:'))\n",
        "if num in alist:\n",
        "  print(alist.index(num)) #index是找特定內容在列表中的哪個位置，並且只會列出第一個出現的位置"
      ],
      "metadata": {
        "colab": {
          "base_uri": "https://localhost:8080/"
        },
        "id": "AFGnJxt3R_8U",
        "outputId": "7a70b25a-0073-45cd-fb33-05ffb8d40586"
      },
      "execution_count": null,
      "outputs": [
        {
          "output_type": "stream",
          "name": "stdout",
          "text": [
            "請輸入一個數字:2\n",
            "1\n"
          ]
        }
      ]
    },
    {
      "cell_type": "markdown",
      "source": [
        "請輸入一個num(整數)，如果num在alist內的話=>印出num是在alist的哪個位置"
      ],
      "metadata": {
        "id": "4M_NlyrOS3W0"
      }
    },
    {
      "cell_type": "markdown",
      "source": [
        "##列表的個數"
      ],
      "metadata": {
        "id": "rb6T9l4UWM_U"
      }
    },
    {
      "cell_type": "code",
      "source": [
        "print(len(alist))\n",
        "print(alist.count(2))"
      ],
      "metadata": {
        "colab": {
          "base_uri": "https://localhost:8080/"
        },
        "id": "M-JReSG7WR80",
        "outputId": "8caa1f6b-1eab-4238-cd17-a487e4a5f40d"
      },
      "execution_count": null,
      "outputs": [
        {
          "output_type": "stream",
          "name": "stdout",
          "text": [
            "6\n",
            "2\n"
          ]
        }
      ]
    },
    {
      "cell_type": "markdown",
      "source": [
        "一、印出alist的長度是多少(有多少內容物) 二、印出alist裡面有幾個2(整數)"
      ],
      "metadata": {
        "id": "pvDJ9C59WkZj"
      }
    },
    {
      "cell_type": "code",
      "source": [
        "num = int(input('請輸入一個數字:'))\n",
        "if alist.count(num) != 0:\n",
        "  print(alist.index(num))"
      ],
      "metadata": {
        "colab": {
          "base_uri": "https://localhost:8080/"
        },
        "id": "pyAeSG4KWxOj",
        "outputId": "4f006622-71d3-49d2-9e87-6bb81668d1d9"
      },
      "execution_count": null,
      "outputs": [
        {
          "output_type": "stream",
          "name": "stdout",
          "text": [
            "請輸入一個數字:3\n",
            "2\n"
          ]
        }
      ]
    },
    {
      "cell_type": "markdown",
      "source": [
        "請輸入一個num(整數)，如果alist內有不等於0個num(num存在於alist內)的話就繼續執行=>印出num是在alist的哪個位置"
      ],
      "metadata": {
        "id": "fj68tgzfXI3L"
      }
    },
    {
      "cell_type": "markdown",
      "source": [
        "##列表的順序"
      ],
      "metadata": {
        "id": "YIAy_J6rcK6y"
      }
    },
    {
      "cell_type": "code",
      "source": [
        "list1 = [2,3,1,5,7]"
      ],
      "metadata": {
        "id": "o-JTJCoecNBS"
      },
      "execution_count": null,
      "outputs": []
    },
    {
      "cell_type": "code",
      "source": [
        "list2 = sorted(list1)\n",
        "print(list2)\n",
        "print(list1)"
      ],
      "metadata": {
        "colab": {
          "base_uri": "https://localhost:8080/"
        },
        "id": "H7opGFpDcQxK",
        "outputId": "d1b04324-80f1-4d7e-f77b-df07dc654108"
      },
      "execution_count": null,
      "outputs": [
        {
          "output_type": "stream",
          "name": "stdout",
          "text": [
            "[1, 2, 3, 5, 7]\n",
            "[2, 3, 1, 5, 7]\n"
          ]
        }
      ]
    },
    {
      "cell_type": "markdown",
      "source": [
        "令list2=排序過的list1，印出list2。 sorted函數只會回傳排序後的結果，並不會直接改變原本列表的順序，且並不是列表專用函數"
      ],
      "metadata": {
        "id": "fh8rc3hHclc5"
      }
    },
    {
      "cell_type": "code",
      "source": [
        "list1.sort()\n",
        "print(list1)"
      ],
      "metadata": {
        "colab": {
          "base_uri": "https://localhost:8080/"
        },
        "id": "TyCKWxJLcerq",
        "outputId": "d378ee23-6cee-4f30-fc8d-d50509866cd8"
      },
      "execution_count": null,
      "outputs": [
        {
          "output_type": "stream",
          "name": "stdout",
          "text": [
            "[1, 2, 3, 5, 7]\n"
          ]
        }
      ]
    },
    {
      "cell_type": "markdown",
      "source": [
        "sort函數是列表的函數，並且會直接改變列表的順序"
      ],
      "metadata": {
        "id": "kBmb1uJndE8z"
      }
    },
    {
      "cell_type": "markdown",
      "source": [
        "##列表轉為字串"
      ],
      "metadata": {
        "id": "iUOoF7FcfRAR"
      }
    },
    {
      "cell_type": "code",
      "source": [
        "mylist = 'orange,apple,banana'.split(',')\n",
        "print(mylist)"
      ],
      "metadata": {
        "colab": {
          "base_uri": "https://localhost:8080/"
        },
        "id": "EX8FhV1gfYTS",
        "outputId": "e5a22a5b-ee22-4357-9bb4-fbd489d2884f"
      },
      "execution_count": null,
      "outputs": [
        {
          "output_type": "stream",
          "name": "stdout",
          "text": [
            "['orange', 'apple', 'banana']\n"
          ]
        }
      ]
    },
    {
      "cell_type": "code",
      "source": [
        "'與'.join(mylist)"
      ],
      "metadata": {
        "colab": {
          "base_uri": "https://localhost:8080/",
          "height": 35
        },
        "id": "n4x8Yi-7fatx",
        "outputId": "680a5480-a35c-4cd8-84c3-723718df66f5"
      },
      "execution_count": null,
      "outputs": [
        {
          "output_type": "execute_result",
          "data": {
            "application/vnd.google.colaboratory.intrinsic+json": {
              "type": "string"
            },
            "text/plain": [
              "'orange與apple與banana'"
            ]
          },
          "metadata": {},
          "execution_count": 43
        }
      ]
    },
    {
      "cell_type": "markdown",
      "source": [
        "使用join函數把列表轉為字串，以'與'當作間隔"
      ],
      "metadata": {
        "id": "zpwONbcuft3B"
      }
    },
    {
      "cell_type": "markdown",
      "source": [
        "##列表的加減乘除"
      ],
      "metadata": {
        "id": "n-fAvIMpj8vB"
      }
    },
    {
      "cell_type": "code",
      "source": [
        "list1 = ['A', 'B', 'C']\n",
        "list2 = ['D', 'E', 'F']"
      ],
      "metadata": {
        "id": "_bRmXUyUj_Ch"
      },
      "execution_count": null,
      "outputs": []
    },
    {
      "cell_type": "code",
      "source": [
        "list1 + list2"
      ],
      "metadata": {
        "colab": {
          "base_uri": "https://localhost:8080/"
        },
        "id": "dVNZdIvskJIH",
        "outputId": "76d0edbf-0ad0-4b04-9d41-3f913743fbd6"
      },
      "execution_count": null,
      "outputs": [
        {
          "output_type": "execute_result",
          "data": {
            "text/plain": [
              "['A', 'B', 'C', 'D', 'E', 'F']"
            ]
          },
          "metadata": {},
          "execution_count": 45
        }
      ]
    },
    {
      "cell_type": "markdown",
      "source": [
        "列表相加會像字串相加一樣直接串在一起"
      ],
      "metadata": {
        "id": "tU5mITkbkMd3"
      }
    },
    {
      "cell_type": "code",
      "source": [
        "#list1-list2"
      ],
      "metadata": {
        "id": "xUyzD_WokVnw"
      },
      "execution_count": null,
      "outputs": []
    },
    {
      "cell_type": "markdown",
      "source": [
        "列表不能減"
      ],
      "metadata": {
        "id": "AWj1kyftkYWy"
      }
    },
    {
      "cell_type": "code",
      "source": [
        "list1*3"
      ],
      "metadata": {
        "colab": {
          "base_uri": "https://localhost:8080/"
        },
        "id": "5RlMqPjXkc7f",
        "outputId": "08f64a8a-43df-42ac-ef7e-a13e4da11b0e"
      },
      "execution_count": null,
      "outputs": [
        {
          "output_type": "execute_result",
          "data": {
            "text/plain": [
              "['A', 'B', 'C', 'A', 'B', 'C', 'A', 'B', 'C']"
            ]
          },
          "metadata": {},
          "execution_count": 47
        }
      ]
    },
    {
      "cell_type": "markdown",
      "source": [
        "列表乘以3，就會=列表內容重複出現3次"
      ],
      "metadata": {
        "id": "yYRHfuwUkhnA"
      }
    },
    {
      "cell_type": "code",
      "source": [
        "#list/3"
      ],
      "metadata": {
        "id": "f7bNwLhiksDA"
      },
      "execution_count": null,
      "outputs": []
    },
    {
      "cell_type": "markdown",
      "source": [
        "列表不能除"
      ],
      "metadata": {
        "id": "ukD4ZG1gkuIx"
      }
    }
  ]
}