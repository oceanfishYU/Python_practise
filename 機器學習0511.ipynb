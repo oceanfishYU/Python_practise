{
  "nbformat": 4,
  "nbformat_minor": 0,
  "metadata": {
    "colab": {
      "provenance": [],
      "collapsed_sections": [
        "CLRLDcaBuhVv"
      ],
      "authorship_tag": "ABX9TyPI1wgcNp9sfZISkAx3SqUM",
      "include_colab_link": true
    },
    "kernelspec": {
      "name": "python3",
      "display_name": "Python 3"
    },
    "language_info": {
      "name": "python"
    }
  },
  "cells": [
    {
      "cell_type": "markdown",
      "metadata": {
        "id": "view-in-github",
        "colab_type": "text"
      },
      "source": [
        "<a href=\"https://colab.research.google.com/github/oceanfishYU/Python_practise/blob/main/%E6%A9%9F%E5%99%A8%E5%AD%B8%E7%BF%920511.ipynb\" target=\"_parent\"><img src=\"https://colab.research.google.com/assets/colab-badge.svg\" alt=\"Open In Colab\"/></a>"
      ]
    },
    {
      "cell_type": "markdown",
      "source": [
        "#線性迴歸"
      ],
      "metadata": {
        "id": "vWammvbT6Z73"
      }
    },
    {
      "cell_type": "markdown",
      "source": [
        "##1.訓練模型"
      ],
      "metadata": {
        "id": "IQLHTx1v6d2A"
      }
    },
    {
      "cell_type": "code",
      "execution_count": null,
      "metadata": {
        "id": "1ROSgFUyxYuP"
      },
      "outputs": [],
      "source": [
        "import numpy as np \n",
        "import pandas as pd"
      ]
    },
    {
      "cell_type": "code",
      "source": [
        "age = [20, 21, 22, 41, 43, 52, 55]\n",
        "incomes = [20, 26, 25, 30, 32, 40, 38]\n",
        "mydata=pd.DataFrame({'年紀':age, '收入':incomes})\n",
        "mydata"
      ],
      "metadata": {
        "colab": {
          "base_uri": "https://localhost:8080/",
          "height": 269
        },
        "id": "gUdQdnF56pe8",
        "outputId": "ae9270c3-15ce-4dec-e6a1-df9de719cf2b"
      },
      "execution_count": null,
      "outputs": [
        {
          "output_type": "execute_result",
          "data": {
            "text/plain": [
              "   年紀  收入\n",
              "0  20  20\n",
              "1  21  26\n",
              "2  22  25\n",
              "3  41  30\n",
              "4  43  32\n",
              "5  52  40\n",
              "6  55  38"
            ],
            "text/html": [
              "\n",
              "  <div id=\"df-a9bf7c18-39a2-42db-b3d2-7ee25c01cfbc\">\n",
              "    <div class=\"colab-df-container\">\n",
              "      <div>\n",
              "<style scoped>\n",
              "    .dataframe tbody tr th:only-of-type {\n",
              "        vertical-align: middle;\n",
              "    }\n",
              "\n",
              "    .dataframe tbody tr th {\n",
              "        vertical-align: top;\n",
              "    }\n",
              "\n",
              "    .dataframe thead th {\n",
              "        text-align: right;\n",
              "    }\n",
              "</style>\n",
              "<table border=\"1\" class=\"dataframe\">\n",
              "  <thead>\n",
              "    <tr style=\"text-align: right;\">\n",
              "      <th></th>\n",
              "      <th>年紀</th>\n",
              "      <th>收入</th>\n",
              "    </tr>\n",
              "  </thead>\n",
              "  <tbody>\n",
              "    <tr>\n",
              "      <th>0</th>\n",
              "      <td>20</td>\n",
              "      <td>20</td>\n",
              "    </tr>\n",
              "    <tr>\n",
              "      <th>1</th>\n",
              "      <td>21</td>\n",
              "      <td>26</td>\n",
              "    </tr>\n",
              "    <tr>\n",
              "      <th>2</th>\n",
              "      <td>22</td>\n",
              "      <td>25</td>\n",
              "    </tr>\n",
              "    <tr>\n",
              "      <th>3</th>\n",
              "      <td>41</td>\n",
              "      <td>30</td>\n",
              "    </tr>\n",
              "    <tr>\n",
              "      <th>4</th>\n",
              "      <td>43</td>\n",
              "      <td>32</td>\n",
              "    </tr>\n",
              "    <tr>\n",
              "      <th>5</th>\n",
              "      <td>52</td>\n",
              "      <td>40</td>\n",
              "    </tr>\n",
              "    <tr>\n",
              "      <th>6</th>\n",
              "      <td>55</td>\n",
              "      <td>38</td>\n",
              "    </tr>\n",
              "  </tbody>\n",
              "</table>\n",
              "</div>\n",
              "      <button class=\"colab-df-convert\" onclick=\"convertToInteractive('df-a9bf7c18-39a2-42db-b3d2-7ee25c01cfbc')\"\n",
              "              title=\"Convert this dataframe to an interactive table.\"\n",
              "              style=\"display:none;\">\n",
              "        \n",
              "  <svg xmlns=\"http://www.w3.org/2000/svg\" height=\"24px\"viewBox=\"0 0 24 24\"\n",
              "       width=\"24px\">\n",
              "    <path d=\"M0 0h24v24H0V0z\" fill=\"none\"/>\n",
              "    <path d=\"M18.56 5.44l.94 2.06.94-2.06 2.06-.94-2.06-.94-.94-2.06-.94 2.06-2.06.94zm-11 1L8.5 8.5l.94-2.06 2.06-.94-2.06-.94L8.5 2.5l-.94 2.06-2.06.94zm10 10l.94 2.06.94-2.06 2.06-.94-2.06-.94-.94-2.06-.94 2.06-2.06.94z\"/><path d=\"M17.41 7.96l-1.37-1.37c-.4-.4-.92-.59-1.43-.59-.52 0-1.04.2-1.43.59L10.3 9.45l-7.72 7.72c-.78.78-.78 2.05 0 2.83L4 21.41c.39.39.9.59 1.41.59.51 0 1.02-.2 1.41-.59l7.78-7.78 2.81-2.81c.8-.78.8-2.07 0-2.86zM5.41 20L4 18.59l7.72-7.72 1.47 1.35L5.41 20z\"/>\n",
              "  </svg>\n",
              "      </button>\n",
              "      \n",
              "  <style>\n",
              "    .colab-df-container {\n",
              "      display:flex;\n",
              "      flex-wrap:wrap;\n",
              "      gap: 12px;\n",
              "    }\n",
              "\n",
              "    .colab-df-convert {\n",
              "      background-color: #E8F0FE;\n",
              "      border: none;\n",
              "      border-radius: 50%;\n",
              "      cursor: pointer;\n",
              "      display: none;\n",
              "      fill: #1967D2;\n",
              "      height: 32px;\n",
              "      padding: 0 0 0 0;\n",
              "      width: 32px;\n",
              "    }\n",
              "\n",
              "    .colab-df-convert:hover {\n",
              "      background-color: #E2EBFA;\n",
              "      box-shadow: 0px 1px 2px rgba(60, 64, 67, 0.3), 0px 1px 3px 1px rgba(60, 64, 67, 0.15);\n",
              "      fill: #174EA6;\n",
              "    }\n",
              "\n",
              "    [theme=dark] .colab-df-convert {\n",
              "      background-color: #3B4455;\n",
              "      fill: #D2E3FC;\n",
              "    }\n",
              "\n",
              "    [theme=dark] .colab-df-convert:hover {\n",
              "      background-color: #434B5C;\n",
              "      box-shadow: 0px 1px 3px 1px rgba(0, 0, 0, 0.15);\n",
              "      filter: drop-shadow(0px 1px 2px rgba(0, 0, 0, 0.3));\n",
              "      fill: #FFFFFF;\n",
              "    }\n",
              "  </style>\n",
              "\n",
              "      <script>\n",
              "        const buttonEl =\n",
              "          document.querySelector('#df-a9bf7c18-39a2-42db-b3d2-7ee25c01cfbc button.colab-df-convert');\n",
              "        buttonEl.style.display =\n",
              "          google.colab.kernel.accessAllowed ? 'block' : 'none';\n",
              "\n",
              "        async function convertToInteractive(key) {\n",
              "          const element = document.querySelector('#df-a9bf7c18-39a2-42db-b3d2-7ee25c01cfbc');\n",
              "          const dataTable =\n",
              "            await google.colab.kernel.invokeFunction('convertToInteractive',\n",
              "                                                     [key], {});\n",
              "          if (!dataTable) return;\n",
              "\n",
              "          const docLinkHtml = 'Like what you see? Visit the ' +\n",
              "            '<a target=\"_blank\" href=https://colab.research.google.com/notebooks/data_table.ipynb>data table notebook</a>'\n",
              "            + ' to learn more about interactive tables.';\n",
              "          element.innerHTML = '';\n",
              "          dataTable['output_type'] = 'display_data';\n",
              "          await google.colab.output.renderOutput(dataTable, element);\n",
              "          const docLink = document.createElement('div');\n",
              "          docLink.innerHTML = docLinkHtml;\n",
              "          element.appendChild(docLink);\n",
              "        }\n",
              "      </script>\n",
              "    </div>\n",
              "  </div>\n",
              "  "
            ]
          },
          "metadata": {},
          "execution_count": 2
        }
      ]
    },
    {
      "cell_type": "markdown",
      "source": [
        "把年齡與收入的數據輸入到age和incomes。之後再把資料輸入到panda裡(mydata)。"
      ],
      "metadata": {
        "id": "oe5SizZR7WBH"
      }
    },
    {
      "cell_type": "code",
      "source": [
        "import matplotlib.pyplot as plt\n",
        "plt.scatter(age,incomes)"
      ],
      "metadata": {
        "colab": {
          "base_uri": "https://localhost:8080/",
          "height": 282
        },
        "id": "lv_2MzlV7DfH",
        "outputId": "1fa7956d-82b8-49a7-be68-74f20c52776a"
      },
      "execution_count": null,
      "outputs": [
        {
          "output_type": "execute_result",
          "data": {
            "text/plain": [
              "<matplotlib.collections.PathCollection at 0x7f1a6cd11d10>"
            ]
          },
          "metadata": {},
          "execution_count": 3
        },
        {
          "output_type": "display_data",
          "data": {
            "text/plain": [
              "<Figure size 432x288 with 1 Axes>"
            ],
            "image/png": "[encoded data removed]"
          },
          "metadata": {
            "needs_background": "light"
          }
        }
      ]
    },
    {
      "cell_type": "markdown",
      "source": [
        "先把matplotlib.pyplot的程式包到plt裡面，然後用plt.scatter(age,incomes)畫出圖。scatter指的是散佈圖。age是x軸，incomes是y軸。"
      ],
      "metadata": {
        "id": "i6fj1V547mzH"
      }
    },
    {
      "cell_type": "markdown",
      "source": [
        "### 輸入陣列到fit做訓練"
      ],
      "metadata": {
        "id": "11XzAOOluYwQ"
      }
    },
    {
      "cell_type": "code",
      "source": [
        "from sklearn.linear_model import LinearRegression"
      ],
      "metadata": {
        "id": "MID4G2Qq9lh9"
      },
      "execution_count": null,
      "outputs": []
    },
    {
      "cell_type": "markdown",
      "source": [
        "sklearn.linear_model有很多模型，我們從sklearn.linear_model中取出LinearRegression(線性回歸)的模型。"
      ],
      "metadata": {
        "id": "BpAKgVNe95Ke"
      }
    },
    {
      "cell_type": "code",
      "source": [
        "model = LinearRegression()"
      ],
      "metadata": {
        "id": "S-Ym_oZj9w0u"
      },
      "execution_count": null,
      "outputs": []
    },
    {
      "cell_type": "markdown",
      "source": [
        "建立一個叫做model的線性回歸模型"
      ],
      "metadata": {
        "id": "naNFw_9A-K1l"
      }
    },
    {
      "cell_type": "code",
      "source": [
        "mydata.年紀.values.reshape(-1,1)"
      ],
      "metadata": {
        "colab": {
          "base_uri": "https://localhost:8080/"
        },
        "id": "zFIMDgb1DCD7",
        "outputId": "015825ce-677d-48c3-a6ae-b6116df31a09"
      },
      "execution_count": null,
      "outputs": [
        {
          "output_type": "execute_result",
          "data": {
            "text/plain": [
              "array([[20],\n",
              "       [21],\n",
              "       [22],\n",
              "       [41],\n",
              "       [43],\n",
              "       [52],\n",
              "       [55]])"
            ]
          },
          "metadata": {},
          "execution_count": 6
        }
      ]
    },
    {
      "cell_type": "markdown",
      "source": [
        ".values是把數據轉成陣列(也可用np.array)，輸入進模型的數據要至少二維才可以，reshape(-1,1)，前面放-1能幫我們自動計算每1個一包的話會有幾包，但兩個乘起來一定要等於陣列的數量。"
      ],
      "metadata": {
        "id": "jrKLMxKUDOby"
      }
    },
    {
      "cell_type": "code",
      "source": [
        "model.fit(mydata.年紀.values.reshape(-1,1) , mydata.收入.values.reshape(-1,1))"
      ],
      "metadata": {
        "colab": {
          "base_uri": "https://localhost:8080/"
        },
        "id": "17ErQlT8DVWJ",
        "outputId": "e8bf9f68-b051-4453-90a9-de1dfa59124b"
      },
      "execution_count": null,
      "outputs": [
        {
          "output_type": "execute_result",
          "data": {
            "text/plain": [
              "LinearRegression()"
            ]
          },
          "metadata": {},
          "execution_count": 7
        }
      ]
    },
    {
      "cell_type": "markdown",
      "source": [
        "用fit訓練模型，因為我們要訓練它用年紀來預測收入，所以年紀放在前面，收入放逗點後面"
      ],
      "metadata": {
        "id": "466cE7dEDpAz"
      }
    },
    {
      "cell_type": "code",
      "source": [
        "model.predict(mydata.年紀.values.reshape(-1,1))"
      ],
      "metadata": {
        "colab": {
          "base_uri": "https://localhost:8080/"
        },
        "id": "Vb8-4vAyD1vv",
        "outputId": "dad6447d-ca48-4a26-e931-b7a8eef04d93"
      },
      "execution_count": null,
      "outputs": [
        {
          "output_type": "execute_result",
          "data": {
            "text/plain": [
              "array([[22.8098621 ],\n",
              "       [23.26013372],\n",
              "       [23.71040535],\n",
              "       [32.26556623],\n",
              "       [33.16610949],\n",
              "       [37.21855412],\n",
              "       [38.56936899]])"
            ]
          },
          "metadata": {},
          "execution_count": 8
        }
      ]
    },
    {
      "cell_type": "markdown",
      "source": [
        "把原本資料的年紀輸入進模型裡讓它預測收入"
      ],
      "metadata": {
        "id": "sXNAdR1HD-UB"
      }
    },
    {
      "cell_type": "code",
      "source": [
        "a=np.array([[30]])\n",
        "a"
      ],
      "metadata": {
        "colab": {
          "base_uri": "https://localhost:8080/"
        },
        "id": "OljOWs93EMcp",
        "outputId": "5acb81d6-bf0f-4545-b479-685f74a31c3d"
      },
      "execution_count": null,
      "outputs": [
        {
          "output_type": "execute_result",
          "data": {
            "text/plain": [
              "array([[30]])"
            ]
          },
          "metadata": {},
          "execution_count": 9
        }
      ]
    },
    {
      "cell_type": "markdown",
      "source": [
        "a是要讓模型預測當年記載30歲時，收入會是多少，切記要跟一開始訓練時丟進去的資料一樣的維度"
      ],
      "metadata": {
        "id": "ZGiMSIuaEUGq"
      }
    },
    {
      "cell_type": "code",
      "source": [
        "model.predict(a)"
      ],
      "metadata": {
        "colab": {
          "base_uri": "https://localhost:8080/"
        },
        "id": "fA37w1_OEcph",
        "outputId": "34d6cf9f-9a52-4951-b0a5-711911b23fce"
      },
      "execution_count": null,
      "outputs": [
        {
          "output_type": "execute_result",
          "data": {
            "text/plain": [
              "array([[27.31257835]])"
            ]
          },
          "metadata": {},
          "execution_count": 10
        }
      ]
    },
    {
      "cell_type": "markdown",
      "source": [
        "模型預測當人在30歲時，收入是27.31257835(千元)"
      ],
      "metadata": {
        "id": "UmKAS95BEru6"
      }
    },
    {
      "cell_type": "code",
      "source": [
        "x = np.linspace(0,60,100).reshape(-1,1)\n",
        "x"
      ],
      "metadata": {
        "id": "8XyUqJSrG7Lg",
        "colab": {
          "base_uri": "https://localhost:8080/"
        },
        "outputId": "04d306db-e427-4e06-b335-5b2b467f3c34"
      },
      "execution_count": null,
      "outputs": [
        {
          "output_type": "execute_result",
          "data": {
            "text/plain": [
              "array([[ 0.        ],\n",
              "       [ 0.60606061],\n",
              "       [ 1.21212121],\n",
              "       [ 1.81818182],\n",
              "       [ 2.42424242],\n",
              "       [ 3.03030303],\n",
              "       [ 3.63636364],\n",
              "       [ 4.24242424],\n",
              "       [ 4.84848485],\n",
              "       [ 5.45454545],\n",
              "       [ 6.06060606],\n",
              "       [ 6.66666667],\n",
              "       [ 7.27272727],\n",
              "       [ 7.87878788],\n",
              "       [ 8.48484848],\n",
              "       [ 9.09090909],\n",
              "       [ 9.6969697 ],\n",
              "       [10.3030303 ],\n",
              "       [10.90909091],\n",
              "       [11.51515152],\n",
              "       [12.12121212],\n",
              "       [12.72727273],\n",
              "       [13.33333333],\n",
              "       [13.93939394],\n",
              "       [14.54545455],\n",
              "       [15.15151515],\n",
              "       [15.75757576],\n",
              "       [16.36363636],\n",
              "       [16.96969697],\n",
              "       [17.57575758],\n",
              "       [18.18181818],\n",
              "       [18.78787879],\n",
              "       [19.39393939],\n",
              "       [20.        ],\n",
              "       [20.60606061],\n",
              "       [21.21212121],\n",
              "       [21.81818182],\n",
              "       [22.42424242],\n",
              "       [23.03030303],\n",
              "       [23.63636364],\n",
              "       [24.24242424],\n",
              "       [24.84848485],\n",
              "       [25.45454545],\n",
              "       [26.06060606],\n",
              "       [26.66666667],\n",
              "       [27.27272727],\n",
              "       [27.87878788],\n",
              "       [28.48484848],\n",
              "       [29.09090909],\n",
              "       [29.6969697 ],\n",
              "       [30.3030303 ],\n",
              "       [30.90909091],\n",
              "       [31.51515152],\n",
              "       [32.12121212],\n",
              "       [32.72727273],\n",
              "       [33.33333333],\n",
              "       [33.93939394],\n",
              "       [34.54545455],\n",
              "       [35.15151515],\n",
              "       [35.75757576],\n",
              "       [36.36363636],\n",
              "       [36.96969697],\n",
              "       [37.57575758],\n",
              "       [38.18181818],\n",
              "       [38.78787879],\n",
              "       [39.39393939],\n",
              "       [40.        ],\n",
              "       [40.60606061],\n",
              "       [41.21212121],\n",
              "       [41.81818182],\n",
              "       [42.42424242],\n",
              "       [43.03030303],\n",
              "       [43.63636364],\n",
              "       [44.24242424],\n",
              "       [44.84848485],\n",
              "       [45.45454545],\n",
              "       [46.06060606],\n",
              "       [46.66666667],\n",
              "       [47.27272727],\n",
              "       [47.87878788],\n",
              "       [48.48484848],\n",
              "       [49.09090909],\n",
              "       [49.6969697 ],\n",
              "       [50.3030303 ],\n",
              "       [50.90909091],\n",
              "       [51.51515152],\n",
              "       [52.12121212],\n",
              "       [52.72727273],\n",
              "       [53.33333333],\n",
              "       [53.93939394],\n",
              "       [54.54545455],\n",
              "       [55.15151515],\n",
              "       [55.75757576],\n",
              "       [56.36363636],\n",
              "       [56.96969697],\n",
              "       [57.57575758],\n",
              "       [58.18181818],\n",
              "       [58.78787879],\n",
              "       [59.39393939],\n",
              "       [60.        ]])"
            ]
          },
          "metadata": {},
          "execution_count": 11
        }
      ]
    },
    {
      "cell_type": "markdown",
      "source": [
        "x=從0~60有100個的陣列，並且把它reshape成二維陣列"
      ],
      "metadata": {
        "id": "glcTCN_VHdoS"
      }
    },
    {
      "cell_type": "code",
      "source": [
        "y=model.predict(x)\n",
        "y"
      ],
      "metadata": {
        "id": "IpxpX-2BHvIA",
        "colab": {
          "base_uri": "https://localhost:8080/"
        },
        "outputId": "6da91083-e542-4bfc-9fb3-9106433191f7"
      },
      "execution_count": null,
      "outputs": [
        {
          "output_type": "execute_result",
          "data": {
            "text/plain": [
              "array([[13.80442959],\n",
              "       [14.07732148],\n",
              "       [14.35021337],\n",
              "       [14.62310527],\n",
              "       [14.89599716],\n",
              "       [15.16888906],\n",
              "       [15.44178095],\n",
              "       [15.71467285],\n",
              "       [15.98756474],\n",
              "       [16.26045663],\n",
              "       [16.53334853],\n",
              "       [16.80624042],\n",
              "       [17.07913232],\n",
              "       [17.35202421],\n",
              "       [17.62491611],\n",
              "       [17.897808  ],\n",
              "       [18.17069989],\n",
              "       [18.44359179],\n",
              "       [18.71648368],\n",
              "       [18.98937558],\n",
              "       [19.26226747],\n",
              "       [19.53515937],\n",
              "       [19.80805126],\n",
              "       [20.08094315],\n",
              "       [20.35383505],\n",
              "       [20.62672694],\n",
              "       [20.89961884],\n",
              "       [21.17251073],\n",
              "       [21.44540263],\n",
              "       [21.71829452],\n",
              "       [21.99118641],\n",
              "       [22.26407831],\n",
              "       [22.5369702 ],\n",
              "       [22.8098621 ],\n",
              "       [23.08275399],\n",
              "       [23.35564589],\n",
              "       [23.62853778],\n",
              "       [23.90142967],\n",
              "       [24.17432157],\n",
              "       [24.44721346],\n",
              "       [24.72010536],\n",
              "       [24.99299725],\n",
              "       [25.26588915],\n",
              "       [25.53878104],\n",
              "       [25.81167293],\n",
              "       [26.08456483],\n",
              "       [26.35745672],\n",
              "       [26.63034862],\n",
              "       [26.90324051],\n",
              "       [27.17613241],\n",
              "       [27.4490243 ],\n",
              "       [27.72191619],\n",
              "       [27.99480809],\n",
              "       [28.26769998],\n",
              "       [28.54059188],\n",
              "       [28.81348377],\n",
              "       [29.08637567],\n",
              "       [29.35926756],\n",
              "       [29.63215945],\n",
              "       [29.90505135],\n",
              "       [30.17794324],\n",
              "       [30.45083514],\n",
              "       [30.72372703],\n",
              "       [30.99661893],\n",
              "       [31.26951082],\n",
              "       [31.54240271],\n",
              "       [31.81529461],\n",
              "       [32.0881865 ],\n",
              "       [32.3610784 ],\n",
              "       [32.63397029],\n",
              "       [32.90686219],\n",
              "       [33.17975408],\n",
              "       [33.45264598],\n",
              "       [33.72553787],\n",
              "       [33.99842976],\n",
              "       [34.27132166],\n",
              "       [34.54421355],\n",
              "       [34.81710545],\n",
              "       [35.08999734],\n",
              "       [35.36288924],\n",
              "       [35.63578113],\n",
              "       [35.90867302],\n",
              "       [36.18156492],\n",
              "       [36.45445681],\n",
              "       [36.72734871],\n",
              "       [37.0002406 ],\n",
              "       [37.2731325 ],\n",
              "       [37.54602439],\n",
              "       [37.81891628],\n",
              "       [38.09180818],\n",
              "       [38.36470007],\n",
              "       [38.63759197],\n",
              "       [38.91048386],\n",
              "       [39.18337576],\n",
              "       [39.45626765],\n",
              "       [39.72915954],\n",
              "       [40.00205144],\n",
              "       [40.27494333],\n",
              "       [40.54783523],\n",
              "       [40.82072712]])"
            ]
          },
          "metadata": {},
          "execution_count": 12
        }
      ]
    },
    {
      "cell_type": "markdown",
      "source": [
        "y=模型預測x的收入會等於多少"
      ],
      "metadata": {
        "id": "9dTxsQsYH5vg"
      }
    },
    {
      "cell_type": "code",
      "source": [
        "import matplotlib.pyplot as plt\n",
        "\n",
        "plt.scatter(age,incomes)\n",
        "plt.plot(x,y,c='red')"
      ],
      "metadata": {
        "colab": {
          "base_uri": "https://localhost:8080/",
          "height": 282
        },
        "id": "EDW-6q2wIFZP",
        "outputId": "bce42c6d-258d-49ef-8603-4ce9e87dd58e"
      },
      "execution_count": null,
      "outputs": [
        {
          "output_type": "execute_result",
          "data": {
            "text/plain": [
              "[<matplotlib.lines.Line2D at 0x7f1a600aa090>]"
            ]
          },
          "metadata": {},
          "execution_count": 13
        },
        {
          "output_type": "display_data",
          "data": {
            "text/plain": [
              "<Figure size 432x288 with 1 Axes>"
            ],
            "image/png": "[encoded data removed]"
          },
          "metadata": {
            "needs_background": "light"
          }
        }
      ]
    },
    {
      "cell_type": "markdown",
      "source": [
        "模型是由藍色的點訓練而來的，plot是把預測的xy點用線連起來，然後紅色的線是由x和y畫出的(要畫出線需要很多點)，並且用c='red'將線顏色改成紅色的(原本為藍色)。"
      ],
      "metadata": {
        "id": "9QSq-baKIXNH"
      }
    },
    {
      "cell_type": "markdown",
      "source": [
        "### 輸入pandas到fit做訓練"
      ],
      "metadata": {
        "id": "CLRLDcaBuhVv"
      }
    },
    {
      "cell_type": "code",
      "source": [
        "mydata.年紀"
      ],
      "metadata": {
        "colab": {
          "base_uri": "https://localhost:8080/"
        },
        "id": "Dvr3pwaYuzOg",
        "outputId": "2ab35862-1332-4558-dbd4-7b703ba79c45"
      },
      "execution_count": null,
      "outputs": [
        {
          "output_type": "execute_result",
          "data": {
            "text/plain": [
              "0    20\n",
              "1    21\n",
              "2    22\n",
              "3    41\n",
              "4    43\n",
              "5    52\n",
              "6    55\n",
              "Name: 年紀, dtype: int64"
            ]
          },
          "metadata": {},
          "execution_count": 14
        }
      ]
    },
    {
      "cell_type": "markdown",
      "source": [
        "這個不是pandas的形式"
      ],
      "metadata": {
        "id": "hEJipSUWvNhp"
      }
    },
    {
      "cell_type": "code",
      "source": [
        "mydata.iloc[:,0:1]"
      ],
      "metadata": {
        "colab": {
          "base_uri": "https://localhost:8080/"
        },
        "id": "RsRkU-8OvVF6",
        "outputId": "d23d6ee8-d48d-4a01-d597-562d38a69093"
      },
      "execution_count": null,
      "outputs": [
        {
          "output_type": "execute_result",
          "data": {
            "text/plain": [
              "   年紀\n",
              "0  20\n",
              "1  21\n",
              "2  22\n",
              "3  41\n",
              "4  43\n",
              "5  52\n",
              "6  55"
            ],
            "text/html": [
              "\n",
              "  <div id=\"df-2fd91589-caf5-4b11-9c4e-6644a35cda86\">\n",
              "    <div class=\"colab-df-container\">\n",
              "      <div>\n",
              "<style scoped>\n",
              "    .dataframe tbody tr th:only-of-type {\n",
              "        vertical-align: middle;\n",
              "    }\n",
              "\n",
              "    .dataframe tbody tr th {\n",
              "        vertical-align: top;\n",
              "    }\n",
              "\n",
              "    .dataframe thead th {\n",
              "        text-align: right;\n",
              "    }\n",
              "</style>\n",
              "<table border=\"1\" class=\"dataframe\">\n",
              "  <thead>\n",
              "    <tr style=\"text-align: right;\">\n",
              "      <th></th>\n",
              "      <th>年紀</th>\n",
              "    </tr>\n",
              "  </thead>\n",
              "  <tbody>\n",
              "    <tr>\n",
              "      <th>0</th>\n",
              "      <td>20</td>\n",
              "    </tr>\n",
              "    <tr>\n",
              "      <th>1</th>\n",
              "      <td>21</td>\n",
              "    </tr>\n",
              "    <tr>\n",
              "      <th>2</th>\n",
              "      <td>22</td>\n",
              "    </tr>\n",
              "    <tr>\n",
              "      <th>3</th>\n",
              "      <td>41</td>\n",
              "    </tr>\n",
              "    <tr>\n",
              "      <th>4</th>\n",
              "      <td>43</td>\n",
              "    </tr>\n",
              "    <tr>\n",
              "      <th>5</th>\n",
              "      <td>52</td>\n",
              "    </tr>\n",
              "    <tr>\n",
              "      <th>6</th>\n",
              "      <td>55</td>\n",
              "    </tr>\n",
              "  </tbody>\n",
              "</table>\n",
              "</div>\n",
              "      <button class=\"colab-df-convert\" onclick=\"convertToInteractive('df-2fd91589-caf5-4b11-9c4e-6644a35cda86')\"\n",
              "              title=\"Convert this dataframe to an interactive table.\"\n",
              "              style=\"display:none;\">\n",
              "        \n",
              "  <svg xmlns=\"http://www.w3.org/2000/svg\" height=\"24px\"viewBox=\"0 0 24 24\"\n",
              "       width=\"24px\">\n",
              "    <path d=\"M0 0h24v24H0V0z\" fill=\"none\"/>\n",
              "    <path d=\"M18.56 5.44l.94 2.06.94-2.06 2.06-.94-2.06-.94-.94-2.06-.94 2.06-2.06.94zm-11 1L8.5 8.5l.94-2.06 2.06-.94-2.06-.94L8.5 2.5l-.94 2.06-2.06.94zm10 10l.94 2.06.94-2.06 2.06-.94-2.06-.94-.94-2.06-.94 2.06-2.06.94z\"/><path d=\"M17.41 7.96l-1.37-1.37c-.4-.4-.92-.59-1.43-.59-.52 0-1.04.2-1.43.59L10.3 9.45l-7.72 7.72c-.78.78-.78 2.05 0 2.83L4 21.41c.39.39.9.59 1.41.59.51 0 1.02-.2 1.41-.59l7.78-7.78 2.81-2.81c.8-.78.8-2.07 0-2.86zM5.41 20L4 18.59l7.72-7.72 1.47 1.35L5.41 20z\"/>\n",
              "  </svg>\n",
              "      </button>\n",
              "      \n",
              "  <style>\n",
              "    .colab-df-container {\n",
              "      display:flex;\n",
              "      flex-wrap:wrap;\n",
              "      gap: 12px;\n",
              "    }\n",
              "\n",
              "    .colab-df-convert {\n",
              "      background-color: #E8F0FE;\n",
              "      border: none;\n",
              "      border-radius: 50%;\n",
              "      cursor: pointer;\n",
              "      display: none;\n",
              "      fill: #1967D2;\n",
              "      height: 32px;\n",
              "      padding: 0 0 0 0;\n",
              "      width: 32px;\n",
              "    }\n",
              "\n",
              "    .colab-df-convert:hover {\n",
              "      background-color: #E2EBFA;\n",
              "      box-shadow: 0px 1px 2px rgba(60, 64, 67, 0.3), 0px 1px 3px 1px rgba(60, 64, 67, 0.15);\n",
              "      fill: #174EA6;\n",
              "    }\n",
              "\n",
              "    [theme=dark] .colab-df-convert {\n",
              "      background-color: #3B4455;\n",
              "      fill: #D2E3FC;\n",
              "    }\n",
              "\n",
              "    [theme=dark] .colab-df-convert:hover {\n",
              "      background-color: #434B5C;\n",
              "      box-shadow: 0px 1px 3px 1px rgba(0, 0, 0, 0.15);\n",
              "      filter: drop-shadow(0px 1px 2px rgba(0, 0, 0, 0.3));\n",
              "      fill: #FFFFFF;\n",
              "    }\n",
              "  </style>\n",
              "\n",
              "      <script>\n",
              "        const buttonEl =\n",
              "          document.querySelector('#df-2fd91589-caf5-4b11-9c4e-6644a35cda86 button.colab-df-convert');\n",
              "        buttonEl.style.display =\n",
              "          google.colab.kernel.accessAllowed ? 'block' : 'none';\n",
              "\n",
              "        async function convertToInteractive(key) {\n",
              "          const element = document.querySelector('#df-2fd91589-caf5-4b11-9c4e-6644a35cda86');\n",
              "          const dataTable =\n",
              "            await google.colab.kernel.invokeFunction('convertToInteractive',\n",
              "                                                     [key], {});\n",
              "          if (!dataTable) return;\n",
              "\n",
              "          const docLinkHtml = 'Like what you see? Visit the ' +\n",
              "            '<a target=\"_blank\" href=https://colab.research.google.com/notebooks/data_table.ipynb>data table notebook</a>'\n",
              "            + ' to learn more about interactive tables.';\n",
              "          element.innerHTML = '';\n",
              "          dataTable['output_type'] = 'display_data';\n",
              "          await google.colab.output.renderOutput(dataTable, element);\n",
              "          const docLink = document.createElement('div');\n",
              "          docLink.innerHTML = docLinkHtml;\n",
              "          element.appendChild(docLink);\n",
              "        }\n",
              "      </script>\n",
              "    </div>\n",
              "  </div>\n",
              "  "
            ]
          },
          "metadata": {},
          "execution_count": 15
        }
      ]
    },
    {
      "cell_type": "markdown",
      "source": [
        "利用iloc找出[每一列,從第0欄到第1欄不包含第1欄(就是第0欄)]這才是pandas的形式，逗號後只打0的話出來的也不會是panda型態"
      ],
      "metadata": {
        "id": "CSb851N6vZpQ"
      }
    },
    {
      "cell_type": "code",
      "source": [
        "from sklearn.linear_model import LinearRegression\n",
        "model = LinearRegression()"
      ],
      "metadata": {
        "id": "DNGneQR3v0F4"
      },
      "execution_count": null,
      "outputs": []
    },
    {
      "cell_type": "code",
      "source": [
        "model.fit(mydata.iloc[:,0:1] , mydata.iloc[:,1:])"
      ],
      "metadata": {
        "colab": {
          "base_uri": "https://localhost:8080/"
        },
        "id": "zC_OLdlWv8eh",
        "outputId": "883add85-6814-4b0b-e168-2442afaa127b"
      },
      "execution_count": null,
      "outputs": [
        {
          "output_type": "execute_result",
          "data": {
            "text/plain": [
              "LinearRegression()"
            ]
          },
          "metadata": {},
          "execution_count": 17
        }
      ]
    },
    {
      "cell_type": "markdown",
      "source": [
        "用fit訓練模型，因為我們要訓練它用年紀來預測收入，所以年紀放在前面，收入( 利用iloc找出[每一列,從第1欄到最後一欄(就是第1欄)] )放逗點後面"
      ],
      "metadata": {
        "id": "UBks113vwl5R"
      }
    },
    {
      "cell_type": "code",
      "source": [
        "model.predict(mydata.iloc[:,0:1])"
      ],
      "metadata": {
        "colab": {
          "base_uri": "https://localhost:8080/"
        },
        "id": "re_nP2zbwLu4",
        "outputId": "ba02b703-e8b1-43f3-bdf3-1b145082fcd8"
      },
      "execution_count": null,
      "outputs": [
        {
          "output_type": "execute_result",
          "data": {
            "text/plain": [
              "array([[22.8098621 ],\n",
              "       [23.26013372],\n",
              "       [23.71040535],\n",
              "       [32.26556623],\n",
              "       [33.16610949],\n",
              "       [37.21855412],\n",
              "       [38.56936899]])"
            ]
          },
          "metadata": {},
          "execution_count": 18
        }
      ]
    },
    {
      "cell_type": "markdown",
      "source": [
        "用predict輸入原始資料的年紀預測他們收入"
      ],
      "metadata": {
        "id": "2pzEVDvmxFVK"
      }
    },
    {
      "cell_type": "markdown",
      "source": [
        "##2.評估模型"
      ],
      "metadata": {
        "id": "5SPCByOzyfaD"
      }
    },
    {
      "cell_type": "code",
      "source": [
        "model.score(mydata.年紀.values.reshape(-1,1) , mydata.收入.values.reshape(-1,1))"
      ],
      "metadata": {
        "colab": {
          "base_uri": "https://localhost:8080/"
        },
        "id": "OHJ9oX8oyiqC",
        "outputId": "ba4b62c8-1a98-4713-cd63-f7c38a5e1f8c"
      },
      "execution_count": null,
      "outputs": [
        {
          "output_type": "stream",
          "name": "stderr",
          "text": [
            "/usr/local/lib/python3.7/dist-packages/sklearn/base.py:451: UserWarning: X does not have valid feature names, but LinearRegression was fitted with feature names\n",
            "  \"X does not have valid feature names, but\"\n"
          ]
        },
        {
          "output_type": "execute_result",
          "data": {
            "text/plain": [
              "0.8976275236940305"
            ]
          },
          "metadata": {},
          "execution_count": 19
        }
      ]
    },
    {
      "cell_type": "markdown",
      "source": [
        "用score來評估模型，越靠近1代表模型越好，就是藍色的點越靠近紅色的線(紅色的線是模型)代表模型越好，這個輸入是用陣列"
      ],
      "metadata": {
        "id": "vYaXQ_Jcy3DZ"
      }
    },
    {
      "cell_type": "code",
      "source": [
        "model.score(mydata.iloc[:,0:1] , mydata.iloc[:,1:])"
      ],
      "metadata": {
        "colab": {
          "base_uri": "https://localhost:8080/"
        },
        "id": "V4i6nWTVy__5",
        "outputId": "3cb4217e-5d27-4012-ce1d-03bc0cdaab52"
      },
      "execution_count": null,
      "outputs": [
        {
          "output_type": "execute_result",
          "data": {
            "text/plain": [
              "0.8976275236940305"
            ]
          },
          "metadata": {},
          "execution_count": 20
        }
      ]
    },
    {
      "cell_type": "markdown",
      "source": [
        "用score來評估模型，越靠近1代表模型越好(這個輸入是用panda)，這裡是直接放訓練時用的原始資料，所以分數高。正常應該要放需要預測的資料，然後再給那些資料的正確答案來評估分數。score()前面是放要預測的資料，預測完後會跟逗號後的正確答案最比對得出分數。"
      ],
      "metadata": {
        "id": "TW8ScELGzPkh"
      }
    },
    {
      "cell_type": "markdown",
      "source": [
        "##3.線性方程式( y = 常數(b)+x*斜率(a) )"
      ],
      "metadata": {
        "id": "sY26KTrR2u3a"
      }
    },
    {
      "cell_type": "code",
      "source": [
        "model.intercept_"
      ],
      "metadata": {
        "colab": {
          "base_uri": "https://localhost:8080/"
        },
        "id": "3aPItS2p28Os",
        "outputId": "a26274f8-b994-4ae3-9fdf-40d570758f62"
      },
      "execution_count": null,
      "outputs": [
        {
          "output_type": "execute_result",
          "data": {
            "text/plain": [
              "array([13.80442959])"
            ]
          },
          "metadata": {},
          "execution_count": 21
        }
      ]
    },
    {
      "cell_type": "markdown",
      "source": [
        "這個模型的常數為13.80442959"
      ],
      "metadata": {
        "id": "XZLgIwxk3BN7"
      }
    },
    {
      "cell_type": "code",
      "source": [
        "model.coef_"
      ],
      "metadata": {
        "colab": {
          "base_uri": "https://localhost:8080/"
        },
        "id": "7mHu4iFw3Edq",
        "outputId": "fda648ea-a183-4b34-8ddb-fedb4879e7d4"
      },
      "execution_count": null,
      "outputs": [
        {
          "output_type": "execute_result",
          "data": {
            "text/plain": [
              "array([[0.45027163]])"
            ]
          },
          "metadata": {},
          "execution_count": 22
        }
      ]
    },
    {
      "cell_type": "markdown",
      "source": [
        "這個模型的斜率為0.45027163"
      ],
      "metadata": {
        "id": "NXDN59Sx3IdT"
      }
    },
    {
      "cell_type": "markdown",
      "source": [
        "* 這個模型(紅色的線)的線性方程式:收入(y) = 13.80442959 + 年紀(x)*0.45027163\n"
      ],
      "metadata": {
        "id": "qejqJbct3M47"
      }
    },
    {
      "cell_type": "markdown",
      "source": [
        "#多元迴歸"
      ],
      "metadata": {
        "id": "pprNXoiH3yOs"
      }
    },
    {
      "cell_type": "markdown",
      "source": [
        "##1.訓練模型"
      ],
      "metadata": {
        "id": "FCqBw4hyCCge"
      }
    },
    {
      "cell_type": "code",
      "source": [
        "import numpy as np \n",
        "import pandas as pd\n",
        "import matplotlib.pyplot as plt\n",
        "\n",
        "age = [20, 21, 22, 41, 43, 52, 55]\n",
        "education = [1, 3, 1, 0, 0, 1, 0]\n",
        "incomes = [20, 26, 25, 30, 32, 40, 38]\n",
        "\n",
        "mydata=pd.DataFrame({'年紀':age, '教育程度':education, '收入':incomes})\n",
        "mydata"
      ],
      "metadata": {
        "colab": {
          "base_uri": "https://localhost:8080/",
          "height": 269
        },
        "id": "r1PaVxeS5CIT",
        "outputId": "295efc95-a71d-492b-de53-bfe71350aa37"
      },
      "execution_count": null,
      "outputs": [
        {
          "output_type": "execute_result",
          "data": {
            "text/plain": [
              "   年紀  教育程度  收入\n",
              "0  20     1  20\n",
              "1  21     3  26\n",
              "2  22     1  25\n",
              "3  41     0  30\n",
              "4  43     0  32\n",
              "5  52     1  40\n",
              "6  55     0  38"
            ],
            "text/html": [
              "\n",
              "  <div id=\"df-a1e2b1cb-bb46-4a6b-9122-54f3b86cb366\">\n",
              "    <div class=\"colab-df-container\">\n",
              "      <div>\n",
              "<style scoped>\n",
              "    .dataframe tbody tr th:only-of-type {\n",
              "        vertical-align: middle;\n",
              "    }\n",
              "\n",
              "    .dataframe tbody tr th {\n",
              "        vertical-align: top;\n",
              "    }\n",
              "\n",
              "    .dataframe thead th {\n",
              "        text-align: right;\n",
              "    }\n",
              "</style>\n",
              "<table border=\"1\" class=\"dataframe\">\n",
              "  <thead>\n",
              "    <tr style=\"text-align: right;\">\n",
              "      <th></th>\n",
              "      <th>年紀</th>\n",
              "      <th>教育程度</th>\n",
              "      <th>收入</th>\n",
              "    </tr>\n",
              "  </thead>\n",
              "  <tbody>\n",
              "    <tr>\n",
              "      <th>0</th>\n",
              "      <td>20</td>\n",
              "      <td>1</td>\n",
              "      <td>20</td>\n",
              "    </tr>\n",
              "    <tr>\n",
              "      <th>1</th>\n",
              "      <td>21</td>\n",
              "      <td>3</td>\n",
              "      <td>26</td>\n",
              "    </tr>\n",
              "    <tr>\n",
              "      <th>2</th>\n",
              "      <td>22</td>\n",
              "      <td>1</td>\n",
              "      <td>25</td>\n",
              "    </tr>\n",
              "    <tr>\n",
              "      <th>3</th>\n",
              "      <td>41</td>\n",
              "      <td>0</td>\n",
              "      <td>30</td>\n",
              "    </tr>\n",
              "    <tr>\n",
              "      <th>4</th>\n",
              "      <td>43</td>\n",
              "      <td>0</td>\n",
              "      <td>32</td>\n",
              "    </tr>\n",
              "    <tr>\n",
              "      <th>5</th>\n",
              "      <td>52</td>\n",
              "      <td>1</td>\n",
              "      <td>40</td>\n",
              "    </tr>\n",
              "    <tr>\n",
              "      <th>6</th>\n",
              "      <td>55</td>\n",
              "      <td>0</td>\n",
              "      <td>38</td>\n",
              "    </tr>\n",
              "  </tbody>\n",
              "</table>\n",
              "</div>\n",
              "      <button class=\"colab-df-convert\" onclick=\"convertToInteractive('df-a1e2b1cb-bb46-4a6b-9122-54f3b86cb366')\"\n",
              "              title=\"Convert this dataframe to an interactive table.\"\n",
              "              style=\"display:none;\">\n",
              "        \n",
              "  <svg xmlns=\"http://www.w3.org/2000/svg\" height=\"24px\"viewBox=\"0 0 24 24\"\n",
              "       width=\"24px\">\n",
              "    <path d=\"M0 0h24v24H0V0z\" fill=\"none\"/>\n",
              "    <path d=\"M18.56 5.44l.94 2.06.94-2.06 2.06-.94-2.06-.94-.94-2.06-.94 2.06-2.06.94zm-11 1L8.5 8.5l.94-2.06 2.06-.94-2.06-.94L8.5 2.5l-.94 2.06-2.06.94zm10 10l.94 2.06.94-2.06 2.06-.94-2.06-.94-.94-2.06-.94 2.06-2.06.94z\"/><path d=\"M17.41 7.96l-1.37-1.37c-.4-.4-.92-.59-1.43-.59-.52 0-1.04.2-1.43.59L10.3 9.45l-7.72 7.72c-.78.78-.78 2.05 0 2.83L4 21.41c.39.39.9.59 1.41.59.51 0 1.02-.2 1.41-.59l7.78-7.78 2.81-2.81c.8-.78.8-2.07 0-2.86zM5.41 20L4 18.59l7.72-7.72 1.47 1.35L5.41 20z\"/>\n",
              "  </svg>\n",
              "      </button>\n",
              "      \n",
              "  <style>\n",
              "    .colab-df-container {\n",
              "      display:flex;\n",
              "      flex-wrap:wrap;\n",
              "      gap: 12px;\n",
              "    }\n",
              "\n",
              "    .colab-df-convert {\n",
              "      background-color: #E8F0FE;\n",
              "      border: none;\n",
              "      border-radius: 50%;\n",
              "      cursor: pointer;\n",
              "      display: none;\n",
              "      fill: #1967D2;\n",
              "      height: 32px;\n",
              "      padding: 0 0 0 0;\n",
              "      width: 32px;\n",
              "    }\n",
              "\n",
              "    .colab-df-convert:hover {\n",
              "      background-color: #E2EBFA;\n",
              "      box-shadow: 0px 1px 2px rgba(60, 64, 67, 0.3), 0px 1px 3px 1px rgba(60, 64, 67, 0.15);\n",
              "      fill: #174EA6;\n",
              "    }\n",
              "\n",
              "    [theme=dark] .colab-df-convert {\n",
              "      background-color: #3B4455;\n",
              "      fill: #D2E3FC;\n",
              "    }\n",
              "\n",
              "    [theme=dark] .colab-df-convert:hover {\n",
              "      background-color: #434B5C;\n",
              "      box-shadow: 0px 1px 3px 1px rgba(0, 0, 0, 0.15);\n",
              "      filter: drop-shadow(0px 1px 2px rgba(0, 0, 0, 0.3));\n",
              "      fill: #FFFFFF;\n",
              "    }\n",
              "  </style>\n",
              "\n",
              "      <script>\n",
              "        const buttonEl =\n",
              "          document.querySelector('#df-a1e2b1cb-bb46-4a6b-9122-54f3b86cb366 button.colab-df-convert');\n",
              "        buttonEl.style.display =\n",
              "          google.colab.kernel.accessAllowed ? 'block' : 'none';\n",
              "\n",
              "        async function convertToInteractive(key) {\n",
              "          const element = document.querySelector('#df-a1e2b1cb-bb46-4a6b-9122-54f3b86cb366');\n",
              "          const dataTable =\n",
              "            await google.colab.kernel.invokeFunction('convertToInteractive',\n",
              "                                                     [key], {});\n",
              "          if (!dataTable) return;\n",
              "\n",
              "          const docLinkHtml = 'Like what you see? Visit the ' +\n",
              "            '<a target=\"_blank\" href=https://colab.research.google.com/notebooks/data_table.ipynb>data table notebook</a>'\n",
              "            + ' to learn more about interactive tables.';\n",
              "          element.innerHTML = '';\n",
              "          dataTable['output_type'] = 'display_data';\n",
              "          await google.colab.output.renderOutput(dataTable, element);\n",
              "          const docLink = document.createElement('div');\n",
              "          docLink.innerHTML = docLinkHtml;\n",
              "          element.appendChild(docLink);\n",
              "        }\n",
              "      </script>\n",
              "    </div>\n",
              "  </div>\n",
              "  "
            ]
          },
          "metadata": {},
          "execution_count": 23
        }
      ]
    },
    {
      "cell_type": "code",
      "source": [
        "mydata.iloc[:,0:2]"
      ],
      "metadata": {
        "colab": {
          "base_uri": "https://localhost:8080/",
          "height": 269
        },
        "id": "8flvBULD9fjG",
        "outputId": "d0b6a7de-113a-479d-c766-c9f73bf70124"
      },
      "execution_count": null,
      "outputs": [
        {
          "output_type": "execute_result",
          "data": {
            "text/plain": [
              "   年紀  教育程度\n",
              "0  20     1\n",
              "1  21     3\n",
              "2  22     1\n",
              "3  41     0\n",
              "4  43     0\n",
              "5  52     1\n",
              "6  55     0"
            ],
            "text/html": [
              "\n",
              "  <div id=\"df-55818cc7-6b5c-408d-9ae9-1c4131edac32\">\n",
              "    <div class=\"colab-df-container\">\n",
              "      <div>\n",
              "<style scoped>\n",
              "    .dataframe tbody tr th:only-of-type {\n",
              "        vertical-align: middle;\n",
              "    }\n",
              "\n",
              "    .dataframe tbody tr th {\n",
              "        vertical-align: top;\n",
              "    }\n",
              "\n",
              "    .dataframe thead th {\n",
              "        text-align: right;\n",
              "    }\n",
              "</style>\n",
              "<table border=\"1\" class=\"dataframe\">\n",
              "  <thead>\n",
              "    <tr style=\"text-align: right;\">\n",
              "      <th></th>\n",
              "      <th>年紀</th>\n",
              "      <th>教育程度</th>\n",
              "    </tr>\n",
              "  </thead>\n",
              "  <tbody>\n",
              "    <tr>\n",
              "      <th>0</th>\n",
              "      <td>20</td>\n",
              "      <td>1</td>\n",
              "    </tr>\n",
              "    <tr>\n",
              "      <th>1</th>\n",
              "      <td>21</td>\n",
              "      <td>3</td>\n",
              "    </tr>\n",
              "    <tr>\n",
              "      <th>2</th>\n",
              "      <td>22</td>\n",
              "      <td>1</td>\n",
              "    </tr>\n",
              "    <tr>\n",
              "      <th>3</th>\n",
              "      <td>41</td>\n",
              "      <td>0</td>\n",
              "    </tr>\n",
              "    <tr>\n",
              "      <th>4</th>\n",
              "      <td>43</td>\n",
              "      <td>0</td>\n",
              "    </tr>\n",
              "    <tr>\n",
              "      <th>5</th>\n",
              "      <td>52</td>\n",
              "      <td>1</td>\n",
              "    </tr>\n",
              "    <tr>\n",
              "      <th>6</th>\n",
              "      <td>55</td>\n",
              "      <td>0</td>\n",
              "    </tr>\n",
              "  </tbody>\n",
              "</table>\n",
              "</div>\n",
              "      <button class=\"colab-df-convert\" onclick=\"convertToInteractive('df-55818cc7-6b5c-408d-9ae9-1c4131edac32')\"\n",
              "              title=\"Convert this dataframe to an interactive table.\"\n",
              "              style=\"display:none;\">\n",
              "        \n",
              "  <svg xmlns=\"http://www.w3.org/2000/svg\" height=\"24px\"viewBox=\"0 0 24 24\"\n",
              "       width=\"24px\">\n",
              "    <path d=\"M0 0h24v24H0V0z\" fill=\"none\"/>\n",
              "    <path d=\"M18.56 5.44l.94 2.06.94-2.06 2.06-.94-2.06-.94-.94-2.06-.94 2.06-2.06.94zm-11 1L8.5 8.5l.94-2.06 2.06-.94-2.06-.94L8.5 2.5l-.94 2.06-2.06.94zm10 10l.94 2.06.94-2.06 2.06-.94-2.06-.94-.94-2.06-.94 2.06-2.06.94z\"/><path d=\"M17.41 7.96l-1.37-1.37c-.4-.4-.92-.59-1.43-.59-.52 0-1.04.2-1.43.59L10.3 9.45l-7.72 7.72c-.78.78-.78 2.05 0 2.83L4 21.41c.39.39.9.59 1.41.59.51 0 1.02-.2 1.41-.59l7.78-7.78 2.81-2.81c.8-.78.8-2.07 0-2.86zM5.41 20L4 18.59l7.72-7.72 1.47 1.35L5.41 20z\"/>\n",
              "  </svg>\n",
              "      </button>\n",
              "      \n",
              "  <style>\n",
              "    .colab-df-container {\n",
              "      display:flex;\n",
              "      flex-wrap:wrap;\n",
              "      gap: 12px;\n",
              "    }\n",
              "\n",
              "    .colab-df-convert {\n",
              "      background-color: #E8F0FE;\n",
              "      border: none;\n",
              "      border-radius: 50%;\n",
              "      cursor: pointer;\n",
              "      display: none;\n",
              "      fill: #1967D2;\n",
              "      height: 32px;\n",
              "      padding: 0 0 0 0;\n",
              "      width: 32px;\n",
              "    }\n",
              "\n",
              "    .colab-df-convert:hover {\n",
              "      background-color: #E2EBFA;\n",
              "      box-shadow: 0px 1px 2px rgba(60, 64, 67, 0.3), 0px 1px 3px 1px rgba(60, 64, 67, 0.15);\n",
              "      fill: #174EA6;\n",
              "    }\n",
              "\n",
              "    [theme=dark] .colab-df-convert {\n",
              "      background-color: #3B4455;\n",
              "      fill: #D2E3FC;\n",
              "    }\n",
              "\n",
              "    [theme=dark] .colab-df-convert:hover {\n",
              "      background-color: #434B5C;\n",
              "      box-shadow: 0px 1px 3px 1px rgba(0, 0, 0, 0.15);\n",
              "      filter: drop-shadow(0px 1px 2px rgba(0, 0, 0, 0.3));\n",
              "      fill: #FFFFFF;\n",
              "    }\n",
              "  </style>\n",
              "\n",
              "      <script>\n",
              "        const buttonEl =\n",
              "          document.querySelector('#df-55818cc7-6b5c-408d-9ae9-1c4131edac32 button.colab-df-convert');\n",
              "        buttonEl.style.display =\n",
              "          google.colab.kernel.accessAllowed ? 'block' : 'none';\n",
              "\n",
              "        async function convertToInteractive(key) {\n",
              "          const element = document.querySelector('#df-55818cc7-6b5c-408d-9ae9-1c4131edac32');\n",
              "          const dataTable =\n",
              "            await google.colab.kernel.invokeFunction('convertToInteractive',\n",
              "                                                     [key], {});\n",
              "          if (!dataTable) return;\n",
              "\n",
              "          const docLinkHtml = 'Like what you see? Visit the ' +\n",
              "            '<a target=\"_blank\" href=https://colab.research.google.com/notebooks/data_table.ipynb>data table notebook</a>'\n",
              "            + ' to learn more about interactive tables.';\n",
              "          element.innerHTML = '';\n",
              "          dataTable['output_type'] = 'display_data';\n",
              "          await google.colab.output.renderOutput(dataTable, element);\n",
              "          const docLink = document.createElement('div');\n",
              "          docLink.innerHTML = docLinkHtml;\n",
              "          element.appendChild(docLink);\n",
              "        }\n",
              "      </script>\n",
              "    </div>\n",
              "  </div>\n",
              "  "
            ]
          },
          "metadata": {},
          "execution_count": 24
        }
      ]
    },
    {
      "cell_type": "markdown",
      "source": [
        "用iloc找出[每一列,第0欄到第2欄不包括欄]的資料"
      ],
      "metadata": {
        "id": "YM07l-DO9r_l"
      }
    },
    {
      "cell_type": "code",
      "source": [
        "mydata.iloc[:,2:]"
      ],
      "metadata": {
        "colab": {
          "base_uri": "https://localhost:8080/",
          "height": 269
        },
        "id": "tU03Q8it9nsO",
        "outputId": "09321545-f262-4bad-bb82-7ffb4350c91b"
      },
      "execution_count": null,
      "outputs": [
        {
          "output_type": "execute_result",
          "data": {
            "text/plain": [
              "   收入\n",
              "0  20\n",
              "1  26\n",
              "2  25\n",
              "3  30\n",
              "4  32\n",
              "5  40\n",
              "6  38"
            ],
            "text/html": [
              "\n",
              "  <div id=\"df-6cea49f3-03b4-43ea-bfcf-feb5476120c7\">\n",
              "    <div class=\"colab-df-container\">\n",
              "      <div>\n",
              "<style scoped>\n",
              "    .dataframe tbody tr th:only-of-type {\n",
              "        vertical-align: middle;\n",
              "    }\n",
              "\n",
              "    .dataframe tbody tr th {\n",
              "        vertical-align: top;\n",
              "    }\n",
              "\n",
              "    .dataframe thead th {\n",
              "        text-align: right;\n",
              "    }\n",
              "</style>\n",
              "<table border=\"1\" class=\"dataframe\">\n",
              "  <thead>\n",
              "    <tr style=\"text-align: right;\">\n",
              "      <th></th>\n",
              "      <th>收入</th>\n",
              "    </tr>\n",
              "  </thead>\n",
              "  <tbody>\n",
              "    <tr>\n",
              "      <th>0</th>\n",
              "      <td>20</td>\n",
              "    </tr>\n",
              "    <tr>\n",
              "      <th>1</th>\n",
              "      <td>26</td>\n",
              "    </tr>\n",
              "    <tr>\n",
              "      <th>2</th>\n",
              "      <td>25</td>\n",
              "    </tr>\n",
              "    <tr>\n",
              "      <th>3</th>\n",
              "      <td>30</td>\n",
              "    </tr>\n",
              "    <tr>\n",
              "      <th>4</th>\n",
              "      <td>32</td>\n",
              "    </tr>\n",
              "    <tr>\n",
              "      <th>5</th>\n",
              "      <td>40</td>\n",
              "    </tr>\n",
              "    <tr>\n",
              "      <th>6</th>\n",
              "      <td>38</td>\n",
              "    </tr>\n",
              "  </tbody>\n",
              "</table>\n",
              "</div>\n",
              "      <button class=\"colab-df-convert\" onclick=\"convertToInteractive('df-6cea49f3-03b4-43ea-bfcf-feb5476120c7')\"\n",
              "              title=\"Convert this dataframe to an interactive table.\"\n",
              "              style=\"display:none;\">\n",
              "        \n",
              "  <svg xmlns=\"http://www.w3.org/2000/svg\" height=\"24px\"viewBox=\"0 0 24 24\"\n",
              "       width=\"24px\">\n",
              "    <path d=\"M0 0h24v24H0V0z\" fill=\"none\"/>\n",
              "    <path d=\"M18.56 5.44l.94 2.06.94-2.06 2.06-.94-2.06-.94-.94-2.06-.94 2.06-2.06.94zm-11 1L8.5 8.5l.94-2.06 2.06-.94-2.06-.94L8.5 2.5l-.94 2.06-2.06.94zm10 10l.94 2.06.94-2.06 2.06-.94-2.06-.94-.94-2.06-.94 2.06-2.06.94z\"/><path d=\"M17.41 7.96l-1.37-1.37c-.4-.4-.92-.59-1.43-.59-.52 0-1.04.2-1.43.59L10.3 9.45l-7.72 7.72c-.78.78-.78 2.05 0 2.83L4 21.41c.39.39.9.59 1.41.59.51 0 1.02-.2 1.41-.59l7.78-7.78 2.81-2.81c.8-.78.8-2.07 0-2.86zM5.41 20L4 18.59l7.72-7.72 1.47 1.35L5.41 20z\"/>\n",
              "  </svg>\n",
              "      </button>\n",
              "      \n",
              "  <style>\n",
              "    .colab-df-container {\n",
              "      display:flex;\n",
              "      flex-wrap:wrap;\n",
              "      gap: 12px;\n",
              "    }\n",
              "\n",
              "    .colab-df-convert {\n",
              "      background-color: #E8F0FE;\n",
              "      border: none;\n",
              "      border-radius: 50%;\n",
              "      cursor: pointer;\n",
              "      display: none;\n",
              "      fill: #1967D2;\n",
              "      height: 32px;\n",
              "      padding: 0 0 0 0;\n",
              "      width: 32px;\n",
              "    }\n",
              "\n",
              "    .colab-df-convert:hover {\n",
              "      background-color: #E2EBFA;\n",
              "      box-shadow: 0px 1px 2px rgba(60, 64, 67, 0.3), 0px 1px 3px 1px rgba(60, 64, 67, 0.15);\n",
              "      fill: #174EA6;\n",
              "    }\n",
              "\n",
              "    [theme=dark] .colab-df-convert {\n",
              "      background-color: #3B4455;\n",
              "      fill: #D2E3FC;\n",
              "    }\n",
              "\n",
              "    [theme=dark] .colab-df-convert:hover {\n",
              "      background-color: #434B5C;\n",
              "      box-shadow: 0px 1px 3px 1px rgba(0, 0, 0, 0.15);\n",
              "      filter: drop-shadow(0px 1px 2px rgba(0, 0, 0, 0.3));\n",
              "      fill: #FFFFFF;\n",
              "    }\n",
              "  </style>\n",
              "\n",
              "      <script>\n",
              "        const buttonEl =\n",
              "          document.querySelector('#df-6cea49f3-03b4-43ea-bfcf-feb5476120c7 button.colab-df-convert');\n",
              "        buttonEl.style.display =\n",
              "          google.colab.kernel.accessAllowed ? 'block' : 'none';\n",
              "\n",
              "        async function convertToInteractive(key) {\n",
              "          const element = document.querySelector('#df-6cea49f3-03b4-43ea-bfcf-feb5476120c7');\n",
              "          const dataTable =\n",
              "            await google.colab.kernel.invokeFunction('convertToInteractive',\n",
              "                                                     [key], {});\n",
              "          if (!dataTable) return;\n",
              "\n",
              "          const docLinkHtml = 'Like what you see? Visit the ' +\n",
              "            '<a target=\"_blank\" href=https://colab.research.google.com/notebooks/data_table.ipynb>data table notebook</a>'\n",
              "            + ' to learn more about interactive tables.';\n",
              "          element.innerHTML = '';\n",
              "          dataTable['output_type'] = 'display_data';\n",
              "          await google.colab.output.renderOutput(dataTable, element);\n",
              "          const docLink = document.createElement('div');\n",
              "          docLink.innerHTML = docLinkHtml;\n",
              "          element.appendChild(docLink);\n",
              "        }\n",
              "      </script>\n",
              "    </div>\n",
              "  </div>\n",
              "  "
            ]
          },
          "metadata": {},
          "execution_count": 25
        }
      ]
    },
    {
      "cell_type": "markdown",
      "source": [
        "用iloc找出[每一列,第2欄到最後一欄(就是第2欄而已)]的資料"
      ],
      "metadata": {
        "id": "XnA9_TN992M9"
      }
    },
    {
      "cell_type": "code",
      "source": [
        "from sklearn.linear_model import LinearRegression\n",
        "model = LinearRegression()"
      ],
      "metadata": {
        "id": "cCfpG19898Wt"
      },
      "execution_count": null,
      "outputs": []
    },
    {
      "cell_type": "code",
      "source": [
        "model.fit(mydata.iloc[:,:2], mydata.iloc[:,2:])"
      ],
      "metadata": {
        "colab": {
          "base_uri": "https://localhost:8080/"
        },
        "id": "ldZ6QP8C-EVV",
        "outputId": "85f206b1-a411-4848-89e6-81985c06fa9c"
      },
      "execution_count": null,
      "outputs": [
        {
          "output_type": "execute_result",
          "data": {
            "text/plain": [
              "LinearRegression()"
            ]
          },
          "metadata": {},
          "execution_count": 27
        }
      ]
    },
    {
      "cell_type": "markdown",
      "source": [
        "利用fit訓練模型，前面是年紀與教育程度，後面是收入"
      ],
      "metadata": {
        "id": "Q0Nqs2Mp-nY2"
      }
    },
    {
      "cell_type": "code",
      "source": [
        "model.predict(mydata.iloc[:,:2])"
      ],
      "metadata": {
        "colab": {
          "base_uri": "https://localhost:8080/"
        },
        "id": "4oMVcjJ1-0lG",
        "outputId": "0d9861c6-1538-4428-bfe6-6df7d9cf3762"
      },
      "execution_count": null,
      "outputs": [
        {
          "output_type": "execute_result",
          "data": {
            "text/plain": [
              "array([[21.48793714],\n",
              "       [26.59588783],\n",
              "       [22.59079155],\n",
              "       [30.78964678],\n",
              "       [31.89250119],\n",
              "       [39.13360781],\n",
              "       [38.5096277 ]])"
            ]
          },
          "metadata": {},
          "execution_count": 28
        }
      ]
    },
    {
      "cell_type": "markdown",
      "source": [
        "把原始年紀與教育程度丟進去預測收入"
      ],
      "metadata": {
        "id": "EZv6qCmd-8zV"
      }
    },
    {
      "cell_type": "code",
      "source": [
        "import matplotlib.pyplot as plt\n",
        "plt.scatter(mydata.iloc[:,2:],model.predict(mydata.iloc[:,:2]))\n",
        "#plt.scatter(mydata.iloc[:,2:]=>x軸放的是原始資料的收入 , model.predict(mydata.iloc[:,:2]=>y軸放的是把原始資料丟進模型預測出來的收入))\n",
        "plt.plot([20,40],[20,40],c='red')"
      ],
      "metadata": {
        "colab": {
          "base_uri": "https://localhost:8080/",
          "height": 282
        },
        "id": "X3guGoFr_Ag9",
        "outputId": "e472971c-8cdc-4b58-915b-1d3bc332a94f"
      },
      "execution_count": null,
      "outputs": [
        {
          "output_type": "execute_result",
          "data": {
            "text/plain": [
              "[<matplotlib.lines.Line2D at 0x7f1a60058c90>]"
            ]
          },
          "metadata": {},
          "execution_count": 29
        },
        {
          "output_type": "display_data",
          "data": {
            "text/plain": [
              "<Figure size 432x288 with 1 Axes>"
            ],
            "image/png": "[encoded data removed]"
          },
          "metadata": {
            "needs_background": "light"
          }
        }
      ]
    },
    {
      "cell_type": "markdown",
      "source": [
        "藍色的點x軸放的是正確答案，y軸放的是預測出來的，紅色的線是正確答案所畫出的線，如果藍色的點離紅線越近代表預測的越正確。"
      ],
      "metadata": {
        "id": "qX8ouJ6M_fIH"
      }
    },
    {
      "cell_type": "markdown",
      "source": [
        "##2.評估模型"
      ],
      "metadata": {
        "id": "FsfG1Xv2_4Dt"
      }
    },
    {
      "cell_type": "code",
      "source": [
        "model.score(mydata.iloc[:,:2] , mydata.iloc[:,2:])"
      ],
      "metadata": {
        "colab": {
          "base_uri": "https://localhost:8080/"
        },
        "id": "6vJe9ZyG_7Ve",
        "outputId": "d46d6721-ba54-403d-9f7b-7d174e4d8127"
      },
      "execution_count": null,
      "outputs": [
        {
          "output_type": "execute_result",
          "data": {
            "text/plain": [
              "0.9675617720634899"
            ]
          },
          "metadata": {},
          "execution_count": 30
        }
      ]
    },
    {
      "cell_type": "markdown",
      "source": [
        "用score來評估模型，score()前面是放要預測的資料，預測完後會跟逗號後的正確答案最比對得出分數(評估一定要有真實的答案，而不是跟預測的答案比)。"
      ],
      "metadata": {
        "id": "t4SA_wkVBzMu"
      }
    },
    {
      "cell_type": "markdown",
      "source": [
        "##3.線性方程式(y = 常數(b) + x0\\*斜率(a0) + x1*斜率(a1))"
      ],
      "metadata": {
        "id": "l4sWUE5vAl3G"
      }
    },
    {
      "cell_type": "code",
      "source": [
        "model.intercept_"
      ],
      "metadata": {
        "colab": {
          "base_uri": "https://localhost:8080/"
        },
        "id": "nJTZw4r_ApU-",
        "outputId": "26323851-d5d8-420b-d774-10cb8cd3e155"
      },
      "execution_count": null,
      "outputs": [
        {
          "output_type": "execute_result",
          "data": {
            "text/plain": [
              "array([8.18113122])"
            ]
          },
          "metadata": {},
          "execution_count": 31
        }
      ]
    },
    {
      "cell_type": "code",
      "source": [
        "model.coef_"
      ],
      "metadata": {
        "colab": {
          "base_uri": "https://localhost:8080/"
        },
        "id": "kFGmiSmJAr5W",
        "outputId": "2d62d0f3-2f3d-4661-b082-45acd6572b99"
      },
      "execution_count": null,
      "outputs": [
        {
          "output_type": "execute_result",
          "data": {
            "text/plain": [
              "array([[0.55142721, 2.27826174]])"
            ]
          },
          "metadata": {},
          "execution_count": 32
        }
      ]
    },
    {
      "cell_type": "markdown",
      "source": [
        "線性方程式: 收入 = 年紀(x0) * 8.18113122 + 教育程度(x1) \\* 0.55142721"
      ],
      "metadata": {
        "id": "q9Qac60FAv1_"
      }
    },
    {
      "cell_type": "markdown",
      "source": [
        "#多項式迴歸(y = 常數(b) + x\\*斜率0(a0) + x^2\\*斜率1(a1)) "
      ],
      "metadata": {
        "id": "6DhInwOoJRwx"
      }
    },
    {
      "cell_type": "code",
      "source": [
        "age = [20, 21, 22, 41, 43, 52, 55]\n",
        "incomes = [20, 26, 25, 30, 32, 40, 38]\n",
        "mydata=pd.DataFrame({'年紀':age, '收入':incomes})\n",
        "mydata"
      ],
      "metadata": {
        "colab": {
          "base_uri": "https://localhost:8080/",
          "height": 269
        },
        "id": "vIbkpKBHJVEv",
        "outputId": "998193fe-b18e-4432-d6e5-3ee82c1ff8fa"
      },
      "execution_count": null,
      "outputs": [
        {
          "output_type": "execute_result",
          "data": {
            "text/plain": [
              "   年紀  收入\n",
              "0  20  20\n",
              "1  21  26\n",
              "2  22  25\n",
              "3  41  30\n",
              "4  43  32\n",
              "5  52  40\n",
              "6  55  38"
            ],
            "text/html": [
              "\n",
              "  <div id=\"df-020e49e2-4713-4f75-91d1-ba3ae0b1ad93\">\n",
              "    <div class=\"colab-df-container\">\n",
              "      <div>\n",
              "<style scoped>\n",
              "    .dataframe tbody tr th:only-of-type {\n",
              "        vertical-align: middle;\n",
              "    }\n",
              "\n",
              "    .dataframe tbody tr th {\n",
              "        vertical-align: top;\n",
              "    }\n",
              "\n",
              "    .dataframe thead th {\n",
              "        text-align: right;\n",
              "    }\n",
              "</style>\n",
              "<table border=\"1\" class=\"dataframe\">\n",
              "  <thead>\n",
              "    <tr style=\"text-align: right;\">\n",
              "      <th></th>\n",
              "      <th>年紀</th>\n",
              "      <th>收入</th>\n",
              "    </tr>\n",
              "  </thead>\n",
              "  <tbody>\n",
              "    <tr>\n",
              "      <th>0</th>\n",
              "      <td>20</td>\n",
              "      <td>20</td>\n",
              "    </tr>\n",
              "    <tr>\n",
              "      <th>1</th>\n",
              "      <td>21</td>\n",
              "      <td>26</td>\n",
              "    </tr>\n",
              "    <tr>\n",
              "      <th>2</th>\n",
              "      <td>22</td>\n",
              "      <td>25</td>\n",
              "    </tr>\n",
              "    <tr>\n",
              "      <th>3</th>\n",
              "      <td>41</td>\n",
              "      <td>30</td>\n",
              "    </tr>\n",
              "    <tr>\n",
              "      <th>4</th>\n",
              "      <td>43</td>\n",
              "      <td>32</td>\n",
              "    </tr>\n",
              "    <tr>\n",
              "      <th>5</th>\n",
              "      <td>52</td>\n",
              "      <td>40</td>\n",
              "    </tr>\n",
              "    <tr>\n",
              "      <th>6</th>\n",
              "      <td>55</td>\n",
              "      <td>38</td>\n",
              "    </tr>\n",
              "  </tbody>\n",
              "</table>\n",
              "</div>\n",
              "      <button class=\"colab-df-convert\" onclick=\"convertToInteractive('df-020e49e2-4713-4f75-91d1-ba3ae0b1ad93')\"\n",
              "              title=\"Convert this dataframe to an interactive table.\"\n",
              "              style=\"display:none;\">\n",
              "        \n",
              "  <svg xmlns=\"http://www.w3.org/2000/svg\" height=\"24px\"viewBox=\"0 0 24 24\"\n",
              "       width=\"24px\">\n",
              "    <path d=\"M0 0h24v24H0V0z\" fill=\"none\"/>\n",
              "    <path d=\"M18.56 5.44l.94 2.06.94-2.06 2.06-.94-2.06-.94-.94-2.06-.94 2.06-2.06.94zm-11 1L8.5 8.5l.94-2.06 2.06-.94-2.06-.94L8.5 2.5l-.94 2.06-2.06.94zm10 10l.94 2.06.94-2.06 2.06-.94-2.06-.94-.94-2.06-.94 2.06-2.06.94z\"/><path d=\"M17.41 7.96l-1.37-1.37c-.4-.4-.92-.59-1.43-.59-.52 0-1.04.2-1.43.59L10.3 9.45l-7.72 7.72c-.78.78-.78 2.05 0 2.83L4 21.41c.39.39.9.59 1.41.59.51 0 1.02-.2 1.41-.59l7.78-7.78 2.81-2.81c.8-.78.8-2.07 0-2.86zM5.41 20L4 18.59l7.72-7.72 1.47 1.35L5.41 20z\"/>\n",
              "  </svg>\n",
              "      </button>\n",
              "      \n",
              "  <style>\n",
              "    .colab-df-container {\n",
              "      display:flex;\n",
              "      flex-wrap:wrap;\n",
              "      gap: 12px;\n",
              "    }\n",
              "\n",
              "    .colab-df-convert {\n",
              "      background-color: #E8F0FE;\n",
              "      border: none;\n",
              "      border-radius: 50%;\n",
              "      cursor: pointer;\n",
              "      display: none;\n",
              "      fill: #1967D2;\n",
              "      height: 32px;\n",
              "      padding: 0 0 0 0;\n",
              "      width: 32px;\n",
              "    }\n",
              "\n",
              "    .colab-df-convert:hover {\n",
              "      background-color: #E2EBFA;\n",
              "      box-shadow: 0px 1px 2px rgba(60, 64, 67, 0.3), 0px 1px 3px 1px rgba(60, 64, 67, 0.15);\n",
              "      fill: #174EA6;\n",
              "    }\n",
              "\n",
              "    [theme=dark] .colab-df-convert {\n",
              "      background-color: #3B4455;\n",
              "      fill: #D2E3FC;\n",
              "    }\n",
              "\n",
              "    [theme=dark] .colab-df-convert:hover {\n",
              "      background-color: #434B5C;\n",
              "      box-shadow: 0px 1px 3px 1px rgba(0, 0, 0, 0.15);\n",
              "      filter: drop-shadow(0px 1px 2px rgba(0, 0, 0, 0.3));\n",
              "      fill: #FFFFFF;\n",
              "    }\n",
              "  </style>\n",
              "\n",
              "      <script>\n",
              "        const buttonEl =\n",
              "          document.querySelector('#df-020e49e2-4713-4f75-91d1-ba3ae0b1ad93 button.colab-df-convert');\n",
              "        buttonEl.style.display =\n",
              "          google.colab.kernel.accessAllowed ? 'block' : 'none';\n",
              "\n",
              "        async function convertToInteractive(key) {\n",
              "          const element = document.querySelector('#df-020e49e2-4713-4f75-91d1-ba3ae0b1ad93');\n",
              "          const dataTable =\n",
              "            await google.colab.kernel.invokeFunction('convertToInteractive',\n",
              "                                                     [key], {});\n",
              "          if (!dataTable) return;\n",
              "\n",
              "          const docLinkHtml = 'Like what you see? Visit the ' +\n",
              "            '<a target=\"_blank\" href=https://colab.research.google.com/notebooks/data_table.ipynb>data table notebook</a>'\n",
              "            + ' to learn more about interactive tables.';\n",
              "          element.innerHTML = '';\n",
              "          dataTable['output_type'] = 'display_data';\n",
              "          await google.colab.output.renderOutput(dataTable, element);\n",
              "          const docLink = document.createElement('div');\n",
              "          docLink.innerHTML = docLinkHtml;\n",
              "          element.appendChild(docLink);\n",
              "        }\n",
              "      </script>\n",
              "    </div>\n",
              "  </div>\n",
              "  "
            ]
          },
          "metadata": {},
          "execution_count": 33
        }
      ]
    },
    {
      "cell_type": "code",
      "source": [
        "myage = pd.DataFrame({'年紀0':np.ones(len(mydata))})\n",
        "myage"
      ],
      "metadata": {
        "colab": {
          "base_uri": "https://localhost:8080/",
          "height": 269
        },
        "id": "_Havv8XwJZrA",
        "outputId": "0b21820b-6e1e-4138-96f5-efcf90e3a793"
      },
      "execution_count": null,
      "outputs": [
        {
          "output_type": "execute_result",
          "data": {
            "text/plain": [
              "   年紀0\n",
              "0  1.0\n",
              "1  1.0\n",
              "2  1.0\n",
              "3  1.0\n",
              "4  1.0\n",
              "5  1.0\n",
              "6  1.0"
            ],
            "text/html": [
              "\n",
              "  <div id=\"df-1ff87aa6-5506-4c5c-9f4b-af5ffe897971\">\n",
              "    <div class=\"colab-df-container\">\n",
              "      <div>\n",
              "<style scoped>\n",
              "    .dataframe tbody tr th:only-of-type {\n",
              "        vertical-align: middle;\n",
              "    }\n",
              "\n",
              "    .dataframe tbody tr th {\n",
              "        vertical-align: top;\n",
              "    }\n",
              "\n",
              "    .dataframe thead th {\n",
              "        text-align: right;\n",
              "    }\n",
              "</style>\n",
              "<table border=\"1\" class=\"dataframe\">\n",
              "  <thead>\n",
              "    <tr style=\"text-align: right;\">\n",
              "      <th></th>\n",
              "      <th>年紀0</th>\n",
              "    </tr>\n",
              "  </thead>\n",
              "  <tbody>\n",
              "    <tr>\n",
              "      <th>0</th>\n",
              "      <td>1.0</td>\n",
              "    </tr>\n",
              "    <tr>\n",
              "      <th>1</th>\n",
              "      <td>1.0</td>\n",
              "    </tr>\n",
              "    <tr>\n",
              "      <th>2</th>\n",
              "      <td>1.0</td>\n",
              "    </tr>\n",
              "    <tr>\n",
              "      <th>3</th>\n",
              "      <td>1.0</td>\n",
              "    </tr>\n",
              "    <tr>\n",
              "      <th>4</th>\n",
              "      <td>1.0</td>\n",
              "    </tr>\n",
              "    <tr>\n",
              "      <th>5</th>\n",
              "      <td>1.0</td>\n",
              "    </tr>\n",
              "    <tr>\n",
              "      <th>6</th>\n",
              "      <td>1.0</td>\n",
              "    </tr>\n",
              "  </tbody>\n",
              "</table>\n",
              "</div>\n",
              "      <button class=\"colab-df-convert\" onclick=\"convertToInteractive('df-1ff87aa6-5506-4c5c-9f4b-af5ffe897971')\"\n",
              "              title=\"Convert this dataframe to an interactive table.\"\n",
              "              style=\"display:none;\">\n",
              "        \n",
              "  <svg xmlns=\"http://www.w3.org/2000/svg\" height=\"24px\"viewBox=\"0 0 24 24\"\n",
              "       width=\"24px\">\n",
              "    <path d=\"M0 0h24v24H0V0z\" fill=\"none\"/>\n",
              "    <path d=\"M18.56 5.44l.94 2.06.94-2.06 2.06-.94-2.06-.94-.94-2.06-.94 2.06-2.06.94zm-11 1L8.5 8.5l.94-2.06 2.06-.94-2.06-.94L8.5 2.5l-.94 2.06-2.06.94zm10 10l.94 2.06.94-2.06 2.06-.94-2.06-.94-.94-2.06-.94 2.06-2.06.94z\"/><path d=\"M17.41 7.96l-1.37-1.37c-.4-.4-.92-.59-1.43-.59-.52 0-1.04.2-1.43.59L10.3 9.45l-7.72 7.72c-.78.78-.78 2.05 0 2.83L4 21.41c.39.39.9.59 1.41.59.51 0 1.02-.2 1.41-.59l7.78-7.78 2.81-2.81c.8-.78.8-2.07 0-2.86zM5.41 20L4 18.59l7.72-7.72 1.47 1.35L5.41 20z\"/>\n",
              "  </svg>\n",
              "      </button>\n",
              "      \n",
              "  <style>\n",
              "    .colab-df-container {\n",
              "      display:flex;\n",
              "      flex-wrap:wrap;\n",
              "      gap: 12px;\n",
              "    }\n",
              "\n",
              "    .colab-df-convert {\n",
              "      background-color: #E8F0FE;\n",
              "      border: none;\n",
              "      border-radius: 50%;\n",
              "      cursor: pointer;\n",
              "      display: none;\n",
              "      fill: #1967D2;\n",
              "      height: 32px;\n",
              "      padding: 0 0 0 0;\n",
              "      width: 32px;\n",
              "    }\n",
              "\n",
              "    .colab-df-convert:hover {\n",
              "      background-color: #E2EBFA;\n",
              "      box-shadow: 0px 1px 2px rgba(60, 64, 67, 0.3), 0px 1px 3px 1px rgba(60, 64, 67, 0.15);\n",
              "      fill: #174EA6;\n",
              "    }\n",
              "\n",
              "    [theme=dark] .colab-df-convert {\n",
              "      background-color: #3B4455;\n",
              "      fill: #D2E3FC;\n",
              "    }\n",
              "\n",
              "    [theme=dark] .colab-df-convert:hover {\n",
              "      background-color: #434B5C;\n",
              "      box-shadow: 0px 1px 3px 1px rgba(0, 0, 0, 0.15);\n",
              "      filter: drop-shadow(0px 1px 2px rgba(0, 0, 0, 0.3));\n",
              "      fill: #FFFFFF;\n",
              "    }\n",
              "  </style>\n",
              "\n",
              "      <script>\n",
              "        const buttonEl =\n",
              "          document.querySelector('#df-1ff87aa6-5506-4c5c-9f4b-af5ffe897971 button.colab-df-convert');\n",
              "        buttonEl.style.display =\n",
              "          google.colab.kernel.accessAllowed ? 'block' : 'none';\n",
              "\n",
              "        async function convertToInteractive(key) {\n",
              "          const element = document.querySelector('#df-1ff87aa6-5506-4c5c-9f4b-af5ffe897971');\n",
              "          const dataTable =\n",
              "            await google.colab.kernel.invokeFunction('convertToInteractive',\n",
              "                                                     [key], {});\n",
              "          if (!dataTable) return;\n",
              "\n",
              "          const docLinkHtml = 'Like what you see? Visit the ' +\n",
              "            '<a target=\"_blank\" href=https://colab.research.google.com/notebooks/data_table.ipynb>data table notebook</a>'\n",
              "            + ' to learn more about interactive tables.';\n",
              "          element.innerHTML = '';\n",
              "          dataTable['output_type'] = 'display_data';\n",
              "          await google.colab.output.renderOutput(dataTable, element);\n",
              "          const docLink = document.createElement('div');\n",
              "          docLink.innerHTML = docLinkHtml;\n",
              "          element.appendChild(docLink);\n",
              "        }\n",
              "      </script>\n",
              "    </div>\n",
              "  </div>\n",
              "  "
            ]
          },
          "metadata": {},
          "execution_count": 34
        }
      ]
    },
    {
      "cell_type": "markdown",
      "source": [
        "建立一個名為myage的pandas，有年紀0這個欄位(長度為mydata，全是1的陣列放進去)"
      ],
      "metadata": {
        "id": "mbnZZpqtJpwo"
      }
    },
    {
      "cell_type": "code",
      "source": [
        "myage['年紀1'] = mydata.年紀\n",
        "myage"
      ],
      "metadata": {
        "colab": {
          "base_uri": "https://localhost:8080/",
          "height": 269
        },
        "id": "cWwkfvXAJ3Cp",
        "outputId": "9a23067e-1f9d-4847-e7a1-0b041e4bc872"
      },
      "execution_count": null,
      "outputs": [
        {
          "output_type": "execute_result",
          "data": {
            "text/plain": [
              "   年紀0  年紀1\n",
              "0  1.0   20\n",
              "1  1.0   21\n",
              "2  1.0   22\n",
              "3  1.0   41\n",
              "4  1.0   43\n",
              "5  1.0   52\n",
              "6  1.0   55"
            ],
            "text/html": [
              "\n",
              "  <div id=\"df-835ad672-36de-4beb-880f-95345ed66b0c\">\n",
              "    <div class=\"colab-df-container\">\n",
              "      <div>\n",
              "<style scoped>\n",
              "    .dataframe tbody tr th:only-of-type {\n",
              "        vertical-align: middle;\n",
              "    }\n",
              "\n",
              "    .dataframe tbody tr th {\n",
              "        vertical-align: top;\n",
              "    }\n",
              "\n",
              "    .dataframe thead th {\n",
              "        text-align: right;\n",
              "    }\n",
              "</style>\n",
              "<table border=\"1\" class=\"dataframe\">\n",
              "  <thead>\n",
              "    <tr style=\"text-align: right;\">\n",
              "      <th></th>\n",
              "      <th>年紀0</th>\n",
              "      <th>年紀1</th>\n",
              "    </tr>\n",
              "  </thead>\n",
              "  <tbody>\n",
              "    <tr>\n",
              "      <th>0</th>\n",
              "      <td>1.0</td>\n",
              "      <td>20</td>\n",
              "    </tr>\n",
              "    <tr>\n",
              "      <th>1</th>\n",
              "      <td>1.0</td>\n",
              "      <td>21</td>\n",
              "    </tr>\n",
              "    <tr>\n",
              "      <th>2</th>\n",
              "      <td>1.0</td>\n",
              "      <td>22</td>\n",
              "    </tr>\n",
              "    <tr>\n",
              "      <th>3</th>\n",
              "      <td>1.0</td>\n",
              "      <td>41</td>\n",
              "    </tr>\n",
              "    <tr>\n",
              "      <th>4</th>\n",
              "      <td>1.0</td>\n",
              "      <td>43</td>\n",
              "    </tr>\n",
              "    <tr>\n",
              "      <th>5</th>\n",
              "      <td>1.0</td>\n",
              "      <td>52</td>\n",
              "    </tr>\n",
              "    <tr>\n",
              "      <th>6</th>\n",
              "      <td>1.0</td>\n",
              "      <td>55</td>\n",
              "    </tr>\n",
              "  </tbody>\n",
              "</table>\n",
              "</div>\n",
              "      <button class=\"colab-df-convert\" onclick=\"convertToInteractive('df-835ad672-36de-4beb-880f-95345ed66b0c')\"\n",
              "              title=\"Convert this dataframe to an interactive table.\"\n",
              "              style=\"display:none;\">\n",
              "        \n",
              "  <svg xmlns=\"http://www.w3.org/2000/svg\" height=\"24px\"viewBox=\"0 0 24 24\"\n",
              "       width=\"24px\">\n",
              "    <path d=\"M0 0h24v24H0V0z\" fill=\"none\"/>\n",
              "    <path d=\"M18.56 5.44l.94 2.06.94-2.06 2.06-.94-2.06-.94-.94-2.06-.94 2.06-2.06.94zm-11 1L8.5 8.5l.94-2.06 2.06-.94-2.06-.94L8.5 2.5l-.94 2.06-2.06.94zm10 10l.94 2.06.94-2.06 2.06-.94-2.06-.94-.94-2.06-.94 2.06-2.06.94z\"/><path d=\"M17.41 7.96l-1.37-1.37c-.4-.4-.92-.59-1.43-.59-.52 0-1.04.2-1.43.59L10.3 9.45l-7.72 7.72c-.78.78-.78 2.05 0 2.83L4 21.41c.39.39.9.59 1.41.59.51 0 1.02-.2 1.41-.59l7.78-7.78 2.81-2.81c.8-.78.8-2.07 0-2.86zM5.41 20L4 18.59l7.72-7.72 1.47 1.35L5.41 20z\"/>\n",
              "  </svg>\n",
              "      </button>\n",
              "      \n",
              "  <style>\n",
              "    .colab-df-container {\n",
              "      display:flex;\n",
              "      flex-wrap:wrap;\n",
              "      gap: 12px;\n",
              "    }\n",
              "\n",
              "    .colab-df-convert {\n",
              "      background-color: #E8F0FE;\n",
              "      border: none;\n",
              "      border-radius: 50%;\n",
              "      cursor: pointer;\n",
              "      display: none;\n",
              "      fill: #1967D2;\n",
              "      height: 32px;\n",
              "      padding: 0 0 0 0;\n",
              "      width: 32px;\n",
              "    }\n",
              "\n",
              "    .colab-df-convert:hover {\n",
              "      background-color: #E2EBFA;\n",
              "      box-shadow: 0px 1px 2px rgba(60, 64, 67, 0.3), 0px 1px 3px 1px rgba(60, 64, 67, 0.15);\n",
              "      fill: #174EA6;\n",
              "    }\n",
              "\n",
              "    [theme=dark] .colab-df-convert {\n",
              "      background-color: #3B4455;\n",
              "      fill: #D2E3FC;\n",
              "    }\n",
              "\n",
              "    [theme=dark] .colab-df-convert:hover {\n",
              "      background-color: #434B5C;\n",
              "      box-shadow: 0px 1px 3px 1px rgba(0, 0, 0, 0.15);\n",
              "      filter: drop-shadow(0px 1px 2px rgba(0, 0, 0, 0.3));\n",
              "      fill: #FFFFFF;\n",
              "    }\n",
              "  </style>\n",
              "\n",
              "      <script>\n",
              "        const buttonEl =\n",
              "          document.querySelector('#df-835ad672-36de-4beb-880f-95345ed66b0c button.colab-df-convert');\n",
              "        buttonEl.style.display =\n",
              "          google.colab.kernel.accessAllowed ? 'block' : 'none';\n",
              "\n",
              "        async function convertToInteractive(key) {\n",
              "          const element = document.querySelector('#df-835ad672-36de-4beb-880f-95345ed66b0c');\n",
              "          const dataTable =\n",
              "            await google.colab.kernel.invokeFunction('convertToInteractive',\n",
              "                                                     [key], {});\n",
              "          if (!dataTable) return;\n",
              "\n",
              "          const docLinkHtml = 'Like what you see? Visit the ' +\n",
              "            '<a target=\"_blank\" href=https://colab.research.google.com/notebooks/data_table.ipynb>data table notebook</a>'\n",
              "            + ' to learn more about interactive tables.';\n",
              "          element.innerHTML = '';\n",
              "          dataTable['output_type'] = 'display_data';\n",
              "          await google.colab.output.renderOutput(dataTable, element);\n",
              "          const docLink = document.createElement('div');\n",
              "          docLink.innerHTML = docLinkHtml;\n",
              "          element.appendChild(docLink);\n",
              "        }\n",
              "      </script>\n",
              "    </div>\n",
              "  </div>\n",
              "  "
            ]
          },
          "metadata": {},
          "execution_count": 35
        }
      ]
    },
    {
      "cell_type": "markdown",
      "source": [
        "在myage內新增1個叫年紀1的欄位，裡面放入mydata的年紀"
      ],
      "metadata": {
        "id": "-I7e3RT1KQY4"
      }
    },
    {
      "cell_type": "code",
      "source": [
        "myage['年紀2'] = mydata.年紀 ** 2\n",
        "myage"
      ],
      "metadata": {
        "id": "kdGMCMpdKYNo",
        "colab": {
          "base_uri": "https://localhost:8080/",
          "height": 269
        },
        "outputId": "62fa2703-e370-4ed4-c13d-1de2d18b0732"
      },
      "execution_count": null,
      "outputs": [
        {
          "output_type": "execute_result",
          "data": {
            "text/plain": [
              "   年紀0  年紀1   年紀2\n",
              "0  1.0   20   400\n",
              "1  1.0   21   441\n",
              "2  1.0   22   484\n",
              "3  1.0   41  1681\n",
              "4  1.0   43  1849\n",
              "5  1.0   52  2704\n",
              "6  1.0   55  3025"
            ],
            "text/html": [
              "\n",
              "  <div id=\"df-a2a95cc7-6be7-4bd5-8293-5e5b5d1cfade\">\n",
              "    <div class=\"colab-df-container\">\n",
              "      <div>\n",
              "<style scoped>\n",
              "    .dataframe tbody tr th:only-of-type {\n",
              "        vertical-align: middle;\n",
              "    }\n",
              "\n",
              "    .dataframe tbody tr th {\n",
              "        vertical-align: top;\n",
              "    }\n",
              "\n",
              "    .dataframe thead th {\n",
              "        text-align: right;\n",
              "    }\n",
              "</style>\n",
              "<table border=\"1\" class=\"dataframe\">\n",
              "  <thead>\n",
              "    <tr style=\"text-align: right;\">\n",
              "      <th></th>\n",
              "      <th>年紀0</th>\n",
              "      <th>年紀1</th>\n",
              "      <th>年紀2</th>\n",
              "    </tr>\n",
              "  </thead>\n",
              "  <tbody>\n",
              "    <tr>\n",
              "      <th>0</th>\n",
              "      <td>1.0</td>\n",
              "      <td>20</td>\n",
              "      <td>400</td>\n",
              "    </tr>\n",
              "    <tr>\n",
              "      <th>1</th>\n",
              "      <td>1.0</td>\n",
              "      <td>21</td>\n",
              "      <td>441</td>\n",
              "    </tr>\n",
              "    <tr>\n",
              "      <th>2</th>\n",
              "      <td>1.0</td>\n",
              "      <td>22</td>\n",
              "      <td>484</td>\n",
              "    </tr>\n",
              "    <tr>\n",
              "      <th>3</th>\n",
              "      <td>1.0</td>\n",
              "      <td>41</td>\n",
              "      <td>1681</td>\n",
              "    </tr>\n",
              "    <tr>\n",
              "      <th>4</th>\n",
              "      <td>1.0</td>\n",
              "      <td>43</td>\n",
              "      <td>1849</td>\n",
              "    </tr>\n",
              "    <tr>\n",
              "      <th>5</th>\n",
              "      <td>1.0</td>\n",
              "      <td>52</td>\n",
              "      <td>2704</td>\n",
              "    </tr>\n",
              "    <tr>\n",
              "      <th>6</th>\n",
              "      <td>1.0</td>\n",
              "      <td>55</td>\n",
              "      <td>3025</td>\n",
              "    </tr>\n",
              "  </tbody>\n",
              "</table>\n",
              "</div>\n",
              "      <button class=\"colab-df-convert\" onclick=\"convertToInteractive('df-a2a95cc7-6be7-4bd5-8293-5e5b5d1cfade')\"\n",
              "              title=\"Convert this dataframe to an interactive table.\"\n",
              "              style=\"display:none;\">\n",
              "        \n",
              "  <svg xmlns=\"http://www.w3.org/2000/svg\" height=\"24px\"viewBox=\"0 0 24 24\"\n",
              "       width=\"24px\">\n",
              "    <path d=\"M0 0h24v24H0V0z\" fill=\"none\"/>\n",
              "    <path d=\"M18.56 5.44l.94 2.06.94-2.06 2.06-.94-2.06-.94-.94-2.06-.94 2.06-2.06.94zm-11 1L8.5 8.5l.94-2.06 2.06-.94-2.06-.94L8.5 2.5l-.94 2.06-2.06.94zm10 10l.94 2.06.94-2.06 2.06-.94-2.06-.94-.94-2.06-.94 2.06-2.06.94z\"/><path d=\"M17.41 7.96l-1.37-1.37c-.4-.4-.92-.59-1.43-.59-.52 0-1.04.2-1.43.59L10.3 9.45l-7.72 7.72c-.78.78-.78 2.05 0 2.83L4 21.41c.39.39.9.59 1.41.59.51 0 1.02-.2 1.41-.59l7.78-7.78 2.81-2.81c.8-.78.8-2.07 0-2.86zM5.41 20L4 18.59l7.72-7.72 1.47 1.35L5.41 20z\"/>\n",
              "  </svg>\n",
              "      </button>\n",
              "      \n",
              "  <style>\n",
              "    .colab-df-container {\n",
              "      display:flex;\n",
              "      flex-wrap:wrap;\n",
              "      gap: 12px;\n",
              "    }\n",
              "\n",
              "    .colab-df-convert {\n",
              "      background-color: #E8F0FE;\n",
              "      border: none;\n",
              "      border-radius: 50%;\n",
              "      cursor: pointer;\n",
              "      display: none;\n",
              "      fill: #1967D2;\n",
              "      height: 32px;\n",
              "      padding: 0 0 0 0;\n",
              "      width: 32px;\n",
              "    }\n",
              "\n",
              "    .colab-df-convert:hover {\n",
              "      background-color: #E2EBFA;\n",
              "      box-shadow: 0px 1px 2px rgba(60, 64, 67, 0.3), 0px 1px 3px 1px rgba(60, 64, 67, 0.15);\n",
              "      fill: #174EA6;\n",
              "    }\n",
              "\n",
              "    [theme=dark] .colab-df-convert {\n",
              "      background-color: #3B4455;\n",
              "      fill: #D2E3FC;\n",
              "    }\n",
              "\n",
              "    [theme=dark] .colab-df-convert:hover {\n",
              "      background-color: #434B5C;\n",
              "      box-shadow: 0px 1px 3px 1px rgba(0, 0, 0, 0.15);\n",
              "      filter: drop-shadow(0px 1px 2px rgba(0, 0, 0, 0.3));\n",
              "      fill: #FFFFFF;\n",
              "    }\n",
              "  </style>\n",
              "\n",
              "      <script>\n",
              "        const buttonEl =\n",
              "          document.querySelector('#df-a2a95cc7-6be7-4bd5-8293-5e5b5d1cfade button.colab-df-convert');\n",
              "        buttonEl.style.display =\n",
              "          google.colab.kernel.accessAllowed ? 'block' : 'none';\n",
              "\n",
              "        async function convertToInteractive(key) {\n",
              "          const element = document.querySelector('#df-a2a95cc7-6be7-4bd5-8293-5e5b5d1cfade');\n",
              "          const dataTable =\n",
              "            await google.colab.kernel.invokeFunction('convertToInteractive',\n",
              "                                                     [key], {});\n",
              "          if (!dataTable) return;\n",
              "\n",
              "          const docLinkHtml = 'Like what you see? Visit the ' +\n",
              "            '<a target=\"_blank\" href=https://colab.research.google.com/notebooks/data_table.ipynb>data table notebook</a>'\n",
              "            + ' to learn more about interactive tables.';\n",
              "          element.innerHTML = '';\n",
              "          dataTable['output_type'] = 'display_data';\n",
              "          await google.colab.output.renderOutput(dataTable, element);\n",
              "          const docLink = document.createElement('div');\n",
              "          docLink.innerHTML = docLinkHtml;\n",
              "          element.appendChild(docLink);\n",
              "        }\n",
              "      </script>\n",
              "    </div>\n",
              "  </div>\n",
              "  "
            ]
          },
          "metadata": {},
          "execution_count": 36
        }
      ]
    },
    {
      "cell_type": "markdown",
      "source": [
        "在myage內新增1個叫年紀2的欄位，裡面放入mydata的年紀的2次方"
      ],
      "metadata": {
        "id": "1i3vd1ajkcHH"
      }
    },
    {
      "cell_type": "code",
      "source": [
        "from sklearn.linear_model import LinearRegression\n",
        "model = LinearRegression()"
      ],
      "metadata": {
        "id": "5qBvhkbUkR7M"
      },
      "execution_count": null,
      "outputs": []
    },
    {
      "cell_type": "code",
      "source": [
        "model.fit(myage,mydata.iloc[:,1:])"
      ],
      "metadata": {
        "colab": {
          "base_uri": "https://localhost:8080/"
        },
        "id": "AnupUKRkkjQa",
        "outputId": "3fc0927b-1d6c-47ef-f92a-ad1ceed98e76"
      },
      "execution_count": null,
      "outputs": [
        {
          "output_type": "execute_result",
          "data": {
            "text/plain": [
              "LinearRegression()"
            ]
          },
          "metadata": {},
          "execution_count": 38
        }
      ]
    },
    {
      "cell_type": "markdown",
      "source": [
        "利用fit把myage的資料(年紀0,1,2)和mydata收入丟進去訓練這個模型。"
      ],
      "metadata": {
        "id": "PYQvBITSkza1"
      }
    },
    {
      "cell_type": "code",
      "source": [
        "x = np.linspace(20,55,100)\n",
        "x"
      ],
      "metadata": {
        "id": "UIdiFSXhl2PH",
        "colab": {
          "base_uri": "https://localhost:8080/"
        },
        "outputId": "d0b89181-1b18-4311-acf3-ccf98d66ee73"
      },
      "execution_count": null,
      "outputs": [
        {
          "output_type": "execute_result",
          "data": {
            "text/plain": [
              "array([20.        , 20.35353535, 20.70707071, 21.06060606, 21.41414141,\n",
              "       21.76767677, 22.12121212, 22.47474747, 22.82828283, 23.18181818,\n",
              "       23.53535354, 23.88888889, 24.24242424, 24.5959596 , 24.94949495,\n",
              "       25.3030303 , 25.65656566, 26.01010101, 26.36363636, 26.71717172,\n",
              "       27.07070707, 27.42424242, 27.77777778, 28.13131313, 28.48484848,\n",
              "       28.83838384, 29.19191919, 29.54545455, 29.8989899 , 30.25252525,\n",
              "       30.60606061, 30.95959596, 31.31313131, 31.66666667, 32.02020202,\n",
              "       32.37373737, 32.72727273, 33.08080808, 33.43434343, 33.78787879,\n",
              "       34.14141414, 34.49494949, 34.84848485, 35.2020202 , 35.55555556,\n",
              "       35.90909091, 36.26262626, 36.61616162, 36.96969697, 37.32323232,\n",
              "       37.67676768, 38.03030303, 38.38383838, 38.73737374, 39.09090909,\n",
              "       39.44444444, 39.7979798 , 40.15151515, 40.50505051, 40.85858586,\n",
              "       41.21212121, 41.56565657, 41.91919192, 42.27272727, 42.62626263,\n",
              "       42.97979798, 43.33333333, 43.68686869, 44.04040404, 44.39393939,\n",
              "       44.74747475, 45.1010101 , 45.45454545, 45.80808081, 46.16161616,\n",
              "       46.51515152, 46.86868687, 47.22222222, 47.57575758, 47.92929293,\n",
              "       48.28282828, 48.63636364, 48.98989899, 49.34343434, 49.6969697 ,\n",
              "       50.05050505, 50.4040404 , 50.75757576, 51.11111111, 51.46464646,\n",
              "       51.81818182, 52.17171717, 52.52525253, 52.87878788, 53.23232323,\n",
              "       53.58585859, 53.93939394, 54.29292929, 54.64646465, 55.        ])"
            ]
          },
          "metadata": {},
          "execution_count": 39
        }
      ]
    },
    {
      "cell_type": "markdown",
      "source": [
        "建立一個從20~55之間有100個的陣列"
      ],
      "metadata": {
        "id": "3qf9Hd-uphxY"
      }
    },
    {
      "cell_type": "code",
      "source": [
        "myplotage = pd.DataFrame({'年紀0':np.ones(100)})\n",
        "myplotage['年紀1'] = x\n",
        "myplotage['年紀2'] = myplotage['年紀1']**2\n",
        "myplotage"
      ],
      "metadata": {
        "id": "iyzPLDb3pnFw",
        "colab": {
          "base_uri": "https://localhost:8080/",
          "height": 424
        },
        "outputId": "a2cd8573-f0a4-453e-e185-a328a603dae8"
      },
      "execution_count": null,
      "outputs": [
        {
          "output_type": "execute_result",
          "data": {
            "text/plain": [
              "    年紀0        年紀1          年紀2\n",
              "0   1.0  20.000000   400.000000\n",
              "1   1.0  20.353535   414.266401\n",
              "2   1.0  20.707071   428.782777\n",
              "3   1.0  21.060606   443.549128\n",
              "4   1.0  21.414141   458.565453\n",
              "..  ...        ...          ...\n",
              "95  1.0  53.585859  2871.444240\n",
              "96  1.0  53.939394  2909.458219\n",
              "97  1.0  54.292929  2947.722171\n",
              "98  1.0  54.646465  2986.236098\n",
              "99  1.0  55.000000  3025.000000\n",
              "\n",
              "[100 rows x 3 columns]"
            ],
            "text/html": [
              "\n",
              "  <div id=\"df-93d4f59c-8abf-4422-b416-79ea4fb59185\">\n",
              "    <div class=\"colab-df-container\">\n",
              "      <div>\n",
              "<style scoped>\n",
              "    .dataframe tbody tr th:only-of-type {\n",
              "        vertical-align: middle;\n",
              "    }\n",
              "\n",
              "    .dataframe tbody tr th {\n",
              "        vertical-align: top;\n",
              "    }\n",
              "\n",
              "    .dataframe thead th {\n",
              "        text-align: right;\n",
              "    }\n",
              "</style>\n",
              "<table border=\"1\" class=\"dataframe\">\n",
              "  <thead>\n",
              "    <tr style=\"text-align: right;\">\n",
              "      <th></th>\n",
              "      <th>年紀0</th>\n",
              "      <th>年紀1</th>\n",
              "      <th>年紀2</th>\n",
              "    </tr>\n",
              "  </thead>\n",
              "  <tbody>\n",
              "    <tr>\n",
              "      <th>0</th>\n",
              "      <td>1.0</td>\n",
              "      <td>20.000000</td>\n",
              "      <td>400.000000</td>\n",
              "    </tr>\n",
              "    <tr>\n",
              "      <th>1</th>\n",
              "      <td>1.0</td>\n",
              "      <td>20.353535</td>\n",
              "      <td>414.266401</td>\n",
              "    </tr>\n",
              "    <tr>\n",
              "      <th>2</th>\n",
              "      <td>1.0</td>\n",
              "      <td>20.707071</td>\n",
              "      <td>428.782777</td>\n",
              "    </tr>\n",
              "    <tr>\n",
              "      <th>3</th>\n",
              "      <td>1.0</td>\n",
              "      <td>21.060606</td>\n",
              "      <td>443.549128</td>\n",
              "    </tr>\n",
              "    <tr>\n",
              "      <th>4</th>\n",
              "      <td>1.0</td>\n",
              "      <td>21.414141</td>\n",
              "      <td>458.565453</td>\n",
              "    </tr>\n",
              "    <tr>\n",
              "      <th>...</th>\n",
              "      <td>...</td>\n",
              "      <td>...</td>\n",
              "      <td>...</td>\n",
              "    </tr>\n",
              "    <tr>\n",
              "      <th>95</th>\n",
              "      <td>1.0</td>\n",
              "      <td>53.585859</td>\n",
              "      <td>2871.444240</td>\n",
              "    </tr>\n",
              "    <tr>\n",
              "      <th>96</th>\n",
              "      <td>1.0</td>\n",
              "      <td>53.939394</td>\n",
              "      <td>2909.458219</td>\n",
              "    </tr>\n",
              "    <tr>\n",
              "      <th>97</th>\n",
              "      <td>1.0</td>\n",
              "      <td>54.292929</td>\n",
              "      <td>2947.722171</td>\n",
              "    </tr>\n",
              "    <tr>\n",
              "      <th>98</th>\n",
              "      <td>1.0</td>\n",
              "      <td>54.646465</td>\n",
              "      <td>2986.236098</td>\n",
              "    </tr>\n",
              "    <tr>\n",
              "      <th>99</th>\n",
              "      <td>1.0</td>\n",
              "      <td>55.000000</td>\n",
              "      <td>3025.000000</td>\n",
              "    </tr>\n",
              "  </tbody>\n",
              "</table>\n",
              "<p>100 rows × 3 columns</p>\n",
              "</div>\n",
              "      <button class=\"colab-df-convert\" onclick=\"convertToInteractive('df-93d4f59c-8abf-4422-b416-79ea4fb59185')\"\n",
              "              title=\"Convert this dataframe to an interactive table.\"\n",
              "              style=\"display:none;\">\n",
              "        \n",
              "  <svg xmlns=\"http://www.w3.org/2000/svg\" height=\"24px\"viewBox=\"0 0 24 24\"\n",
              "       width=\"24px\">\n",
              "    <path d=\"M0 0h24v24H0V0z\" fill=\"none\"/>\n",
              "    <path d=\"M18.56 5.44l.94 2.06.94-2.06 2.06-.94-2.06-.94-.94-2.06-.94 2.06-2.06.94zm-11 1L8.5 8.5l.94-2.06 2.06-.94-2.06-.94L8.5 2.5l-.94 2.06-2.06.94zm10 10l.94 2.06.94-2.06 2.06-.94-2.06-.94-.94-2.06-.94 2.06-2.06.94z\"/><path d=\"M17.41 7.96l-1.37-1.37c-.4-.4-.92-.59-1.43-.59-.52 0-1.04.2-1.43.59L10.3 9.45l-7.72 7.72c-.78.78-.78 2.05 0 2.83L4 21.41c.39.39.9.59 1.41.59.51 0 1.02-.2 1.41-.59l7.78-7.78 2.81-2.81c.8-.78.8-2.07 0-2.86zM5.41 20L4 18.59l7.72-7.72 1.47 1.35L5.41 20z\"/>\n",
              "  </svg>\n",
              "      </button>\n",
              "      \n",
              "  <style>\n",
              "    .colab-df-container {\n",
              "      display:flex;\n",
              "      flex-wrap:wrap;\n",
              "      gap: 12px;\n",
              "    }\n",
              "\n",
              "    .colab-df-convert {\n",
              "      background-color: #E8F0FE;\n",
              "      border: none;\n",
              "      border-radius: 50%;\n",
              "      cursor: pointer;\n",
              "      display: none;\n",
              "      fill: #1967D2;\n",
              "      height: 32px;\n",
              "      padding: 0 0 0 0;\n",
              "      width: 32px;\n",
              "    }\n",
              "\n",
              "    .colab-df-convert:hover {\n",
              "      background-color: #E2EBFA;\n",
              "      box-shadow: 0px 1px 2px rgba(60, 64, 67, 0.3), 0px 1px 3px 1px rgba(60, 64, 67, 0.15);\n",
              "      fill: #174EA6;\n",
              "    }\n",
              "\n",
              "    [theme=dark] .colab-df-convert {\n",
              "      background-color: #3B4455;\n",
              "      fill: #D2E3FC;\n",
              "    }\n",
              "\n",
              "    [theme=dark] .colab-df-convert:hover {\n",
              "      background-color: #434B5C;\n",
              "      box-shadow: 0px 1px 3px 1px rgba(0, 0, 0, 0.15);\n",
              "      filter: drop-shadow(0px 1px 2px rgba(0, 0, 0, 0.3));\n",
              "      fill: #FFFFFF;\n",
              "    }\n",
              "  </style>\n",
              "\n",
              "      <script>\n",
              "        const buttonEl =\n",
              "          document.querySelector('#df-93d4f59c-8abf-4422-b416-79ea4fb59185 button.colab-df-convert');\n",
              "        buttonEl.style.display =\n",
              "          google.colab.kernel.accessAllowed ? 'block' : 'none';\n",
              "\n",
              "        async function convertToInteractive(key) {\n",
              "          const element = document.querySelector('#df-93d4f59c-8abf-4422-b416-79ea4fb59185');\n",
              "          const dataTable =\n",
              "            await google.colab.kernel.invokeFunction('convertToInteractive',\n",
              "                                                     [key], {});\n",
              "          if (!dataTable) return;\n",
              "\n",
              "          const docLinkHtml = 'Like what you see? Visit the ' +\n",
              "            '<a target=\"_blank\" href=https://colab.research.google.com/notebooks/data_table.ipynb>data table notebook</a>'\n",
              "            + ' to learn more about interactive tables.';\n",
              "          element.innerHTML = '';\n",
              "          dataTable['output_type'] = 'display_data';\n",
              "          await google.colab.output.renderOutput(dataTable, element);\n",
              "          const docLink = document.createElement('div');\n",
              "          docLink.innerHTML = docLinkHtml;\n",
              "          element.appendChild(docLink);\n",
              "        }\n",
              "      </script>\n",
              "    </div>\n",
              "  </div>\n",
              "  "
            ]
          },
          "metadata": {},
          "execution_count": 40
        }
      ]
    },
    {
      "cell_type": "markdown",
      "source": [
        "建立一個叫做myplotage的pandas，欄位年紀0裡面放入100個數值為1的陣列，然後新增名為年紀1的欄位，裡面放入x。再新增名為年紀2的欄位，裡面放入年紀1的2次方。這個pandas是要用來預測\n",
        "\n"
      ],
      "metadata": {
        "id": "cCnlk-73FeYG"
      }
    },
    {
      "cell_type": "code",
      "source": [
        "y = model.predict(myplotage)\n",
        "y"
      ],
      "metadata": {
        "id": "vQo6BBAtGrQ4",
        "colab": {
          "base_uri": "https://localhost:8080/"
        },
        "outputId": "95ba3d5b-995f-4644-bee7-8fe824900f4d"
      },
      "execution_count": null,
      "outputs": [
        {
          "output_type": "execute_result",
          "data": {
            "text/plain": [
              "array([[23.25539679],\n",
              "       [23.34234209],\n",
              "       [23.43087155],\n",
              "       [23.52098518],\n",
              "       [23.61268298],\n",
              "       [23.70596495],\n",
              "       [23.80083108],\n",
              "       [23.89728138],\n",
              "       [23.99531584],\n",
              "       [24.09493448],\n",
              "       [24.19613728],\n",
              "       [24.29892425],\n",
              "       [24.40329538],\n",
              "       [24.50925068],\n",
              "       [24.61679015],\n",
              "       [24.72591379],\n",
              "       [24.83662159],\n",
              "       [24.94891356],\n",
              "       [25.0627897 ],\n",
              "       [25.17825   ],\n",
              "       [25.29529448],\n",
              "       [25.41392312],\n",
              "       [25.53413592],\n",
              "       [25.65593289],\n",
              "       [25.77931403],\n",
              "       [25.90427934],\n",
              "       [26.03082882],\n",
              "       [26.15896246],\n",
              "       [26.28868026],\n",
              "       [26.41998224],\n",
              "       [26.55286838],\n",
              "       [26.68733869],\n",
              "       [26.82339317],\n",
              "       [26.96103181],\n",
              "       [27.10025462],\n",
              "       [27.2410616 ],\n",
              "       [27.38345275],\n",
              "       [27.52742806],\n",
              "       [27.67298754],\n",
              "       [27.82013118],\n",
              "       [27.968859  ],\n",
              "       [28.11917098],\n",
              "       [28.27106713],\n",
              "       [28.42454744],\n",
              "       [28.57961192],\n",
              "       [28.73626057],\n",
              "       [28.89449339],\n",
              "       [29.05431037],\n",
              "       [29.21571152],\n",
              "       [29.37869684],\n",
              "       [29.54326632],\n",
              "       [29.70941997],\n",
              "       [29.87715779],\n",
              "       [30.04647978],\n",
              "       [30.21738593],\n",
              "       [30.38987625],\n",
              "       [30.56395074],\n",
              "       [30.73960939],\n",
              "       [30.91685221],\n",
              "       [31.0956792 ],\n",
              "       [31.27609036],\n",
              "       [31.45808568],\n",
              "       [31.64166517],\n",
              "       [31.82682882],\n",
              "       [32.01357665],\n",
              "       [32.20190864],\n",
              "       [32.3918248 ],\n",
              "       [32.58332512],\n",
              "       [32.77640961],\n",
              "       [32.97107827],\n",
              "       [33.1673311 ],\n",
              "       [33.36516809],\n",
              "       [33.56458925],\n",
              "       [33.76559458],\n",
              "       [33.96818407],\n",
              "       [34.17235774],\n",
              "       [34.37811556],\n",
              "       [34.58545756],\n",
              "       [34.79438372],\n",
              "       [35.00489405],\n",
              "       [35.21698855],\n",
              "       [35.43066721],\n",
              "       [35.64593005],\n",
              "       [35.86277704],\n",
              "       [36.08120821],\n",
              "       [36.30122354],\n",
              "       [36.52282304],\n",
              "       [36.74600671],\n",
              "       [36.97077454],\n",
              "       [37.19712654],\n",
              "       [37.42506271],\n",
              "       [37.65458305],\n",
              "       [37.88568755],\n",
              "       [38.11837622],\n",
              "       [38.35264905],\n",
              "       [38.58850606],\n",
              "       [38.82594723],\n",
              "       [39.06497256],\n",
              "       [39.30558207],\n",
              "       [39.54777574]])"
            ]
          },
          "metadata": {},
          "execution_count": 41
        }
      ]
    },
    {
      "cell_type": "markdown",
      "source": [
        "y等於把myplotage丟進model這個模型預測出來的收入"
      ],
      "metadata": {
        "id": "YCK2mHgeGz5T"
      }
    },
    {
      "cell_type": "code",
      "source": [
        "import matplotlib.pyplot as plt\n",
        "\n",
        "plt.scatter(mydata.年紀 , mydata.收入)\n",
        "plt.plot(x,y,c='red')"
      ],
      "metadata": {
        "colab": {
          "base_uri": "https://localhost:8080/",
          "height": 282
        },
        "id": "RzEGV4W-HHrG",
        "outputId": "30a84acf-9081-45ac-baf9-b20523b78fa5"
      },
      "execution_count": null,
      "outputs": [
        {
          "output_type": "execute_result",
          "data": {
            "text/plain": [
              "[<matplotlib.lines.Line2D at 0x7f1a5ff61950>]"
            ]
          },
          "metadata": {},
          "execution_count": 42
        },
        {
          "output_type": "display_data",
          "data": {
            "text/plain": [
              "<Figure size 432x288 with 1 Axes>"
            ],
            "image/png": "[encoded data removed]"
          },
          "metadata": {
            "needs_background": "light"
          }
        }
      ]
    },
    {
      "cell_type": "markdown",
      "source": [
        "藍色的點x軸為原始資料年紀y軸為原始資料收入，紅線的x軸為預測時丟進去的100個年紀y軸為模型預測出來的100個收入，藍色的點離紅線越近代表這個模型越好。"
      ],
      "metadata": {
        "id": "DmL3c08IH-oK"
      }
    },
    {
      "cell_type": "markdown",
      "source": [
        "##2.評估模型"
      ],
      "metadata": {
        "id": "QOoQai--2O4s"
      }
    },
    {
      "cell_type": "code",
      "source": [
        "model.score(myage,mydata.iloc[:,1:])"
      ],
      "metadata": {
        "colab": {
          "base_uri": "https://localhost:8080/"
        },
        "id": "aNV6DweU2TJE",
        "outputId": "6b4da5cc-599f-4eb5-f7be-0b6218690923"
      },
      "execution_count": null,
      "outputs": [
        {
          "output_type": "execute_result",
          "data": {
            "text/plain": [
              "0.9087616358892122"
            ]
          },
          "metadata": {},
          "execution_count": 43
        }
      ]
    },
    {
      "cell_type": "markdown",
      "source": [
        "用score來評估模型，score()前面是放要預測的資料，預測完後會跟逗號後的正確答案最比對得出分數。分數為:0.9087616358892122"
      ],
      "metadata": {
        "id": "mEeYp5l139QG"
      }
    },
    {
      "cell_type": "markdown",
      "source": [
        "##3.線性方程式"
      ],
      "metadata": {
        "id": "eY9rX6--2jl3"
      }
    },
    {
      "cell_type": "code",
      "source": [
        "model.intercept_"
      ],
      "metadata": {
        "colab": {
          "base_uri": "https://localhost:8080/"
        },
        "id": "qcOri3jo2nUA",
        "outputId": "2fae7c58-36b3-473c-9f13-4c28c8f18156"
      },
      "execution_count": null,
      "outputs": [
        {
          "output_type": "execute_result",
          "data": {
            "text/plain": [
              "array([20.91651242])"
            ]
          },
          "metadata": {},
          "execution_count": 44
        }
      ]
    },
    {
      "cell_type": "markdown",
      "source": [
        "常數項=20.91651242"
      ],
      "metadata": {
        "id": "lKZhmhVP2zNB"
      }
    },
    {
      "cell_type": "code",
      "source": [
        "model.coef_"
      ],
      "metadata": {
        "colab": {
          "base_uri": "https://localhost:8080/"
        },
        "id": "SsW3La4t2rkw",
        "outputId": "431adb9f-5b30-49e8-ac2c-65abea3f000e"
      },
      "execution_count": null,
      "outputs": [
        {
          "output_type": "execute_result",
          "data": {
            "text/plain": [
              "array([[ 0.        , -0.00980208,  0.00633731]])"
            ]
          },
          "metadata": {},
          "execution_count": 45
        }
      ]
    },
    {
      "cell_type": "markdown",
      "source": [
        "線性方程式:收入(y) = 20.91651242(b) + -(-0.00980208)\\*年紀(x) + 0.00633731*年紀的平方(x^2)"
      ],
      "metadata": {
        "id": "2hh-4uFT25PX"
      }
    }
  ]
}