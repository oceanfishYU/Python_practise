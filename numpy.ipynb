{
  "nbformat": 4,
  "nbformat_minor": 0,
  "metadata": {
    "colab": {
      "provenance": [],
      "include_colab_link": true
    },
    "kernelspec": {
      "name": "python3",
      "display_name": "Python 3"
    },
    "language_info": {
      "name": "python"
    }
  },
  "cells": [
    {
      "cell_type": "markdown",
      "metadata": {
        "id": "view-in-github",
        "colab_type": "text"
      },
      "source": [
        "<a href=\"https://colab.research.google.com/github/oceanfishYU/Python_practise/blob/main/numpy.ipynb\" target=\"_parent\"><img src=\"https://colab.research.google.com/assets/colab-badge.svg\" alt=\"Open In Colab\"/></a>"
      ]
    },
    {
      "cell_type": "markdown",
      "source": [
        "#0309"
      ],
      "metadata": {
        "id": "xiT2kI6Er0E4"
      }
    },
    {
      "cell_type": "markdown",
      "source": [
        "##陣列初始化"
      ],
      "metadata": {
        "id": "IOO84YVpxUa0"
      }
    },
    {
      "cell_type": "markdown",
      "source": [
        "###由列表產生陣列"
      ],
      "metadata": {
        "id": "ifvdBGu1dYL6"
      }
    },
    {
      "cell_type": "code",
      "source": [
        "mylist=[1,2,3]\n",
        "mylist"
      ],
      "metadata": {
        "colab": {
          "base_uri": "https://localhost:8080/"
        },
        "id": "FjZR5VPkuIte",
        "outputId": "c0e76d2f-643e-40ce-a687-fc9176bdafd1"
      },
      "execution_count": null,
      "outputs": [
        {
          "output_type": "execute_result",
          "data": {
            "text/plain": [
              "[1, 2, 3]"
            ]
          },
          "metadata": {},
          "execution_count": 1
        }
      ]
    },
    {
      "cell_type": "code",
      "source": [
        "mylist*2"
      ],
      "metadata": {
        "colab": {
          "base_uri": "https://localhost:8080/"
        },
        "id": "KQMfncDOuO5-",
        "outputId": "72052d83-fa03-48f6-93a8-c504c5adc22c"
      },
      "execution_count": null,
      "outputs": [
        {
          "output_type": "execute_result",
          "data": {
            "text/plain": [
              "[1, 2, 3, 1, 2, 3]"
            ]
          },
          "metadata": {},
          "execution_count": 2
        }
      ]
    },
    {
      "cell_type": "code",
      "source": [
        "import numpy as an"
      ],
      "metadata": {
        "id": "g0LEZYgOuQve"
      },
      "execution_count": null,
      "outputs": []
    },
    {
      "cell_type": "markdown",
      "source": [
        "import numpy這整個程式碼叫做an"
      ],
      "metadata": {
        "id": "EAt2aJJzunC9"
      }
    },
    {
      "cell_type": "code",
      "source": [
        "bc = an.array(mylist)\n",
        "bc"
      ],
      "metadata": {
        "colab": {
          "base_uri": "https://localhost:8080/"
        },
        "id": "kduK7xGKuTdW",
        "outputId": "46bf9455-ddc8-4c73-fd91-0f0d309efbfd"
      },
      "execution_count": null,
      "outputs": [
        {
          "output_type": "execute_result",
          "data": {
            "text/plain": [
              "array([1, 2, 3])"
            ]
          },
          "metadata": {},
          "execution_count": 6
        }
      ]
    },
    {
      "cell_type": "markdown",
      "source": [
        "另bc為由mylist產生的陣列(一維陣列)"
      ],
      "metadata": {
        "id": "2nC5UXisuvVe"
      }
    },
    {
      "cell_type": "code",
      "source": [
        "bc*2"
      ],
      "metadata": {
        "colab": {
          "base_uri": "https://localhost:8080/"
        },
        "id": "kvTT1keJugQ-",
        "outputId": "052f2ea8-f586-402c-9d3b-da27f7f16850"
      },
      "execution_count": null,
      "outputs": [
        {
          "output_type": "execute_result",
          "data": {
            "text/plain": [
              "array([2, 4, 6])"
            ]
          },
          "metadata": {},
          "execution_count": 5
        }
      ]
    },
    {
      "cell_type": "markdown",
      "source": [
        "陣列*n會等於陣列中的值乘以n，跟列表不同"
      ],
      "metadata": {
        "id": "Qn9mPbteu7Re"
      }
    },
    {
      "cell_type": "markdown",
      "source": [
        "###由函式產生陣列"
      ],
      "metadata": {
        "id": "XA4HVgOgxXuc"
      }
    },
    {
      "cell_type": "code",
      "source": [
        "an.zeros((2,4))"
      ],
      "metadata": {
        "colab": {
          "base_uri": "https://localhost:8080/"
        },
        "id": "HYXNr6fhxdJs",
        "outputId": "20125179-f5ab-4b23-db24-473e38ff87b9"
      },
      "execution_count": null,
      "outputs": [
        {
          "output_type": "execute_result",
          "data": {
            "text/plain": [
              "array([[0., 0., 0., 0.],\n",
              "       [0., 0., 0., 0.]])"
            ]
          },
          "metadata": {},
          "execution_count": 7
        }
      ]
    },
    {
      "cell_type": "markdown",
      "source": [
        "產生一個2列4行的陣列，並且面的值都是0"
      ],
      "metadata": {
        "id": "ICsPLp3WxyPd"
      }
    },
    {
      "cell_type": "code",
      "source": [
        "an.ones((2,4))"
      ],
      "metadata": {
        "colab": {
          "base_uri": "https://localhost:8080/"
        },
        "id": "2a_6YShpxn41",
        "outputId": "ff0aa791-6aa4-4e89-dcc5-0b1042631f03"
      },
      "execution_count": null,
      "outputs": [
        {
          "output_type": "execute_result",
          "data": {
            "text/plain": [
              "array([[1., 1., 1., 1.],\n",
              "       [1., 1., 1., 1.]])"
            ]
          },
          "metadata": {},
          "execution_count": 8
        }
      ]
    },
    {
      "cell_type": "markdown",
      "source": [
        "產生一個2列4行的陣列，並且面的值都是1"
      ],
      "metadata": {
        "id": "P97po5FNx489"
      }
    },
    {
      "cell_type": "code",
      "source": [
        "an.full((2,4),7)"
      ],
      "metadata": {
        "colab": {
          "base_uri": "https://localhost:8080/"
        },
        "id": "nzIm6bboxrzl",
        "outputId": "e9601363-9db3-4894-ddd3-a1efece3b980"
      },
      "execution_count": null,
      "outputs": [
        {
          "output_type": "execute_result",
          "data": {
            "text/plain": [
              "array([[7, 7, 7, 7],\n",
              "       [7, 7, 7, 7]])"
            ]
          },
          "metadata": {},
          "execution_count": 9
        }
      ]
    },
    {
      "cell_type": "markdown",
      "source": [
        "產生一個2列4行的陣列，並且面的值都是7"
      ],
      "metadata": {
        "id": "6tQSgNREx6DF"
      }
    },
    {
      "cell_type": "code",
      "source": [
        "an.ones((2,4))"
      ],
      "metadata": {
        "colab": {
          "base_uri": "https://localhost:8080/"
        },
        "id": "tBxA8pqnx780",
        "outputId": "82d9bd34-3c2e-4fdc-d206-4b69affd8590"
      },
      "execution_count": null,
      "outputs": [
        {
          "output_type": "execute_result",
          "data": {
            "text/plain": [
              "array([[1., 1., 1., 1.],\n",
              "       [1., 1., 1., 1.]])"
            ]
          },
          "metadata": {},
          "execution_count": 10
        }
      ]
    },
    {
      "cell_type": "markdown",
      "source": [
        "產生一個2列4行的陣列，並且面的值都是1"
      ],
      "metadata": {
        "id": "qKvLQYcCyJW8"
      }
    },
    {
      "cell_type": "code",
      "source": [
        "an.ones((3,2,4))"
      ],
      "metadata": {
        "colab": {
          "base_uri": "https://localhost:8080/"
        },
        "id": "X9KrU6oXyEWd",
        "outputId": "9aa5dcbb-044f-4449-96f0-52bbd4aa1f72"
      },
      "execution_count": null,
      "outputs": [
        {
          "output_type": "execute_result",
          "data": {
            "text/plain": [
              "array([[[1., 1., 1., 1.],\n",
              "        [1., 1., 1., 1.]],\n",
              "\n",
              "       [[1., 1., 1., 1.],\n",
              "        [1., 1., 1., 1.]],\n",
              "\n",
              "       [[1., 1., 1., 1.],\n",
              "        [1., 1., 1., 1.]]])"
            ]
          },
          "metadata": {},
          "execution_count": 11
        }
      ]
    },
    {
      "cell_type": "markdown",
      "source": [
        "產生一個2列4行的陣列，並且面的值都是1，這是一組，然後有3組(3組2列4行值為1的陣列)"
      ],
      "metadata": {
        "id": "EDfViJqqyJ38"
      }
    },
    {
      "cell_type": "code",
      "source": [
        "an.ones((2,3,2,4))"
      ],
      "metadata": {
        "colab": {
          "base_uri": "https://localhost:8080/"
        },
        "id": "npS73F_CyYBE",
        "outputId": "6850e2ea-d9c9-4cec-de9f-8e5476ba99df"
      },
      "execution_count": null,
      "outputs": [
        {
          "output_type": "execute_result",
          "data": {
            "text/plain": [
              "array([[[[1., 1., 1., 1.],\n",
              "         [1., 1., 1., 1.]],\n",
              "\n",
              "        [[1., 1., 1., 1.],\n",
              "         [1., 1., 1., 1.]],\n",
              "\n",
              "        [[1., 1., 1., 1.],\n",
              "         [1., 1., 1., 1.]]],\n",
              "\n",
              "\n",
              "       [[[1., 1., 1., 1.],\n",
              "         [1., 1., 1., 1.]],\n",
              "\n",
              "        [[1., 1., 1., 1.],\n",
              "         [1., 1., 1., 1.]],\n",
              "\n",
              "        [[1., 1., 1., 1.],\n",
              "         [1., 1., 1., 1.]]]])"
            ]
          },
          "metadata": {},
          "execution_count": 12
        }
      ]
    },
    {
      "cell_type": "markdown",
      "source": [
        "產生一個2列4行值為1並且有3組的陣列，這是一份，然後有2份(3組2列4行值為1的陣列並且有2份)"
      ],
      "metadata": {
        "id": "TppjtFXWydhM"
      }
    },
    {
      "cell_type": "markdown",
      "source": [
        "#陣列新增"
      ],
      "metadata": {
        "id": "PDUa7DydjS3M"
      }
    }
  ]
}