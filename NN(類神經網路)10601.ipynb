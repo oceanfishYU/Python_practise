{
  "nbformat": 4,
  "nbformat_minor": 0,
  "metadata": {
    "colab": {
      "provenance": [],
      "authorship_tag": "ABX9TyMdLAsOWEh93QG16htTwZww",
      "include_colab_link": true
    },
    "kernelspec": {
      "name": "python3",
      "display_name": "Python 3"
    },
    "language_info": {
      "name": "python"
    }
  },
  "cells": [
    {
      "cell_type": "markdown",
      "metadata": {
        "id": "view-in-github",
        "colab_type": "text"
      },
      "source": [
        "<a href=\"https://colab.research.google.com/github/oceanfishYU/Python_practise/blob/main/NN(%E9%A1%9E%E7%A5%9E%E7%B6%93%E7%B6%B2%E8%B7%AF)10601.ipynb\" target=\"_parent\"><img src=\"https://colab.research.google.com/assets/colab-badge.svg\" alt=\"Open In Colab\"/></a>"
      ]
    },
    {
      "cell_type": "markdown",
      "source": [
        "#<font color = blue>1.抓資料"
      ],
      "metadata": {
        "id": "J4kY1ZYDIxgT"
      }
    },
    {
      "cell_type": "code",
      "execution_count": null,
      "metadata": {
        "id": "ugLY5ihcCoWa"
      },
      "outputs": [],
      "source": [
        "import numpy as np\n",
        "import matplotlib.pyplot as plt"
      ]
    },
    {
      "cell_type": "code",
      "source": [
        "from keras.datasets  import mnist"
      ],
      "metadata": {
        "id": "PiGwcLYQDRC2"
      },
      "execution_count": null,
      "outputs": []
    },
    {
      "cell_type": "markdown",
      "source": [
        "從keras.datasets裡面抓出mnist的資料"
      ],
      "metadata": {
        "id": "hxve4osRDfZZ"
      }
    },
    {
      "cell_type": "code",
      "source": [
        "(x_train,y_train),(x_test,y_test) = mnist.load_data()"
      ],
      "metadata": {
        "id": "cALeqEO-DkzU"
      },
      "execution_count": null,
      "outputs": []
    },
    {
      "cell_type": "markdown",
      "source": [
        "從mnist裡讀取資料，x_train,y_train為訓練資料，x_test,y_test為預測資料"
      ],
      "metadata": {
        "id": "IStEimxqFoXN"
      }
    },
    {
      "cell_type": "code",
      "source": [
        "x_train.shape"
      ],
      "metadata": {
        "colab": {
          "base_uri": "https://localhost:8080/"
        },
        "id": "KQ0EuXlDD6CU",
        "outputId": "fbec415b-5cda-4263-facd-55d515991062"
      },
      "execution_count": null,
      "outputs": [
        {
          "output_type": "execute_result",
          "data": {
            "text/plain": [
              "(60000, 28, 28)"
            ]
          },
          "metadata": {},
          "execution_count": 10
        }
      ]
    },
    {
      "cell_type": "code",
      "source": [
        "x_train"
      ],
      "metadata": {
        "id": "2fVa8rGx4bbk"
      },
      "execution_count": null,
      "outputs": []
    },
    {
      "cell_type": "markdown",
      "source": [
        "x_train(訓練用的資料)為60000張28*28像素的圖片"
      ],
      "metadata": {
        "id": "7p4DwmmCD1Ne"
      }
    },
    {
      "cell_type": "code",
      "source": [
        "y_train.shape"
      ],
      "metadata": {
        "colab": {
          "base_uri": "https://localhost:8080/"
        },
        "id": "Mcasby4KECfw",
        "outputId": "2abac48f-6dfa-46e3-8d25-e4a6df9fc7c9"
      },
      "execution_count": null,
      "outputs": [
        {
          "output_type": "execute_result",
          "data": {
            "text/plain": [
              "(60000,)"
            ]
          },
          "metadata": {},
          "execution_count": 12
        }
      ]
    },
    {
      "cell_type": "markdown",
      "source": [
        "y_train(訓練用的答案)為60000筆資料"
      ],
      "metadata": {
        "id": "BIhNKxJnFPP3"
      }
    },
    {
      "cell_type": "code",
      "source": [
        "x_test.shape"
      ],
      "metadata": {
        "colab": {
          "base_uri": "https://localhost:8080/"
        },
        "id": "8zn53I2uERkQ",
        "outputId": "4d38a974-c997-4750-a9a8-1c4f2f031036"
      },
      "execution_count": null,
      "outputs": [
        {
          "output_type": "execute_result",
          "data": {
            "text/plain": [
              "(10000, 28, 28)"
            ]
          },
          "metadata": {},
          "execution_count": 13
        }
      ]
    },
    {
      "cell_type": "markdown",
      "source": [
        "x_test(預測用的資料)為10000張28*28像素的圖片"
      ],
      "metadata": {
        "id": "C9G3H2rrFdPL"
      }
    },
    {
      "cell_type": "code",
      "source": [
        "y_test.shape"
      ],
      "metadata": {
        "colab": {
          "base_uri": "https://localhost:8080/"
        },
        "id": "Q6Avr4wLEXgD",
        "outputId": "f8295676-7761-4108-80dd-fbbcdae4a4b2"
      },
      "execution_count": null,
      "outputs": [
        {
          "output_type": "execute_result",
          "data": {
            "text/plain": [
              "(10000,)"
            ]
          },
          "metadata": {},
          "execution_count": 14
        }
      ]
    },
    {
      "cell_type": "markdown",
      "source": [
        "y_train(預測用的答案)為10000筆資料"
      ],
      "metadata": {
        "id": "T468Cd2WFkOA"
      }
    },
    {
      "cell_type": "code",
      "source": [
        "plt.imshow(x_train[88],cmap='Greys')"
      ],
      "metadata": {
        "colab": {
          "base_uri": "https://localhost:8080/",
          "height": 282
        },
        "id": "FI8SH3tXEc97",
        "outputId": "1f7d4e8a-8b80-46ca-c3fb-0761024182de"
      },
      "execution_count": null,
      "outputs": [
        {
          "output_type": "execute_result",
          "data": {
            "text/plain": [
              "<matplotlib.image.AxesImage at 0x7f611a755950>"
            ]
          },
          "metadata": {},
          "execution_count": 15
        },
        {
          "output_type": "display_data",
          "data": {
            "text/plain": [
              "<Figure size 432x288 with 1 Axes>"
            ],
            "image/png": "[encoded data removed]"
          },
          "metadata": {
            "needs_background": "light"
          }
        }
      ]
    },
    {
      "cell_type": "markdown",
      "source": [
        "把x_train的第88張顯示出來，然後cmap='Greys'是把圖片改為灰階的"
      ],
      "metadata": {
        "id": "7b1TlaefEjku"
      }
    },
    {
      "cell_type": "code",
      "source": [
        "y_train[88]"
      ],
      "metadata": {
        "colab": {
          "base_uri": "https://localhost:8080/"
        },
        "id": "t_JvLaDjEsdu",
        "outputId": "c7c72091-8b39-45b4-9ce8-22324bb12977"
      },
      "execution_count": null,
      "outputs": [
        {
          "output_type": "execute_result",
          "data": {
            "text/plain": [
              "0"
            ]
          },
          "metadata": {},
          "execution_count": 16
        }
      ]
    },
    {
      "cell_type": "markdown",
      "source": [
        "x_train的第88張的答案就是y_train的第88筆資料，答案是0"
      ],
      "metadata": {
        "id": "LE6f6_LoFCRg"
      }
    },
    {
      "cell_type": "markdown",
      "source": [
        "#<font color = blue>2.修改輸出值(one-hot-encoding)"
      ],
      "metadata": {
        "id": "eI9cg8AvI3kH"
      }
    },
    {
      "cell_type": "markdown",
      "source": [
        "0 => [1 0 0 0 0 0 0 0 0 0]\n",
        "\n",
        "1 => [0 1 0 0 0 0 0 0 0 0]\n",
        "\n",
        "2 => [0 0 1 0 0 0 0 0 0 0]\n",
        "\n",
        "....\n",
        "\n",
        "9 => [0 0 0 0 0 0 0 0 0 1]"
      ],
      "metadata": {
        "id": "83GjrsJzJFBO"
      }
    },
    {
      "cell_type": "code",
      "source": [
        "from keras.utils.np_utils import to_categorical"
      ],
      "metadata": {
        "id": "d21a9-uyJBWZ"
      },
      "execution_count": null,
      "outputs": []
    },
    {
      "cell_type": "markdown",
      "source": [
        "從keras.utils.np_utils的程式內取出to_categorical"
      ],
      "metadata": {
        "id": "H1xml3GoKSQZ"
      }
    },
    {
      "cell_type": "code",
      "source": [
        "y_train.shape"
      ],
      "metadata": {
        "colab": {
          "base_uri": "https://localhost:8080/"
        },
        "id": "NxErR3MfJxib",
        "outputId": "a35beff3-8c39-4537-9bce-a46cca41f24a"
      },
      "execution_count": null,
      "outputs": [
        {
          "output_type": "execute_result",
          "data": {
            "text/plain": [
              "(60000,)"
            ]
          },
          "metadata": {},
          "execution_count": 18
        }
      ]
    },
    {
      "cell_type": "code",
      "source": [
        "y_train"
      ],
      "metadata": {
        "colab": {
          "base_uri": "https://localhost:8080/"
        },
        "id": "HccDQJl5J89o",
        "outputId": "e90909ab-d330-4c56-967f-7d6a22799f1e"
      },
      "execution_count": null,
      "outputs": [
        {
          "output_type": "execute_result",
          "data": {
            "text/plain": [
              "array([5, 0, 4, ..., 5, 6, 8], dtype=uint8)"
            ]
          },
          "metadata": {},
          "execution_count": 19
        }
      ]
    },
    {
      "cell_type": "code",
      "source": [
        "y_train = to_categorical(y_train)"
      ],
      "metadata": {
        "id": "anJFj7z3J08t"
      },
      "execution_count": null,
      "outputs": []
    },
    {
      "cell_type": "markdown",
      "source": [
        "把y_train丟進to_categorical裡修改(每個數字都變成10個(000000001...))"
      ],
      "metadata": {
        "id": "POECSxAKKYlh"
      }
    },
    {
      "cell_type": "code",
      "source": [
        "y_train.shape"
      ],
      "metadata": {
        "colab": {
          "base_uri": "https://localhost:8080/"
        },
        "id": "6MHJphN7KGFa",
        "outputId": "07b00a28-304f-45a7-c2d7-51e72c960875"
      },
      "execution_count": null,
      "outputs": [
        {
          "output_type": "execute_result",
          "data": {
            "text/plain": [
              "(60000, 10)"
            ]
          },
          "metadata": {},
          "execution_count": 21
        }
      ]
    },
    {
      "cell_type": "markdown",
      "source": [
        "y_train就會變成60000個裡面有10個值的二維陣列，原本的0~8被改成\n",
        "\n",
        "0 => [1 0 0 0 0 0 0 0 0 0]\n",
        "\n",
        "1 => [0 1 0 0 0 0 0 0 0 0]"
      ],
      "metadata": {
        "id": "L9ju9debKgrq"
      }
    },
    {
      "cell_type": "code",
      "source": [
        "y_train"
      ],
      "metadata": {
        "colab": {
          "base_uri": "https://localhost:8080/"
        },
        "id": "3xJa1CgmKHu5",
        "outputId": "259a6ae7-7ebc-4c21-91b4-d39b48a11d25"
      },
      "execution_count": null,
      "outputs": [
        {
          "output_type": "execute_result",
          "data": {
            "text/plain": [
              "array([[0., 0., 0., ..., 0., 0., 0.],\n",
              "       [1., 0., 0., ..., 0., 0., 0.],\n",
              "       [0., 0., 0., ..., 0., 0., 0.],\n",
              "       ...,\n",
              "       [0., 0., 0., ..., 0., 0., 0.],\n",
              "       [0., 0., 0., ..., 0., 0., 0.],\n",
              "       [0., 0., 0., ..., 0., 1., 0.]], dtype=float32)"
            ]
          },
          "metadata": {},
          "execution_count": 22
        }
      ]
    },
    {
      "cell_type": "markdown",
      "source": [
        "y_train裡面的資料就變成我們要的樣子了\n"
      ],
      "metadata": {
        "id": "JSMqSMJfLGhn"
      }
    },
    {
      "cell_type": "markdown",
      "source": [
        "#<font color = blue>3.建立深度學習模型"
      ],
      "metadata": {
        "id": "Ny04pQD7LLLF"
      }
    },
    {
      "cell_type": "code",
      "source": [
        "from keras import models\n",
        "from keras import layers"
      ],
      "metadata": {
        "id": "0ux3GJCDLQMQ"
      },
      "execution_count": null,
      "outputs": []
    },
    {
      "cell_type": "markdown",
      "source": [
        "從keras裡面取出models和layers和layers兩個程式"
      ],
      "metadata": {
        "id": "qGS-qyBONiva"
      }
    },
    {
      "cell_type": "code",
      "source": [
        "mymodel = models.Sequential()"
      ],
      "metadata": {
        "id": "SiTu_q9SN7i5"
      },
      "execution_count": null,
      "outputs": []
    },
    {
      "cell_type": "markdown",
      "source": [
        "讓mymodel等於models裡的Sequential這個模型(類神經網路)"
      ],
      "metadata": {
        "id": "bIx-yvqEOAaf"
      }
    },
    {
      "cell_type": "code",
      "source": [
        "mymodel.add(layers.Dense(512,activation='relu',input_shape=(28*28,)))"
      ],
      "metadata": {
        "id": "GbtqxulROiib"
      },
      "execution_count": null,
      "outputs": []
    },
    {
      "cell_type": "markdown",
      "source": [
        "增加一層全連階層(Dense)，然後這個密集層有512個點，輸入的shape為28*28，activation(啟動函式)='relu'是為了破壞線性"
      ],
      "metadata": {
        "id": "vvEi_ZNgOye1"
      }
    },
    {
      "cell_type": "code",
      "source": [
        "mymodel.add(layers.Dense(256,activation='relu'))"
      ],
      "metadata": {
        "id": "w9QihuV5PlNW"
      },
      "execution_count": null,
      "outputs": []
    },
    {
      "cell_type": "markdown",
      "source": [
        "增加第二個全連接層，這層有256個點，然後除了第一層以外其他都不用寫input_shape"
      ],
      "metadata": {
        "id": "tU3i4BlETDU-"
      }
    },
    {
      "cell_type": "code",
      "source": [
        "mymodel.add(layers.Dense(10,activation='softmax'))"
      ],
      "metadata": {
        "id": "3mnmVDwNP_Ii"
      },
      "execution_count": null,
      "outputs": []
    },
    {
      "cell_type": "markdown",
      "source": [
        "第三層為10個(輸出層)，啟動函式softmax是為了讓最後輸出的所有數值加起來等於1"
      ],
      "metadata": {
        "id": "gkLiIuuWTHII"
      }
    },
    {
      "cell_type": "code",
      "source": [
        "mymodel.compile(loss='categorical_crossentropy',optimizer='adam',metrics=['accuracy'])"
      ],
      "metadata": {
        "id": "UA-FdEkwQY5q"
      },
      "execution_count": null,
      "outputs": []
    },
    {
      "cell_type": "markdown",
      "source": [
        "compile函數把這些東西組起來定義損失函數(loss)(真實值和預測值要用甚麼東西去計算)=categorical_crossentropy和最佳化函數(optimizer)=adam，metrics是我們要他在運算時顯示甚麼東西=['accuracy']我們要它顯示正確率。"
      ],
      "metadata": {
        "id": "QIcUCD06Te6J"
      }
    },
    {
      "cell_type": "code",
      "source": [
        "x_train.reshape(-1,28*28)"
      ],
      "metadata": {
        "colab": {
          "base_uri": "https://localhost:8080/"
        },
        "id": "MqSjb8qVHE8B",
        "outputId": "c2bbd08f-3cd6-4dd5-c3f9-1ba0c0597e14"
      },
      "execution_count": null,
      "outputs": [
        {
          "output_type": "execute_result",
          "data": {
            "text/plain": [
              "array([[0, 0, 0, ..., 0, 0, 0],\n",
              "       [0, 0, 0, ..., 0, 0, 0],\n",
              "       [0, 0, 0, ..., 0, 0, 0],\n",
              "       ...,\n",
              "       [0, 0, 0, ..., 0, 0, 0],\n",
              "       [0, 0, 0, ..., 0, 0, 0],\n",
              "       [0, 0, 0, ..., 0, 0, 0]], dtype=uint8)"
            ]
          },
          "metadata": {},
          "execution_count": 31
        }
      ]
    },
    {
      "cell_type": "code",
      "source": [
        "mymodel.fit(x_train.reshape(-1,28*28),y_train,epochs=10,batch_size=128)"
      ],
      "metadata": {
        "id": "3nbxcfTbQ6VR"
      },
      "execution_count": null,
      "outputs": []
    },
    {
      "cell_type": "markdown",
      "source": [
        "訓練模型，x_train.reshape(-1,28*28)是因為我們要讓它等於一條一條(二維的，原本是三維)的資料才可以訓練，y_train之前已經改過了所以不用再改。batch_size=128是一次做128筆資料，y_train,epochs=10是全部要做10次。如果做完再做一次的話會是第11次、第12次...，就是說你在執行一次的話不是從頭訓練。"
      ],
      "metadata": {
        "id": "wsmN5LwrUbDO"
      }
    },
    {
      "cell_type": "code",
      "source": [
        "mymodel.summary()"
      ],
      "metadata": {
        "colab": {
          "base_uri": "https://localhost:8080/"
        },
        "id": "3FSVs_sF6Bf5",
        "outputId": "6d82f983-90d0-4b17-a9c6-65235274bd86"
      },
      "execution_count": null,
      "outputs": [
        {
          "output_type": "stream",
          "name": "stdout",
          "text": [
            "Model: \"sequential\"\n",
            "_________________________________________________________________\n",
            " Layer (type)                Output Shape              Param #   \n",
            "=================================================================\n",
            " dense (Dense)               (None, 512)               401920    \n",
            "                                                                 \n",
            " dense_1 (Dense)             (None, 256)               131328    \n",
            "                                                                 \n",
            " dense_2 (Dense)             (None, 10)                2570      \n",
            "                                                                 \n",
            "=================================================================\n",
            "Total params: 535,818\n",
            "Trainable params: 535,818\n",
            "Non-trainable params: 0\n",
            "_________________________________________________________________\n"
          ]
        }
      ]
    },
    {
      "cell_type": "markdown",
      "source": [
        "可以使用summary來看這個模型的結構"
      ],
      "metadata": {
        "id": "z5UJ_cKb5DZC"
      }
    },
    {
      "cell_type": "markdown",
      "source": [
        "#<font color = blue>4.預測"
      ],
      "metadata": {
        "id": "mZAzi2AC6Jio"
      }
    },
    {
      "cell_type": "code",
      "source": [
        "mypredict=mymodel.predict(x_test.reshape(-1,28*28))\n",
        "mypredict"
      ],
      "metadata": {
        "colab": {
          "base_uri": "https://localhost:8080/"
        },
        "id": "4mq7xGae6m_D",
        "outputId": "35b31ade-9d0b-4319-de74-0e339f1feeaf"
      },
      "execution_count": null,
      "outputs": [
        {
          "output_type": "execute_result",
          "data": {
            "text/plain": [
              "array([[3.3530816e-14, 4.4477022e-16, 7.9614995e-12, ..., 9.9999845e-01,\n",
              "        2.9485724e-13, 1.3507303e-09],\n",
              "       [4.8240925e-20, 1.7503460e-05, 9.9998248e-01, ..., 2.5461847e-20,\n",
              "        1.9325164e-22, 2.4581213e-21],\n",
              "       [2.1613799e-17, 9.9999976e-01, 3.7238879e-10, ..., 1.0908102e-09,\n",
              "        1.7841981e-07, 3.3076830e-09],\n",
              "       ...,\n",
              "       [0.0000000e+00, 0.0000000e+00, 0.0000000e+00, ..., 2.8160826e-23,\n",
              "        2.3634844e-32, 9.1680604e-21],\n",
              "       [3.6392293e-28, 1.2461014e-31, 0.0000000e+00, ..., 1.3270353e-38,\n",
              "        2.9147819e-20, 1.0514430e-37],\n",
              "       [1.5654264e-15, 2.3568069e-22, 7.3546484e-19, ..., 6.0131110e-36,\n",
              "        1.0864890e-21, 5.7610367e-38]], dtype=float32)"
            ]
          },
          "metadata": {},
          "execution_count": 25
        }
      ]
    },
    {
      "cell_type": "markdown",
      "source": [
        "要預測的話要和訓練的時候一樣把資料變成一條一條的。"
      ],
      "metadata": {
        "id": "VnVlxuFy65Qg"
      }
    },
    {
      "cell_type": "code",
      "source": [
        "y_test[1]"
      ],
      "metadata": {
        "colab": {
          "base_uri": "https://localhost:8080/"
        },
        "id": "43I_f6386_kB",
        "outputId": "bc093671-5df9-449d-e4e5-94ba0e895aab"
      },
      "execution_count": null,
      "outputs": [
        {
          "output_type": "execute_result",
          "data": {
            "text/plain": [
              "2"
            ]
          },
          "metadata": {},
          "execution_count": 26
        }
      ]
    },
    {
      "cell_type": "code",
      "source": [
        "y_test"
      ],
      "metadata": {
        "colab": {
          "base_uri": "https://localhost:8080/"
        },
        "id": "oY9TnvHuOxB7",
        "outputId": "386f9104-90f3-42df-89bd-ca7230b6e10c"
      },
      "execution_count": null,
      "outputs": [
        {
          "output_type": "execute_result",
          "data": {
            "text/plain": [
              "array([7, 2, 1, ..., 4, 5, 6], dtype=uint8)"
            ]
          },
          "metadata": {},
          "execution_count": 27
        }
      ]
    },
    {
      "cell_type": "code",
      "source": [
        "predict_class=np.argmax(mypredict,axis=1)\n",
        "predict_class"
      ],
      "metadata": {
        "colab": {
          "base_uri": "https://localhost:8080/"
        },
        "id": "ELfcPkwi7T1u",
        "outputId": "bb6ace8f-752b-48ff-ba48-212669f8b3c2"
      },
      "execution_count": null,
      "outputs": [
        {
          "output_type": "execute_result",
          "data": {
            "text/plain": [
              "array([7, 2, 1, ..., 4, 5, 6])"
            ]
          },
          "metadata": {},
          "execution_count": 28
        }
      ]
    },
    {
      "cell_type": "markdown",
      "source": [
        "\n",
        "使用np.argmax在陣列中找到最大的值，最大的值就是預測的答案，軸度是1(拆掉最外面外內一層的括號)"
      ],
      "metadata": {
        "id": "WjJw-kab79We"
      }
    },
    {
      "cell_type": "code",
      "source": [
        "predict_class != y_test"
      ],
      "metadata": {
        "colab": {
          "base_uri": "https://localhost:8080/"
        },
        "id": "UEAA7X-78Tko",
        "outputId": "a8c7bd43-19f9-4e92-9092-038f1b0c02a6"
      },
      "execution_count": null,
      "outputs": [
        {
          "output_type": "execute_result",
          "data": {
            "text/plain": [
              "array([False, False, False, ..., False, False, False])"
            ]
          },
          "metadata": {},
          "execution_count": 29
        }
      ]
    },
    {
      "cell_type": "markdown",
      "source": [
        "預測的答案如果不等於y_test的就是True(1)"
      ],
      "metadata": {
        "id": "HjkyZTmn8otF"
      }
    },
    {
      "cell_type": "code",
      "source": [
        "np.nonzero(predict_class != y_test)"
      ],
      "metadata": {
        "id": "4Kx3c5bD8x3w"
      },
      "execution_count": null,
      "outputs": []
    },
    {
      "cell_type": "markdown",
      "source": [
        "使用nonzero來找到預測與實際答案不符合的資料"
      ],
      "metadata": {
        "id": "0eqnIG4X89MT"
      }
    },
    {
      "cell_type": "code",
      "source": [
        "plt.imshow(x_test[104],cmap='Greys')"
      ],
      "metadata": {
        "colab": {
          "base_uri": "https://localhost:8080/",
          "height": 282
        },
        "id": "tvdmoBWsE76B",
        "outputId": "6d66c55d-a102-4477-8f6d-c27ae229399d"
      },
      "execution_count": null,
      "outputs": [
        {
          "output_type": "execute_result",
          "data": {
            "text/plain": [
              "<matplotlib.image.AxesImage at 0x7fe498cc6c50>"
            ]
          },
          "metadata": {},
          "execution_count": 31
        },
        {
          "output_type": "display_data",
          "data": {
            "text/plain": [
              "<Figure size 432x288 with 1 Axes>"
            ],
            "image/png": "[encoded data removed]"
          },
          "metadata": {
            "needs_background": "light"
          }
        }
      ]
    },
    {
      "cell_type": "code",
      "source": [
        "y_test[104]"
      ],
      "metadata": {
        "colab": {
          "base_uri": "https://localhost:8080/"
        },
        "id": "w2m5--tDE8Bb",
        "outputId": "6c179db7-fa5b-4a9a-ee38-4e90f2181bda"
      },
      "execution_count": null,
      "outputs": [
        {
          "output_type": "execute_result",
          "data": {
            "text/plain": [
              "9"
            ]
          },
          "metadata": {},
          "execution_count": 32
        }
      ]
    },
    {
      "cell_type": "code",
      "source": [
        "predict_class[104]"
      ],
      "metadata": {
        "colab": {
          "base_uri": "https://localhost:8080/"
        },
        "id": "t0MACiUoFfGS",
        "outputId": "213d38d0-56f4-4dd2-9564-0e0447ddcc04"
      },
      "execution_count": null,
      "outputs": [
        {
          "output_type": "execute_result",
          "data": {
            "text/plain": [
              "9"
            ]
          },
          "metadata": {},
          "execution_count": 33
        }
      ]
    },
    {
      "cell_type": "code",
      "source": [
        "1-np.count_nonzero(predict_class!=y_test)/10000"
      ],
      "metadata": {
        "colab": {
          "base_uri": "https://localhost:8080/"
        },
        "id": "f85thYejFjqj",
        "outputId": "84d2875c-84e7-46f9-d931-2eb10a3269af"
      },
      "execution_count": null,
      "outputs": [
        {
          "output_type": "execute_result",
          "data": {
            "text/plain": [
              "0.967"
            ]
          },
          "metadata": {},
          "execution_count": 34
        }
      ]
    },
    {
      "cell_type": "markdown",
      "source": [
        "1減掉nonzero找到的預測與實際答案不符合的資料然後用.count算答案不一樣的個數再除以10000(錯誤的機率)，就能算出正確的機率。\n"
      ],
      "metadata": {
        "id": "z544d54AGs8K"
      }
    },
    {
      "cell_type": "code",
      "source": [
        "y_test=to_categorical(y_test)"
      ],
      "metadata": {
        "id": "rPS_7r1qFy6B"
      },
      "execution_count": null,
      "outputs": []
    },
    {
      "cell_type": "markdown",
      "source": [
        "要先把y_test改成我們要的形式"
      ],
      "metadata": {
        "id": "49S_uiFVHMJr"
      }
    },
    {
      "cell_type": "code",
      "source": [
        "y_test"
      ],
      "metadata": {
        "colab": {
          "base_uri": "https://localhost:8080/"
        },
        "id": "wQ-HkmYsGWmX",
        "outputId": "f8100d8e-2ee3-4922-ee83-e67034a2c781"
      },
      "execution_count": null,
      "outputs": [
        {
          "output_type": "execute_result",
          "data": {
            "text/plain": [
              "array([[0., 0., 0., ..., 1., 0., 0.],\n",
              "       [0., 0., 1., ..., 0., 0., 0.],\n",
              "       [0., 1., 0., ..., 0., 0., 0.],\n",
              "       ...,\n",
              "       [0., 0., 0., ..., 0., 0., 0.],\n",
              "       [0., 0., 0., ..., 0., 0., 0.],\n",
              "       [0., 0., 0., ..., 0., 0., 0.]], dtype=float32)"
            ]
          },
          "metadata": {},
          "execution_count": 36
        }
      ]
    },
    {
      "cell_type": "code",
      "source": [
        "mymodel.evaluate(x_test.reshape(-1,28*28),y_test)"
      ],
      "metadata": {
        "colab": {
          "base_uri": "https://localhost:8080/"
        },
        "id": "2XKOxUfNF8Z2",
        "outputId": "9feb7ede-fde7-4754-93ce-c5ebf7e32070"
      },
      "execution_count": null,
      "outputs": [
        {
          "output_type": "stream",
          "name": "stdout",
          "text": [
            "313/313 [==============================] - 1s 3ms/step - loss: 0.1777 - accuracy: 0.9670\n"
          ]
        },
        {
          "output_type": "execute_result",
          "data": {
            "text/plain": [
              "[0.17765897512435913, 0.9670000076293945]"
            ]
          },
          "metadata": {},
          "execution_count": 37
        }
      ]
    },
    {
      "cell_type": "markdown",
      "source": [
        "使用.evaluate找到錯誤的機率與正確的機率。"
      ],
      "metadata": {
        "id": "V1etBaw1HSjQ"
      }
    },
    {
      "cell_type": "markdown",
      "source": [
        "#<font color = blue>5.模型的儲存"
      ],
      "metadata": {
        "id": "e0jDkCgyJlUS"
      }
    },
    {
      "cell_type": "code",
      "source": [
        "from google.colab import drive \n",
        "import os \n",
        "drive.mount('/content/gdrive',force_remount=True)\n",
        "os.chdir('/content/gdrive/MyDrive/AIclass/')"
      ],
      "metadata": {
        "colab": {
          "base_uri": "https://localhost:8080/",
          "height": 365
        },
        "id": "H5Nr2rj2JooO",
        "outputId": "5f31d3e3-5a63-423f-9a29-1412bc8c12d3"
      },
      "execution_count": null,
      "outputs": [
        {
          "output_type": "error",
          "ename": "MessageError",
          "evalue": "ignored",
          "traceback": [
            "\u001b[0;31m---------------------------------------------------------------------------\u001b[0m",
            "\u001b[0;31mMessageError\u001b[0m                              Traceback (most recent call last)",
            "\u001b[0;32m<ipython-input-38-301751b8334e>\u001b[0m in \u001b[0;36m<module>\u001b[0;34m()\u001b[0m\n\u001b[1;32m      1\u001b[0m \u001b[0;32mfrom\u001b[0m \u001b[0mgoogle\u001b[0m\u001b[0;34m.\u001b[0m\u001b[0mcolab\u001b[0m \u001b[0;32mimport\u001b[0m \u001b[0mdrive\u001b[0m\u001b[0;34m\u001b[0m\u001b[0;34m\u001b[0m\u001b[0m\n\u001b[1;32m      2\u001b[0m \u001b[0;32mimport\u001b[0m \u001b[0mos\u001b[0m\u001b[0;34m\u001b[0m\u001b[0;34m\u001b[0m\u001b[0m\n\u001b[0;32m----> 3\u001b[0;31m \u001b[0mdrive\u001b[0m\u001b[0;34m.\u001b[0m\u001b[0mmount\u001b[0m\u001b[0;34m(\u001b[0m\u001b[0;34m'/content/gdrive'\u001b[0m\u001b[0;34m,\u001b[0m\u001b[0mforce_remount\u001b[0m\u001b[0;34m=\u001b[0m\u001b[0;32mTrue\u001b[0m\u001b[0;34m)\u001b[0m\u001b[0;34m\u001b[0m\u001b[0;34m\u001b[0m\u001b[0m\n\u001b[0m\u001b[1;32m      4\u001b[0m \u001b[0mos\u001b[0m\u001b[0;34m.\u001b[0m\u001b[0mchdir\u001b[0m\u001b[0;34m(\u001b[0m\u001b[0;34m'/content/gdrive/MyDrive/AIclass/'\u001b[0m\u001b[0;34m)\u001b[0m\u001b[0;34m\u001b[0m\u001b[0;34m\u001b[0m\u001b[0m\n",
            "\u001b[0;32m/usr/local/lib/python3.7/dist-packages/google/colab/drive.py\u001b[0m in \u001b[0;36mmount\u001b[0;34m(mountpoint, force_remount, timeout_ms)\u001b[0m\n\u001b[1;32m    107\u001b[0m       \u001b[0mforce_remount\u001b[0m\u001b[0;34m=\u001b[0m\u001b[0mforce_remount\u001b[0m\u001b[0;34m,\u001b[0m\u001b[0;34m\u001b[0m\u001b[0;34m\u001b[0m\u001b[0m\n\u001b[1;32m    108\u001b[0m       \u001b[0mtimeout_ms\u001b[0m\u001b[0;34m=\u001b[0m\u001b[0mtimeout_ms\u001b[0m\u001b[0;34m,\u001b[0m\u001b[0;34m\u001b[0m\u001b[0;34m\u001b[0m\u001b[0m\n\u001b[0;32m--> 109\u001b[0;31m       ephemeral=True)\n\u001b[0m\u001b[1;32m    110\u001b[0m \u001b[0;34m\u001b[0m\u001b[0m\n\u001b[1;32m    111\u001b[0m \u001b[0;34m\u001b[0m\u001b[0m\n",
            "\u001b[0;32m/usr/local/lib/python3.7/dist-packages/google/colab/drive.py\u001b[0m in \u001b[0;36m_mount\u001b[0;34m(mountpoint, force_remount, timeout_ms, ephemeral)\u001b[0m\n\u001b[1;32m    122\u001b[0m   \u001b[0;32mif\u001b[0m \u001b[0mephemeral\u001b[0m\u001b[0;34m:\u001b[0m\u001b[0;34m\u001b[0m\u001b[0;34m\u001b[0m\u001b[0m\n\u001b[1;32m    123\u001b[0m     _message.blocking_request(\n\u001b[0;32m--> 124\u001b[0;31m         'request_auth', request={'authType': 'dfs_ephemeral'}, timeout_sec=None)\n\u001b[0m\u001b[1;32m    125\u001b[0m \u001b[0;34m\u001b[0m\u001b[0m\n\u001b[1;32m    126\u001b[0m   \u001b[0mmountpoint\u001b[0m \u001b[0;34m=\u001b[0m \u001b[0m_os\u001b[0m\u001b[0;34m.\u001b[0m\u001b[0mpath\u001b[0m\u001b[0;34m.\u001b[0m\u001b[0mexpanduser\u001b[0m\u001b[0;34m(\u001b[0m\u001b[0mmountpoint\u001b[0m\u001b[0;34m)\u001b[0m\u001b[0;34m\u001b[0m\u001b[0;34m\u001b[0m\u001b[0m\n",
            "\u001b[0;32m/usr/local/lib/python3.7/dist-packages/google/colab/_message.py\u001b[0m in \u001b[0;36mblocking_request\u001b[0;34m(request_type, request, timeout_sec, parent)\u001b[0m\n\u001b[1;32m    173\u001b[0m   request_id = send_request(\n\u001b[1;32m    174\u001b[0m       request_type, request, parent=parent, expect_reply=True)\n\u001b[0;32m--> 175\u001b[0;31m   \u001b[0;32mreturn\u001b[0m \u001b[0mread_reply_from_input\u001b[0m\u001b[0;34m(\u001b[0m\u001b[0mrequest_id\u001b[0m\u001b[0;34m,\u001b[0m \u001b[0mtimeout_sec\u001b[0m\u001b[0;34m)\u001b[0m\u001b[0;34m\u001b[0m\u001b[0;34m\u001b[0m\u001b[0m\n\u001b[0m",
            "\u001b[0;32m/usr/local/lib/python3.7/dist-packages/google/colab/_message.py\u001b[0m in \u001b[0;36mread_reply_from_input\u001b[0;34m(message_id, timeout_sec)\u001b[0m\n\u001b[1;32m    104\u001b[0m         reply.get('colab_msg_id') == message_id):\n\u001b[1;32m    105\u001b[0m       \u001b[0;32mif\u001b[0m \u001b[0;34m'error'\u001b[0m \u001b[0;32min\u001b[0m \u001b[0mreply\u001b[0m\u001b[0;34m:\u001b[0m\u001b[0;34m\u001b[0m\u001b[0;34m\u001b[0m\u001b[0m\n\u001b[0;32m--> 106\u001b[0;31m         \u001b[0;32mraise\u001b[0m \u001b[0mMessageError\u001b[0m\u001b[0;34m(\u001b[0m\u001b[0mreply\u001b[0m\u001b[0;34m[\u001b[0m\u001b[0;34m'error'\u001b[0m\u001b[0;34m]\u001b[0m\u001b[0;34m)\u001b[0m\u001b[0;34m\u001b[0m\u001b[0;34m\u001b[0m\u001b[0m\n\u001b[0m\u001b[1;32m    107\u001b[0m       \u001b[0;32mreturn\u001b[0m \u001b[0mreply\u001b[0m\u001b[0;34m.\u001b[0m\u001b[0mget\u001b[0m\u001b[0;34m(\u001b[0m\u001b[0;34m'data'\u001b[0m\u001b[0;34m,\u001b[0m \u001b[0;32mNone\u001b[0m\u001b[0;34m)\u001b[0m\u001b[0;34m\u001b[0m\u001b[0;34m\u001b[0m\u001b[0m\n\u001b[1;32m    108\u001b[0m \u001b[0;34m\u001b[0m\u001b[0m\n",
            "\u001b[0;31mMessageError\u001b[0m: Error: credential propagation was unsuccessful"
          ]
        }
      ]
    },
    {
      "cell_type": "markdown",
      "source": [
        "先跟雲端硬碟連線"
      ],
      "metadata": {
        "id": "YltePH8GO7gd"
      }
    },
    {
      "cell_type": "code",
      "source": [
        "mymodel.save('abc.h5')"
      ],
      "metadata": {
        "id": "h_R2UTq_Ladn"
      },
      "execution_count": null,
      "outputs": []
    },
    {
      "cell_type": "markdown",
      "source": [
        "然後把mymodel儲存到雲端硬碟並取名為abc.h5"
      ],
      "metadata": {
        "id": "Ve4B9YxzPABX"
      }
    }
  ]
}